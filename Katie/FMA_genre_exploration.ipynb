{
 "metadata": {
  "language_info": {
   "codemirror_mode": {
    "name": "ipython",
    "version": 3
   },
   "file_extension": ".py",
   "mimetype": "text/x-python",
   "name": "python",
   "nbconvert_exporter": "python",
   "pygments_lexer": "ipython3",
   "version": "3.9.1-final"
  },
  "orig_nbformat": 2,
  "kernelspec": {
   "name": "python3",
   "display_name": "Python 3",
   "language": "python"
  }
 },
 "nbformat": 4,
 "nbformat_minor": 2,
 "cells": [
  {
   "cell_type": "code",
   "execution_count": 1,
   "metadata": {},
   "outputs": [],
   "source": [
    "import pandas as pd\n",
    "from pathlib import Path\n",
    "import eyed3\n",
    "import os\n",
    "from config import *\n",
    "\n",
    "eyed3.log.setLevel(\"ERROR\")\n",
    "\n",
    "notebook_path = os.path.abspath(\"./\")\n"
   ]
  },
  {
   "cell_type": "code",
   "execution_count": 2,
   "metadata": {},
   "outputs": [],
   "source": [
    "def make_file_list(root_dir):\n",
    "    '''given a directory, loops through folders and files and return list of files paths\n",
    "        and file names'''\n",
    "    path_list = []\n",
    "    for subdir, dirs, files in os.walk(root_dir):\n",
    "        path_list = [os.path.join(subdir, file) for file in files if file.endswith(('.mp3', '.wav'))]\n",
    "\n",
    "    return path_list\n",
    "\n",
    "def get_genre_id(genre_dict_list):\n",
    "    return genre_dict_list[0]['genre_id']\n",
    "\n",
    "def id_to_int(val):\n",
    "    return int(val)"
   ]
  },
  {
   "cell_type": "code",
   "execution_count": 17,
   "metadata": {},
   "outputs": [
    {
     "output_type": "stream",
     "name": "stdout",
     "text": [
      "/Users/katie/code/capstone/Music_Genre_Classification/Katie/fma_metadata\n"
     ]
    }
   ],
   "source": [
    "metadata = notebook_path + \"/Katie/fma_metadata\"\n",
    "os.chdir(metadata)\n",
    "!pwd\n",
    "\n",
    "genres_df = pd.read_csv('genres.csv')\n",
    "tracks_df = pd.read_csv('raw_tracks.csv')"
   ]
  },
  {
   "cell_type": "code",
   "execution_count": 18,
   "metadata": {},
   "outputs": [],
   "source": [
    "# drop rows missing the 'genre' value\n",
    "tracks_df = tracks_df[tracks_df['track_genres'].notna()]\n",
    "\n",
    "# string conversion to list of genre dictionaries\n",
    "tracks_df['track_genres'] = tracks_df['track_genres'].apply(eval)\n",
    "\n",
    "# assign primary genre classification id, then make an int\n",
    "tracks_df['genre_ids'] = tracks_df['track_genres'].apply(get_genre_id)\n",
    "\n",
    "# convert IDs to ints for comparisons\n",
    "tracks_df['genre_ids'] = tracks_df['genre_ids'].apply(id_to_int)\n",
    "tracks_df['track_id'] = tracks_df['track_id'].apply(id_to_int)"
   ]
  },
  {
   "cell_type": "code",
   "execution_count": 19,
   "metadata": {},
   "outputs": [],
   "source": [
    "# dictionaries for top-level genre lookup from ID values\n",
    "genre_lookup = genres_df.set_index('genre_id').to_dict()['title']\n",
    "id_lookup = genres_df.set_index('title').to_dict()['genre_id']\n",
    "\n",
    "# if we ever want everything under only a few genres\n",
    "# key = current genre, value = parent genre\n",
    "parent_lookup = genres_df.set_index('genre_id').to_dict()['top_level']"
   ]
  },
  {
   "cell_type": "code",
   "execution_count": 20,
   "metadata": {},
   "outputs": [],
   "source": [
    "# all genres for songs\n",
    "genre_ids = genres_df['genre_id'].to_list()\n",
    "all_genres = genres_df['title'].to_list()\n",
    "\n",
    "# when a genre has no parent, it is top-level\n",
    "top_genres = genres_df[genres_df['parent'] == 0]['title'].to_list()"
   ]
  },
  {
   "cell_type": "code",
   "execution_count": 21,
   "metadata": {},
   "outputs": [
    {
     "output_type": "stream",
     "name": "stdout",
     "text": [
      "{'International': ['International', 'Latin America', 'French', 'Reggae - Dub', 'Afrobeat', 'Indian', 'African', 'Middle East', 'Polka', 'Balkan', 'Europe', 'Brazilian', 'Asia-Far East', 'N. Indian Traditional', 'South Indian Traditional', 'Bollywood', 'Pacific', 'Celtic', 'North African', 'Flamenco', 'Cumbia', 'Latin', 'Romany (Gypsy)', 'Reggae - Dancehall', 'Spanish', 'Klezmer', 'Salsa', 'Turkish', 'Tango', 'Fado'], 'Blues': ['Blues', 'Gospel'], 'Jazz': ['Jazz', 'Jazz: Vocal', 'Free-Jazz', 'Jazz: Out', 'Be-Bop', 'Big Band/Swing', 'Modern Jazz'], 'Classical': ['Classical', '20th Century Classical', 'Composed Music', 'Opera', 'Chamber Music', 'Choral Music', 'Symphony', 'Contemporary Classical'], 'Old-Time / Historic': ['Old-Time / Historic'], 'Country': ['Country', 'Bluegrass', 'Americana', 'Rockabilly', 'Western Swing', 'Country & Western'], 'Pop': ['Pop', 'Experimental Pop', 'Synth Pop'], 'Rock': ['Rock', 'Punk', 'Post-Rock', 'Lo-Fi', 'Metal', 'Krautrock', 'Loud-Rock', 'Noise-Rock', 'Psych-Rock', 'Electro-Punk', 'Indie-Rock', 'Industrial', 'No Wave', 'Garage', 'New Wave', 'Post-Punk', 'Sludge', 'Progressive', 'Death-Metal', 'Hardcore', 'Power-Pop', 'Space-Rock', 'Black-Metal', 'Goth', 'Shoegaze', 'Thrash', 'Surf', 'Grindcore', 'Rock Opera'], 'Easy Listening': ['Easy Listening', 'Easy Listening: Vocal', 'Lounge', 'Nu-Jazz'], 'Soul-RnB': ['Disco', 'Soul-RnB', 'Funk', 'Deep Funk'], 'Electronic': ['Electronic', 'Ambient Electronic', 'Techno', 'House', 'Glitch', 'Minimal Electronic', 'Breakcore - Hard', 'IDM', 'Chiptune', 'Trip-Hop', 'Dance', 'Chip Music', 'Drum & Bass', 'Chill-out', 'Bigbeat', 'Dubstep', 'Skweee', 'Downtempo', 'Jungle'], 'Folk': ['Folk', 'Psych-Folk', 'Free-Folk', 'Freak-Folk', 'Singer-Songwriter', 'British Folk'], 'Spoken': ['Comedy', 'Spoken', 'Radio Art', 'Radio', 'Spoken Weird', 'Interview', 'Poetry', 'Talk Radio', 'Banter', 'Spoken Word', 'Radio Theater', 'Musical Theater'], 'Hip-Hop': ['Hip-Hop', 'Nerdcore', 'Alternative Hip-Hop', 'Rap', 'Breakbeat', 'Abstract Hip-Hop', 'Wonky', 'Hip-Hop Beats'], 'Experimental': ['Avant-Garde', 'Novelty', 'Sound Effects', 'Audio Collage', 'Field Recordings', 'Noise', 'Experimental', 'Electroacoustic', 'Drone', 'Unclassifiable', 'Sound Poetry', 'Sound Collage', 'Musique Concrete', 'Improv', 'Kid-Friendly', 'Minimalism', 'Sound Art', 'Holiday', 'Christmas'], 'Instrumental': ['Soundtrack', 'Ambient', 'New Age', 'Compilation', 'Instrumental']}\n"
     ]
    }
   ],
   "source": [
    "# make dict of top genres\n",
    "genre_children = {}\n",
    "\n",
    "for genre in top_genres:\n",
    "    genre_children[genre] = []\n",
    "\n",
    "# add child genres to lists in dict\n",
    "for genre_id in genre_ids:\n",
    "    genre = genre_lookup[genre_id]\n",
    "    parent = genre_lookup[parent_lookup[genre_id]]\n",
    "    genre_children[parent].append(genre)\n",
    "\n",
    "# print(genre_children)"
   ]
  },
  {
   "cell_type": "code",
   "execution_count": 8,
   "metadata": {},
   "outputs": [
    {
     "output_type": "stream",
     "name": "stdout",
     "text": [
      "International :  ['International', 'Latin America', 'French', 'Reggae - Dub', 'Afrobeat', 'Indian', 'African', 'Middle East', 'Polka', 'Balkan', 'Europe', 'Brazilian', 'Asia-Far East', 'N. Indian Traditional', 'South Indian Traditional', 'Bollywood', 'Pacific', 'Celtic', 'North African', 'Flamenco', 'Cumbia', 'Latin', 'Romany (Gypsy)', 'Reggae - Dancehall', 'Spanish', 'Klezmer', 'Salsa', 'Turkish', 'Tango', 'Fado'] \n\nBlues :  ['Blues', 'Gospel'] \n\nJazz :  ['Jazz', 'Jazz: Vocal', 'Free-Jazz', 'Jazz: Out', 'Be-Bop', 'Big Band/Swing', 'Modern Jazz'] \n\nClassical :  ['Classical', '20th Century Classical', 'Composed Music', 'Opera', 'Chamber Music', 'Choral Music', 'Symphony', 'Contemporary Classical'] \n\nOld-Time / Historic :  ['Old-Time / Historic'] \n\nCountry :  ['Country', 'Bluegrass', 'Americana', 'Rockabilly', 'Western Swing', 'Country & Western'] \n\nPop :  ['Pop', 'Experimental Pop', 'Synth Pop'] \n\nRock :  ['Rock', 'Punk', 'Post-Rock', 'Lo-Fi', 'Metal', 'Krautrock', 'Loud-Rock', 'Noise-Rock', 'Psych-Rock', 'Electro-Punk', 'Indie-Rock', 'Industrial', 'No Wave', 'Garage', 'New Wave', 'Post-Punk', 'Sludge', 'Progressive', 'Death-Metal', 'Hardcore', 'Power-Pop', 'Space-Rock', 'Black-Metal', 'Goth', 'Shoegaze', 'Thrash', 'Surf', 'Grindcore', 'Rock Opera'] \n\nEasy Listening :  ['Easy Listening', 'Easy Listening: Vocal', 'Lounge', 'Nu-Jazz'] \n\nSoul-RnB :  ['Disco', 'Soul-RnB', 'Funk', 'Deep Funk'] \n\nElectronic :  ['Electronic', 'Ambient Electronic', 'Techno', 'House', 'Glitch', 'Minimal Electronic', 'Breakcore - Hard', 'IDM', 'Chiptune', 'Trip-Hop', 'Dance', 'Chip Music', 'Drum & Bass', 'Chill-out', 'Bigbeat', 'Dubstep', 'Skweee', 'Downtempo', 'Jungle'] \n\nFolk :  ['Folk', 'Psych-Folk', 'Free-Folk', 'Freak-Folk', 'Singer-Songwriter', 'British Folk'] \n\nSpoken :  ['Comedy', 'Spoken', 'Radio Art', 'Radio', 'Spoken Weird', 'Interview', 'Poetry', 'Talk Radio', 'Banter', 'Spoken Word', 'Radio Theater', 'Musical Theater'] \n\nHip-Hop :  ['Hip-Hop', 'Nerdcore', 'Alternative Hip-Hop', 'Rap', 'Breakbeat', 'Abstract Hip-Hop', 'Wonky', 'Hip-Hop Beats'] \n\nExperimental :  ['Avant-Garde', 'Novelty', 'Sound Effects', 'Audio Collage', 'Field Recordings', 'Noise', 'Experimental', 'Electroacoustic', 'Drone', 'Unclassifiable', 'Sound Poetry', 'Sound Collage', 'Musique Concrete', 'Improv', 'Kid-Friendly', 'Minimalism', 'Sound Art', 'Holiday', 'Christmas'] \n\nInstrumental :  ['Soundtrack', 'Ambient', 'New Age', 'Compilation', 'Instrumental'] \n\n"
     ]
    }
   ],
   "source": [
    "for genre in top_genres:\n",
    "    print(genre, \": \", genre_children[genre], \"\\n\")"
   ]
  },
  {
   "cell_type": "code",
   "execution_count": 24,
   "metadata": {},
   "outputs": [
    {
     "output_type": "stream",
     "name": "stdout",
     "text": [
      "/Users/katie/code/capstone/Music_Genre_Classification\\genres\n[]\n"
     ]
    }
   ],
   "source": [
    "# get songs to count genres\n",
    "root_dir = notebook_path + \"/genres\"\n",
    "print(root_dir)\n",
    "song_paths = make_file_list(root_dir)\n",
    "print(song_paths)"
   ]
  },
  {
   "cell_type": "code",
   "execution_count": 15,
   "metadata": {},
   "outputs": [
    {
     "output_type": "stream",
     "name": "stdout",
     "text": [
      "{'Avant-Garde': 0, 'International': 0, 'Blues': 0, 'Jazz': 0, 'Classical': 0, 'Novelty': 0, 'Comedy': 0, 'Old-Time / Historic': 0, 'Country': 0, 'Pop': 0, 'Disco': 0, 'Rock': 0, 'Easy Listening': 0, 'Soul-RnB': 0, 'Electronic': 0, 'Sound Effects': 0, 'Folk': 0, 'Soundtrack': 0, 'Funk': 0, 'Spoken': 0, 'Hip-Hop': 0, 'Audio Collage': 0, 'Punk': 0, 'Post-Rock': 0, 'Lo-Fi': 0, 'Field Recordings': 0, 'Metal': 0, 'Noise': 0, 'Psych-Folk': 0, 'Krautrock': 0, 'Jazz: Vocal': 0, 'Experimental': 0, 'Electroacoustic': 0, 'Ambient Electronic': 0, 'Radio Art': 0, 'Loud-Rock': 0, 'Latin America': 0, 'Drone': 0, 'Free-Folk': 0, 'Noise-Rock': 0, 'Psych-Rock': 0, 'Bluegrass': 0, 'Electro-Punk': 0, 'Radio': 0, 'Indie-Rock': 0, 'Industrial': 0, 'No Wave': 0, 'Free-Jazz': 0, 'Experimental Pop': 0, 'French': 0, 'Reggae - Dub': 0, 'Afrobeat': 0, 'Nerdcore': 0, 'Garage': 0, 'Indian': 0, 'New Wave': 0, 'Post-Punk': 0, 'Sludge': 0, 'African': 0, 'Freak-Folk': 0, 'Jazz: Out': 0, 'Progressive': 0, 'Alternative Hip-Hop': 0, 'Death-Metal': 0, 'Middle East': 0, 'Singer-Songwriter': 0, 'Ambient': 0, 'Hardcore': 0, 'Power-Pop': 0, 'Space-Rock': 0, 'Polka': 0, 'Balkan': 0, 'Unclassifiable': 0, 'Europe': 0, 'Americana': 0, 'Spoken Weird': 0, 'Interview': 0, 'Black-Metal': 0, 'Rockabilly': 0, 'Easy Listening: Vocal': 0, 'Brazilian': 0, 'Asia-Far East': 0, 'N. Indian Traditional': 0, 'South Indian Traditional': 0, 'Bollywood': 0, 'Pacific': 0, 'Celtic': 0, 'Be-Bop': 0, 'Big Band/Swing': 0, 'British Folk': 0, 'Techno': 0, 'House': 0, 'Glitch': 0, 'Minimal Electronic': 0, 'Breakcore - Hard': 0, 'Sound Poetry': 0, '20th Century Classical': 0, 'Poetry': 0, 'Talk Radio': 0, 'North African': 0, 'Sound Collage': 0, 'Flamenco': 0, 'IDM': 0, 'Chiptune': 0, 'Musique Concrete': 0, 'Improv': 0, 'New Age': 0, 'Trip-Hop': 0, 'Dance': 0, 'Chip Music': 0, 'Lounge': 0, 'Goth': 0, 'Composed Music': 0, 'Drum & Bass': 0, 'Shoegaze': 0, 'Kid-Friendly': 0, 'Thrash': 0, 'Synth Pop': 0, 'Banter': 0, 'Deep Funk': 0, 'Spoken Word': 0, 'Chill-out': 0, 'Bigbeat': 0, 'Surf': 0, 'Radio Theater': 0, 'Grindcore': 0, 'Rock Opera': 0, 'Opera': 0, 'Chamber Music': 0, 'Choral Music': 0, 'Symphony': 0, 'Minimalism': 0, 'Musical Theater': 0, 'Dubstep': 0, 'Skweee': 0, 'Western Swing': 0, 'Downtempo': 0, 'Cumbia': 0, 'Latin': 0, 'Sound Art': 0, 'Romany (Gypsy)': 0, 'Compilation': 0, 'Rap': 0, 'Breakbeat': 0, 'Gospel': 0, 'Abstract Hip-Hop': 0, 'Reggae - Dancehall': 0, 'Spanish': 0, 'Country & Western': 0, 'Contemporary Classical': 0, 'Wonky': 0, 'Jungle': 0, 'Klezmer': 0, 'Holiday': 0, 'Salsa': 0, 'Nu-Jazz': 0, 'Hip-Hop Beats': 0, 'Modern Jazz': 0, 'Turkish': 0, 'Tango': 0, 'Fado': 0, 'Christmas': 0, 'Instrumental': 0}\n"
     ]
    }
   ],
   "source": [
    "# dict for number of songs under each genre from sample set\n",
    "genre_counts = {}\n",
    "for genre in all_genres:\n",
    "    genre_counts[genre] = 0\n",
    "\n",
    "top_counts = {}\n",
    "for genre in top_genres:\n",
    "    top_counts[genre] = 0\n",
    "\n",
    "# start counting genres\n",
    "for i in range(len(song_paths)):\n",
    "    # load audio file\n",
    "    audiofile = eyed3.load(song_paths[i])\n",
    "    filename = song_paths[i][-10:]\n",
    "\n",
    "    # get genre and strip genre ID\n",
    "    song_genre = str(audiofile.tag.genre)\n",
    "    # will either be 0 or idx after (id)\n",
    "    end = song_genre.find(')') + 1\n",
    "    # for Romany(gypsy) genre\n",
    "    if end == len(song_genre):\n",
    "        end = 0\n",
    "    song_genre = song_genre[end:]\n",
    "\n",
    "    # track number of songs for each genre\n",
    "    genre_counts[song_genre] += 1\n",
    "    # change to top-level genre\n",
    "    song_genre = genre_lookup[parent_lookup[id_lookup[song_genre]]]\n",
    "    top_counts[song_genre] += 1\n",
    "print(genre_counts)"
   ]
  },
  {
   "cell_type": "code",
   "execution_count": 14,
   "metadata": {},
   "outputs": [
    {
     "output_type": "stream",
     "name": "stdout",
     "text": [
      "0\n[]\nInternational : 0\nBlues : 0\nJazz : 0\nClassical : 0\nOld-Time / Historic : 0\nCountry : 0\nPop : 0\nRock : 0\nEasy Listening : 0\nSoul-RnB : 0\nElectronic : 0\nFolk : 0\nSpoken : 0\nHip-Hop : 0\nExperimental : 0\nInstrumental : 0\n"
     ]
    }
   ],
   "source": [
    "# just get genres that are present in sample\n",
    "non_zero_genres = [(key, value) for key, value in genre_counts.items() if int(value) > 0]\n",
    "\n",
    "total = 0\n",
    "for g in non_zero_genres:\n",
    "    total += g[1]\n",
    "print(total)\n",
    "# sort in descending order\n",
    "non_zero_genres.sort(key=lambda x: x[1], reverse=True)\n",
    "print(non_zero_genres)\n",
    "\n",
    "for genre in top_counts:\n",
    "    print(genre,\":\", top_counts[genre])"
   ]
  },
  {
   "cell_type": "code",
   "execution_count": null,
   "metadata": {},
   "outputs": [],
   "source": []
  }
 ]
}