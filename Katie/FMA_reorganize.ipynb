{
 "metadata": {
  "language_info": {
   "codemirror_mode": {
    "name": "ipython",
    "version": 3
   },
   "file_extension": ".py",
   "mimetype": "text/x-python",
   "name": "python",
   "nbconvert_exporter": "python",
   "pygments_lexer": "ipython3",
   "version": "3.9.1-final"
  },
  "orig_nbformat": 2,
  "kernelspec": {
   "name": "python3",
   "display_name": "Python 3",
   "language": "python"
  }
 },
 "nbformat": 4,
 "nbformat_minor": 2,
 "cells": [
  {
   "cell_type": "code",
   "execution_count": 1,
   "metadata": {},
   "outputs": [],
   "source": [
    "import pandas as pd\n",
    "from pathlib import Path\n",
    "import eyed3\n",
    "import os\n",
    "from config import *\n",
    "\n",
    "notebook_path = os.path.abspath(\"./\")\n",
    "\n",
    "eyed3.log.setLevel(\"ERROR\")"
   ]
  },
  {
   "cell_type": "code",
   "execution_count": 2,
   "metadata": {},
   "outputs": [],
   "source": [
    "def make_file_list(root_dir):\n",
    "    '''given a directory, loops through folders and files and return list of files paths\n",
    "        and file names'''\n",
    "    path_list = []\n",
    "    for subdir, dirs, files in os.walk(root_dir):\n",
    "        for file in files:\n",
    "            if file.endswith(('.mp3', '.wav')):\n",
    "                path_list.append(os.path.join(subdir, file))\n",
    "            else:\n",
    "                print('does not')\n",
    "        #path_list = [os.path.join(subdir, file) for file in files if file.endswith(('.mp3', '.wav'))]\n",
    "    return path_list\n",
    "\n",
    "def get_genre_id(genre_dict_list):\n",
    "    return genre_dict_list[0]['genre_id']\n",
    "\n",
    "def id_to_int(val):\n",
    "    return int(val)\n"
   ]
  },
  {
   "cell_type": "code",
   "execution_count": 3,
   "metadata": {},
   "outputs": [
    {
     "output_type": "stream",
     "name": "stdout",
     "text": [
      "/Users/katie/code/capstone/Music_Genre_Classification/Katie/fma_metadata\n"
     ]
    }
   ],
   "source": [
    "metadata = notebook_path + \"/fma_metadata\"\n",
    "os.chdir(metadata)\n",
    "!pwd\n",
    "genres_df = pd.read_csv('genres.csv')\n",
    "tracks_df = pd.read_csv('raw_tracks.csv')"
   ]
  },
  {
   "cell_type": "code",
   "execution_count": 4,
   "metadata": {},
   "outputs": [],
   "source": [
    "# drop rows missing the 'genre' value\n",
    "tracks_df = tracks_df[tracks_df['track_genres'].notna()]\n",
    "\n",
    "# string conversion to list of genre dictionaries\n",
    "tracks_df['track_genres'] = tracks_df['track_genres'].apply(eval)\n",
    "\n",
    "# assign primary genre classification id, then make an int\n",
    "tracks_df['genre_ids'] = tracks_df['track_genres'].apply(get_genre_id)\n",
    "\n",
    "# convert IDs to ints for comparisons\n",
    "tracks_df['genre_ids'] = tracks_df['genre_ids'].apply(id_to_int)\n",
    "tracks_df['track_id'] = tracks_df['track_id'].apply(id_to_int)\n",
    "\n"
   ]
  },
  {
   "cell_type": "code",
   "execution_count": 5,
   "metadata": {},
   "outputs": [],
   "source": [
    "# dictionaries for top-level genre lookup from ID values\n",
    "genre_lookup = genres_df.set_index('genre_id').to_dict()['title']\n",
    "id_lookup = genres_df.set_index('title').to_dict()['genre_id']\n",
    "\n",
    "# if we ever want everything under only a few genres\n",
    "# key = current genre, value = parent genre\n",
    "parent_lookup = genres_df.set_index('genre_id').to_dict()['top_level']\n",
    "\n",
    "# when a genre has no parent, it is top-level\n",
    "top_genres = genres_df[genres_df['parent'] == 0]['title'].to_list()"
   ]
  },
  {
   "cell_type": "code",
   "execution_count": 7,
   "metadata": {},
   "outputs": [],
   "source": [
    "# get songs to count genres\n",
    "root_dir = notebook_path + \"/fma_small\"\n",
    "\n",
    "song_paths = make_file_list(root_dir)"
   ]
  },
  {
   "cell_type": "code",
   "execution_count": 8,
   "metadata": {
    "tags": [
     "outputPrepend"
    ]
   },
   "outputs": [
    {
     "output_type": "stream",
     "name": "stdout",
     "text": [
      "_small/114/114393.mp3', '/Users/katie/code/capstone/Music_Genre_Classification/Katie/fma_small/114/114556.mp3', '/Users/katie/code/capstone/Music_Genre_Classification/Katie/fma_small/114/114232.mp3', '/Users/katie/code/capstone/Music_Genre_Classification/Katie/fma_small/114/114385.mp3', '/Users/katie/code/capstone/Music_Genre_Classification/Katie/fma_small/114/114391.mp3', '/Users/katie/code/capstone/Music_Genre_Classification/Katie/fma_small/114/114408.mp3', '/Users/katie/code/capstone/Music_Genre_Classification/Katie/fma_small/114/114409.mp3', '/Users/katie/code/capstone/Music_Genre_Classification/Katie/fma_small/114/114390.mp3', '/Users/katie/code/capstone/Music_Genre_Classification/Katie/fma_small/114/114384.mp3', '/Users/katie/code/capstone/Music_Genre_Classification/Katie/fma_small/114/114541.mp3', '/Users/katie/code/capstone/Music_Genre_Classification/Katie/fma_small/114/114233.mp3', '/Users/katie/code/capstone/Music_Genre_Classification/Katie/fma_small/114/114974.mp3', '/Users/katie/code/capstone/Music_Genre_Classification/Katie/fma_small/114/114237.mp3', '/Users/katie/code/capstone/Music_Genre_Classification/Katie/fma_small/114/114545.mp3', '/Users/katie/code/capstone/Music_Genre_Classification/Katie/fma_small/114/114223.mp3', '/Users/katie/code/capstone/Music_Genre_Classification/Katie/fma_small/114/114430.mp3', '/Users/katie/code/capstone/Music_Genre_Classification/Katie/fma_small/114/114395.mp3', '/Users/katie/code/capstone/Music_Genre_Classification/Katie/fma_small/114/114544.mp3', '/Users/katie/code/capstone/Music_Genre_Classification/Katie/fma_small/114/114222.mp3', '/Users/katie/code/capstone/Music_Genre_Classification/Katie/fma_small/114/114236.mp3', '/Users/katie/code/capstone/Music_Genre_Classification/Katie/fma_small/114/114036.mp3', '/Users/katie/code/capstone/Music_Genre_Classification/Katie/fma_small/114/114234.mp3', '/Users/katie/code/capstone/Music_Genre_Classification/Katie/fma_small/114/114397.mp3', '/Users/katie/code/capstone/Music_Genre_Classification/Katie/fma_small/114/114396.mp3', '/Users/katie/code/capstone/Music_Genre_Classification/Katie/fma_small/114/114235.mp3', '/Users/katie/code/capstone/Music_Genre_Classification/Katie/fma_small/114/114037.mp3', '/Users/katie/code/capstone/Music_Genre_Classification/Katie/fma_small/114/114976.mp3', '/Users/katie/code/capstone/Music_Genre_Classification/Katie/fma_small/114/114939.mp3', '/Users/katie/code/capstone/Music_Genre_Classification/Katie/fma_small/114/114044.mp3', '/Users/katie/code/capstone/Music_Genre_Classification/Katie/fma_small/114/114050.mp3', '/Users/katie/code/capstone/Music_Genre_Classification/Katie/fma_small/114/114291.mp3', '/Users/katie/code/capstone/Music_Genre_Classification/Katie/fma_small/114/114534.mp3', '/Users/katie/code/capstone/Music_Genre_Classification/Katie/fma_small/114/114535.mp3', '/Users/katie/code/capstone/Music_Genre_Classification/Katie/fma_small/114/114290.mp3', '/Users/katie/code/capstone/Music_Genre_Classification/Katie/fma_small/114/114051.mp3', '/Users/katie/code/capstone/Music_Genre_Classification/Katie/fma_small/114/114045.mp3', '/Users/katie/code/capstone/Music_Genre_Classification/Katie/fma_small/114/114938.mp3', '/Users/katie/code/capstone/Music_Genre_Classification/Katie/fma_small/114/114047.mp3', '/Users/katie/code/capstone/Music_Genre_Classification/Katie/fma_small/114/114292.mp3', '/Users/katie/code/capstone/Music_Genre_Classification/Katie/fma_small/114/114245.mp3', '/Users/katie/code/capstone/Music_Genre_Classification/Katie/fma_small/114/114279.mp3', '/Users/katie/code/capstone/Music_Genre_Classification/Katie/fma_small/114/114536.mp3', '/Users/katie/code/capstone/Music_Genre_Classification/Katie/fma_small/114/114293.mp3', '/Users/katie/code/capstone/Music_Genre_Classification/Katie/fma_small/114/114042.mp3', '/Users/katie/code/capstone/Music_Genre_Classification/Katie/fma_small/114/114297.mp3', '/Users/katie/code/capstone/Music_Genre_Classification/Katie/fma_small/114/114283.mp3', '/Users/katie/code/capstone/Music_Genre_Classification/Katie/fma_small/114/114268.mp3', '/Users/katie/code/capstone/Music_Genre_Classification/Katie/fma_small/114/114532.mp3', '/Users/katie/code/capstone/Music_Genre_Classification/Katie/fma_small/114/114533.mp3', '/Users/katie/code/capstone/Music_Genre_Classification/Katie/fma_small/114/114282.mp3', '/Users/katie/code/capstone/Music_Genre_Classification/Katie/fma_small/114/114296.mp3', '/Users/katie/code/capstone/Music_Genre_Classification/Katie/fma_small/114/114069.mp3', '/Users/katie/code/capstone/Music_Genre_Classification/Katie/fma_small/114/114041.mp3', '/Users/katie/code/capstone/Music_Genre_Classification/Katie/fma_small/114/114294.mp3', '/Users/katie/code/capstone/Music_Genre_Classification/Katie/fma_small/114/114242.mp3', '/Users/katie/code/capstone/Music_Genre_Classification/Katie/fma_small/114/114295.mp3', '/Users/katie/code/capstone/Music_Genre_Classification/Katie/fma_small/114/114040.mp3', '/Users/katie/code/capstone/Music_Genre_Classification/Katie/fma_small/113/113284.mp3', '/Users/katie/code/capstone/Music_Genre_Classification/Katie/fma_small/113/113279.mp3', '/Users/katie/code/capstone/Music_Genre_Classification/Katie/fma_small/113/113696.mp3', '/Users/katie/code/capstone/Music_Genre_Classification/Katie/fma_small/113/113697.mp3', '/Users/katie/code/capstone/Music_Genre_Classification/Katie/fma_small/113/113278.mp3', '/Users/katie/code/capstone/Music_Genre_Classification/Katie/fma_small/113/113268.mp3', '/Users/katie/code/capstone/Music_Genre_Classification/Katie/fma_small/113/113334.mp3', '/Users/katie/code/capstone/Music_Genre_Classification/Katie/fma_small/113/113335.mp3', '/Users/katie/code/capstone/Music_Genre_Classification/Katie/fma_small/113/113453.mp3', '/Users/katie/code/capstone/Music_Genre_Classification/Katie/fma_small/113/113269.mp3', '/Users/katie/code/capstone/Music_Genre_Classification/Katie/fma_small/113/113282.mp3', '/Users/katie/code/capstone/Music_Genre_Classification/Katie/fma_small/113/113294.mp3', '/Users/katie/code/capstone/Music_Genre_Classification/Katie/fma_small/113/113280.mp3', '/Users/katie/code/capstone/Music_Genre_Classification/Katie/fma_small/113/113336.mp3', '/Users/katie/code/capstone/Music_Genre_Classification/Katie/fma_small/113/113530.mp3', '/Users/katie/code/capstone/Music_Genre_Classification/Katie/fma_small/113/113281.mp3', '/Users/katie/code/capstone/Music_Genre_Classification/Katie/fma_small/113/113972.mp3', '/Users/katie/code/capstone/Music_Genre_Classification/Katie/fma_small/113/113033.mp3', '/Users/katie/code/capstone/Music_Genre_Classification/Katie/fma_small/113/113027.mp3', '/Users/katie/code/capstone/Music_Genre_Classification/Katie/fma_small/113/113344.mp3', '/Users/katie/code/capstone/Music_Genre_Classification/Katie/fma_small/113/113026.mp3', '/Users/katie/code/capstone/Music_Genre_Classification/Katie/fma_small/113/113032.mp3', '/Users/katie/code/capstone/Music_Genre_Classification/Katie/fma_small/113/113973.mp3', '/Users/katie/code/capstone/Music_Genre_Classification/Katie/fma_small/113/113971.mp3', '/Users/katie/code/capstone/Music_Genre_Classification/Katie/fma_small/113/113018.mp3', '/Users/katie/code/capstone/Music_Genre_Classification/Katie/fma_small/113/113024.mp3', '/Users/katie/code/capstone/Music_Genre_Classification/Katie/fma_small/113/113030.mp3', '/Users/katie/code/capstone/Music_Genre_Classification/Katie/fma_small/113/113810.mp3', '/Users/katie/code/capstone/Music_Genre_Classification/Katie/fma_small/113/113031.mp3', '/Users/katie/code/capstone/Music_Genre_Classification/Katie/fma_small/113/113025.mp3', '/Users/katie/code/capstone/Music_Genre_Classification/Katie/fma_small/113/113019.mp3', '/Users/katie/code/capstone/Music_Genre_Classification/Katie/fma_small/113/113970.mp3', '/Users/katie/code/capstone/Music_Genre_Classification/Katie/fma_small/113/113790.mp3', '/Users/katie/code/capstone/Music_Genre_Classification/Katie/fma_small/113/113021.mp3', '/Users/katie/code/capstone/Music_Genre_Classification/Katie/fma_small/113/113035.mp3', '/Users/katie/code/capstone/Music_Genre_Classification/Katie/fma_small/113/113357.mp3', '/Users/katie/code/capstone/Music_Genre_Classification/Katie/fma_small/113/113343.mp3', '/Users/katie/code/capstone/Music_Genre_Classification/Katie/fma_small/113/113342.mp3', '/Users/katie/code/capstone/Music_Genre_Classification/Katie/fma_small/113/113034.mp3', '/Users/katie/code/capstone/Music_Genre_Classification/Katie/fma_small/113/113020.mp3', '/Users/katie/code/capstone/Music_Genre_Classification/Katie/fma_small/113/113949.mp3', '/Users/katie/code/capstone/Music_Genre_Classification/Katie/fma_small/113/113787.mp3', '/Users/katie/code/capstone/Music_Genre_Classification/Katie/fma_small/113/113036.mp3', '/Users/katie/code/capstone/Music_Genre_Classification/Katie/fma_small/113/113022.mp3', '/Users/katie/code/capstone/Music_Genre_Classification/Katie/fma_small/113/113023.mp3', '/Users/katie/code/capstone/Music_Genre_Classification/Katie/fma_small/113/113037.mp3', '/Users/katie/code/capstone/Music_Genre_Classification/Katie/fma_small/113/113166.mp3', '/Users/katie/code/capstone/Music_Genre_Classification/Katie/fma_small/113/113167.mp3', '/Users/katie/code/capstone/Music_Genre_Classification/Katie/fma_small/113/113359.mp3', '/Users/katie/code/capstone/Music_Genre_Classification/Katie/fma_small/113/113946.mp3', '/Users/katie/code/capstone/Music_Genre_Classification/Katie/fma_small/113/113788.mp3', '/Users/katie/code/capstone/Music_Genre_Classification/Katie/fma_small/113/113950.mp3', '/Users/katie/code/capstone/Music_Genre_Classification/Katie/fma_small/113/113165.mp3', '/Users/katie/code/capstone/Music_Genre_Classification/Katie/fma_small/113/113164.mp3', '/Users/katie/code/capstone/Music_Genre_Classification/Katie/fma_small/113/113574.mp3', '/Users/katie/code/capstone/Music_Genre_Classification/Katie/fma_small/113/113789.mp3', '/Users/katie/code/capstone/Music_Genre_Classification/Katie/fma_small/113/113969.mp3', '/Users/katie/code/capstone/Music_Genre_Classification/Katie/fma_small/113/113028.mp3', '/Users/katie/code/capstone/Music_Genre_Classification/Katie/fma_small/113/113564.mp3', '/Users/katie/code/capstone/Music_Genre_Classification/Katie/fma_small/113/113558.mp3', '/Users/katie/code/capstone/Music_Genre_Classification/Katie/fma_small/113/113809.mp3', '/Users/katie/code/capstone/Music_Genre_Classification/Katie/fma_small/113/113808.mp3', '/Users/katie/code/capstone/Music_Genre_Classification/Katie/fma_small/113/113203.mp3', '/Users/katie/code/capstone/Music_Genre_Classification/Katie/fma_small/113/113017.mp3', '/Users/katie/code/capstone/Music_Genre_Classification/Katie/fma_small/113/113822.mp3', '/Users/katie/code/capstone/Music_Genre_Classification/Katie/fma_small/113/113360.mp3', '/Users/katie/code/capstone/Music_Genre_Classification/Katie/fma_small/113/113016.mp3', '/Users/katie/code/capstone/Music_Genre_Classification/Katie/fma_small/113/113273.mp3', '/Users/katie/code/capstone/Music_Genre_Classification/Katie/fma_small/113/113267.mp3', '/Users/katie/code/capstone/Music_Genre_Classification/Katie/fma_small/113/113110.mp3', '/Users/katie/code/capstone/Music_Genre_Classification/Katie/fma_small/113/113266.mp3', '/Users/katie/code/capstone/Music_Genre_Classification/Katie/fma_small/113/113272.mp3', '/Users/katie/code/capstone/Music_Genre_Classification/Katie/fma_small/113/113702.mp3', '/Users/katie/code/capstone/Music_Genre_Classification/Katie/fma_small/113/113933.mp3', '/Users/katie/code/capstone/Music_Genre_Classification/Katie/fma_small/113/113700.mp3', '/Users/katie/code/capstone/Music_Genre_Classification/Katie/fma_small/113/113264.mp3', '/Users/katie/code/capstone/Music_Genre_Classification/Katie/fma_small/113/113270.mp3', '/Users/katie/code/capstone/Music_Genre_Classification/Katie/fma_small/113/113304.mp3', '/Users/katie/code/capstone/Music_Genre_Classification/Katie/fma_small/113/113305.mp3', '/Users/katie/code/capstone/Music_Genre_Classification/Katie/fma_small/113/113311.mp3', '/Users/katie/code/capstone/Music_Genre_Classification/Katie/fma_small/113/113271.mp3', '/Users/katie/code/capstone/Music_Genre_Classification/Katie/fma_small/113/113265.mp3', '/Users/katie/code/capstone/Music_Genre_Classification/Katie/fma_small/113/113259.mp3', '/Users/katie/code/capstone/Music_Genre_Classification/Katie/fma_small/113/113701.mp3', '/Users/katie/code/capstone/Music_Genre_Classification/Katie/fma_small/113/113932.mp3', '/Users/katie/code/capstone/Music_Genre_Classification/Katie/fma_small/113/113063.mp3', '/Users/katie/code/capstone/Music_Genre_Classification/Katie/fma_small/113/113261.mp3', '/Users/katie/code/capstone/Music_Genre_Classification/Katie/fma_small/113/113513.mp3', '/Users/katie/code/capstone/Music_Genre_Classification/Katie/fma_small/113/113275.mp3', '/Users/katie/code/capstone/Music_Genre_Classification/Katie/fma_small/113/113512.mp3', '/Users/katie/code/capstone/Music_Genre_Classification/Katie/fma_small/113/113274.mp3', '/Users/katie/code/capstone/Music_Genre_Classification/Katie/fma_small/113/113260.mp3', '/Users/katie/code/capstone/Music_Genre_Classification/Katie/fma_small/113/113935.mp3', '/Users/katie/code/capstone/Music_Genre_Classification/Katie/fma_small/113/113276.mp3', '/Users/katie/code/capstone/Music_Genre_Classification/Katie/fma_small/113/113262.mp3', '/Users/katie/code/capstone/Music_Genre_Classification/Katie/fma_small/113/113699.mp3', '/Users/katie/code/capstone/Music_Genre_Classification/Katie/fma_small/113/113698.mp3', '/Users/katie/code/capstone/Music_Genre_Classification/Katie/fma_small/113/113303.mp3', '/Users/katie/code/capstone/Music_Genre_Classification/Katie/fma_small/113/113263.mp3', '/Users/katie/code/capstone/Music_Genre_Classification/Katie/fma_small/113/113277.mp3', '/Users/katie/code/capstone/Music_Genre_Classification/Katie/fma_small/113/113511.mp3', '/Users/katie/code/capstone/Music_Genre_Classification/Katie/fma_small/113/113934.mp3', '/Users/katie/code/capstone/Music_Genre_Classification/Katie/fma_small/147/147413.mp3', '/Users/katie/code/capstone/Music_Genre_Classification/Katie/fma_small/147/147956.mp3', '/Users/katie/code/capstone/Music_Genre_Classification/Katie/fma_small/147/147412.mp3', '/Users/katie/code/capstone/Music_Genre_Classification/Katie/fma_small/147/147265.mp3', '/Users/katie/code/capstone/Music_Genre_Classification/Katie/fma_small/147/147059.mp3', '/Users/katie/code/capstone/Music_Genre_Classification/Katie/fma_small/147/147267.mp3', '/Users/katie/code/capstone/Music_Genre_Classification/Katie/fma_small/147/147886.mp3', '/Users/katie/code/capstone/Music_Genre_Classification/Katie/fma_small/147/147261.mp3', '/Users/katie/code/capstone/Music_Genre_Classification/Katie/fma_small/147/147085.mp3', '/Users/katie/code/capstone/Music_Genre_Classification/Katie/fma_small/147/147126.mp3', '/Users/katie/code/capstone/Music_Genre_Classification/Katie/fma_small/147/147087.mp3', '/Users/katie/code/capstone/Music_Genre_Classification/Katie/fma_small/147/147086.mp3', '/Users/katie/code/capstone/Music_Genre_Classification/Katie/fma_small/147/147295.mp3', '/Users/katie/code/capstone/Music_Genre_Classification/Katie/fma_small/147/147268.mp3', '/Users/katie/code/capstone/Music_Genre_Classification/Katie/fma_small/147/147269.mp3', '/Users/katie/code/capstone/Music_Genre_Classification/Katie/fma_small/147/147309.mp3', '/Users/katie/code/capstone/Music_Genre_Classification/Katie/fma_small/147/147024.mp3', '/Users/katie/code/capstone/Music_Genre_Classification/Katie/fma_small/147/147780.mp3', '/Users/katie/code/capstone/Music_Genre_Classification/Katie/fma_small/147/147409.mp3', '/Users/katie/code/capstone/Music_Genre_Classification/Katie/fma_small/147/147191.mp3', '/Users/katie/code/capstone/Music_Genre_Classification/Katie/fma_small/147/147022.mp3', '/Users/katie/code/capstone/Music_Genre_Classification/Katie/fma_small/147/147023.mp3', '/Users/katie/code/capstone/Music_Genre_Classification/Katie/fma_small/147/147021.mp3', '/Users/katie/code/capstone/Music_Genre_Classification/Katie/fma_small/147/147020.mp3', '/Users/katie/code/capstone/Music_Genre_Classification/Katie/fma_small/147/147815.mp3', '/Users/katie/code/capstone/Music_Genre_Classification/Katie/fma_small/140/140583.mp3', '/Users/katie/code/capstone/Music_Genre_Classification/Katie/fma_small/140/140794.mp3', '/Users/katie/code/capstone/Music_Genre_Classification/Katie/fma_small/140/140623.mp3', '/Users/katie/code/capstone/Music_Genre_Classification/Katie/fma_small/140/140421.mp3', '/Users/katie/code/capstone/Music_Genre_Classification/Katie/fma_small/140/140621.mp3', '/Users/katie/code/capstone/Music_Genre_Classification/Katie/fma_small/140/140609.mp3', '/Users/katie/code/capstone/Music_Genre_Classification/Katie/fma_small/140/140620.mp3', '/Users/katie/code/capstone/Music_Genre_Classification/Katie/fma_small/140/140344.mp3', '/Users/katie/code/capstone/Music_Genre_Classification/Katie/fma_small/140/140584.mp3', '/Users/katie/code/capstone/Music_Genre_Classification/Katie/fma_small/140/140625.mp3', '/Users/katie/code/capstone/Music_Genre_Classification/Katie/fma_small/140/140790.mp3', '/Users/katie/code/capstone/Music_Genre_Classification/Katie/fma_small/140/140791.mp3', '/Users/katie/code/capstone/Music_Genre_Classification/Katie/fma_small/140/140626.mp3', '/Users/katie/code/capstone/Music_Genre_Classification/Katie/fma_small/140/140872.mp3', '/Users/katie/code/capstone/Music_Genre_Classification/Katie/fma_small/140/140873.mp3', '/Users/katie/code/capstone/Music_Genre_Classification/Katie/fma_small/140/140871.mp3', '/Users/katie/code/capstone/Music_Genre_Classification/Katie/fma_small/140/140939.mp3', '/Users/katie/code/capstone/Music_Genre_Classification/Katie/fma_small/140/140874.mp3', '/Users/katie/code/capstone/Music_Genre_Classification/Katie/fma_small/140/140135.mp3', '/Users/katie/code/capstone/Music_Genre_Classification/Katie/fma_small/140/140134.mp3', '/Users/katie/code/capstone/Music_Genre_Classification/Katie/fma_small/140/140875.mp3', '/Users/katie/code/capstone/Music_Genre_Classification/Katie/fma_small/140/140043.mp3', '/Users/katie/code/capstone/Music_Genre_Classification/Katie/fma_small/140/140933.mp3', '/Users/katie/code/capstone/Music_Genre_Classification/Katie/fma_small/140/140258.mp3', '/Users/katie/code/capstone/Music_Genre_Classification/Katie/fma_small/140/140259.mp3', '/Users/katie/code/capstone/Music_Genre_Classification/Katie/fma_small/140/140926.mp3', '/Users/katie/code/capstone/Music_Genre_Classification/Katie/fma_small/140/140924.mp3', '/Users/katie/code/capstone/Music_Genre_Classification/Katie/fma_small/140/140266.mp3', '/Users/katie/code/capstone/Music_Genre_Classification/Katie/fma_small/140/140925.mp3', '/Users/katie/code/capstone/Music_Genre_Classification/Katie/fma_small/140/140316.mp3', '/Users/katie/code/capstone/Music_Genre_Classification/Katie/fma_small/140/140935.mp3', '/Users/katie/code/capstone/Music_Genre_Classification/Katie/fma_small/140/140262.mp3', '/Users/katie/code/capstone/Music_Genre_Classification/Katie/fma_small/140/140263.mp3', '/Users/katie/code/capstone/Music_Genre_Classification/Katie/fma_small/140/140934.mp3', '/Users/katie/code/capstone/Music_Genre_Classification/Katie/fma_small/140/140922.mp3', '/Users/katie/code/capstone/Music_Genre_Classification/Katie/fma_small/140/140261.mp3', '/Users/katie/code/capstone/Music_Genre_Classification/Katie/fma_small/140/140260.mp3', '/Users/katie/code/capstone/Music_Genre_Classification/Katie/fma_small/140/140923.mp3', '/Users/katie/code/capstone/Music_Genre_Classification/Katie/fma_small/140/140788.mp3', '/Users/katie/code/capstone/Music_Genre_Classification/Katie/fma_small/140/140789.mp3', '/Users/katie/code/capstone/Music_Genre_Classification/Katie/fma_small/140/140576.mp3', '/Users/katie/code/capstone/Music_Genre_Classification/Katie/fma_small/140/140566.mp3', '/Users/katie/code/capstone/Music_Genre_Classification/Katie/fma_small/140/140564.mp3', '/Users/katie/code/capstone/Music_Genre_Classification/Katie/fma_small/140/140565.mp3']\n"
     ]
    }
   ],
   "source": [
    "print(root_dir)\n",
    "print(song_paths)"
   ]
  },
  {
   "cell_type": "code",
   "execution_count": 10,
   "metadata": {},
   "outputs": [
    {
     "output_type": "stream",
     "name": "stdout",
     "text": [
      "/Users/katie/code/capstone/Music_Genre_Classification/Katie/genres\n"
     ]
    }
   ],
   "source": [
    "# genre parent directory\n",
    "gp_dir = notebook_path + \"/genres\"\n",
    "print(gp_dir)"
   ]
  },
  {
   "cell_type": "code",
   "execution_count": 11,
   "metadata": {},
   "outputs": [],
   "source": [
    "try:\n",
    "    Path(gp_dir).mkdir(mode=0o777, parents=False, exist_ok=True)\n",
    "except ValueError:\n",
    "    print('did not make genre dir')"
   ]
  },
  {
   "cell_type": "code",
   "execution_count": 12,
   "metadata": {},
   "outputs": [],
   "source": [
    "# create directories\n",
    "for genre in top_genres:\n",
    "    if \"/\" in genre:\n",
    "        genre = genre.replace('/', '&')\n",
    "    genre_dir = gp_dir + \"/\" + genre\n",
    "    # print(genre_dir)\n",
    "    Path(genre_dir).mkdir(mode=0o777, parents=False, exist_ok=True)"
   ]
  },
  {
   "cell_type": "code",
   "execution_count": 14,
   "metadata": {
    "tags": [
     "outputPrepend"
    ]
   },
   "outputs": [
    {
     "output_type": "stream",
     "name": "stdout",
     "text": [
      "ode/capstone/Music_Genre_Classification/Katie/fma_small/113/113789.mp3 /Users/katie/code/capstone/Music_Genre_Classification/Katie/genres/Instrumental/113789.mp3\n",
      "/Users/katie/code/capstone/Music_Genre_Classification/Katie/fma_small/113/113969.mp3 /Users/katie/code/capstone/Music_Genre_Classification/Katie/genres/Instrumental/113969.mp3\n",
      "/Users/katie/code/capstone/Music_Genre_Classification/Katie/fma_small/113/113028.mp3 /Users/katie/code/capstone/Music_Genre_Classification/Katie/genres/Pop/113028.mp3\n",
      "/Users/katie/code/capstone/Music_Genre_Classification/Katie/fma_small/113/113564.mp3 /Users/katie/code/capstone/Music_Genre_Classification/Katie/genres/Experimental/113564.mp3\n",
      "/Users/katie/code/capstone/Music_Genre_Classification/Katie/fma_small/113/113558.mp3 /Users/katie/code/capstone/Music_Genre_Classification/Katie/genres/Experimental/113558.mp3\n",
      "/Users/katie/code/capstone/Music_Genre_Classification/Katie/fma_small/113/113809.mp3 /Users/katie/code/capstone/Music_Genre_Classification/Katie/genres/Pop/113809.mp3\n",
      "/Users/katie/code/capstone/Music_Genre_Classification/Katie/fma_small/113/113808.mp3 /Users/katie/code/capstone/Music_Genre_Classification/Katie/genres/Pop/113808.mp3\n",
      "/Users/katie/code/capstone/Music_Genre_Classification/Katie/fma_small/113/113203.mp3 /Users/katie/code/capstone/Music_Genre_Classification/Katie/genres/Experimental/113203.mp3\n",
      "/Users/katie/code/capstone/Music_Genre_Classification/Katie/fma_small/113/113017.mp3 /Users/katie/code/capstone/Music_Genre_Classification/Katie/genres/Pop/113017.mp3\n",
      "/Users/katie/code/capstone/Music_Genre_Classification/Katie/fma_small/113/113822.mp3 /Users/katie/code/capstone/Music_Genre_Classification/Katie/genres/Rock/113822.mp3\n",
      "/Users/katie/code/capstone/Music_Genre_Classification/Katie/fma_small/113/113360.mp3 /Users/katie/code/capstone/Music_Genre_Classification/Katie/genres/Folk/113360.mp3\n",
      "/Users/katie/code/capstone/Music_Genre_Classification/Katie/fma_small/113/113016.mp3 /Users/katie/code/capstone/Music_Genre_Classification/Katie/genres/Pop/113016.mp3\n",
      "/Users/katie/code/capstone/Music_Genre_Classification/Katie/fma_small/113/113273.mp3 /Users/katie/code/capstone/Music_Genre_Classification/Katie/genres/International/113273.mp3\n",
      "/Users/katie/code/capstone/Music_Genre_Classification/Katie/fma_small/113/113267.mp3 /Users/katie/code/capstone/Music_Genre_Classification/Katie/genres/International/113267.mp3\n",
      "/Users/katie/code/capstone/Music_Genre_Classification/Katie/fma_small/113/113110.mp3 /Users/katie/code/capstone/Music_Genre_Classification/Katie/genres/Instrumental/113110.mp3\n",
      "/Users/katie/code/capstone/Music_Genre_Classification/Katie/fma_small/113/113266.mp3 /Users/katie/code/capstone/Music_Genre_Classification/Katie/genres/International/113266.mp3\n",
      "/Users/katie/code/capstone/Music_Genre_Classification/Katie/fma_small/113/113272.mp3 /Users/katie/code/capstone/Music_Genre_Classification/Katie/genres/International/113272.mp3\n",
      "/Users/katie/code/capstone/Music_Genre_Classification/Katie/fma_small/113/113702.mp3 /Users/katie/code/capstone/Music_Genre_Classification/Katie/genres/Experimental/113702.mp3\n",
      "/Users/katie/code/capstone/Music_Genre_Classification/Katie/fma_small/113/113933.mp3 /Users/katie/code/capstone/Music_Genre_Classification/Katie/genres/Pop/113933.mp3\n",
      "/Users/katie/code/capstone/Music_Genre_Classification/Katie/fma_small/113/113700.mp3 /Users/katie/code/capstone/Music_Genre_Classification/Katie/genres/International/113700.mp3\n",
      "/Users/katie/code/capstone/Music_Genre_Classification/Katie/fma_small/113/113264.mp3 /Users/katie/code/capstone/Music_Genre_Classification/Katie/genres/International/113264.mp3\n",
      "/Users/katie/code/capstone/Music_Genre_Classification/Katie/fma_small/113/113270.mp3 /Users/katie/code/capstone/Music_Genre_Classification/Katie/genres/International/113270.mp3\n",
      "/Users/katie/code/capstone/Music_Genre_Classification/Katie/fma_small/113/113304.mp3 /Users/katie/code/capstone/Music_Genre_Classification/Katie/genres/Rock/113304.mp3\n",
      "/Users/katie/code/capstone/Music_Genre_Classification/Katie/fma_small/113/113305.mp3 /Users/katie/code/capstone/Music_Genre_Classification/Katie/genres/Rock/113305.mp3\n",
      "/Users/katie/code/capstone/Music_Genre_Classification/Katie/fma_small/113/113311.mp3 /Users/katie/code/capstone/Music_Genre_Classification/Katie/genres/Rock/113311.mp3\n",
      "/Users/katie/code/capstone/Music_Genre_Classification/Katie/fma_small/113/113271.mp3 /Users/katie/code/capstone/Music_Genre_Classification/Katie/genres/International/113271.mp3\n",
      "/Users/katie/code/capstone/Music_Genre_Classification/Katie/fma_small/113/113265.mp3 /Users/katie/code/capstone/Music_Genre_Classification/Katie/genres/International/113265.mp3\n",
      "/Users/katie/code/capstone/Music_Genre_Classification/Katie/fma_small/113/113259.mp3 /Users/katie/code/capstone/Music_Genre_Classification/Katie/genres/International/113259.mp3\n",
      "/Users/katie/code/capstone/Music_Genre_Classification/Katie/fma_small/113/113701.mp3 /Users/katie/code/capstone/Music_Genre_Classification/Katie/genres/International/113701.mp3\n",
      "/Users/katie/code/capstone/Music_Genre_Classification/Katie/fma_small/113/113932.mp3 /Users/katie/code/capstone/Music_Genre_Classification/Katie/genres/Pop/113932.mp3\n",
      "/Users/katie/code/capstone/Music_Genre_Classification/Katie/fma_small/113/113063.mp3 /Users/katie/code/capstone/Music_Genre_Classification/Katie/genres/Rock/113063.mp3\n",
      "/Users/katie/code/capstone/Music_Genre_Classification/Katie/fma_small/113/113261.mp3 /Users/katie/code/capstone/Music_Genre_Classification/Katie/genres/International/113261.mp3\n",
      "/Users/katie/code/capstone/Music_Genre_Classification/Katie/fma_small/113/113513.mp3 /Users/katie/code/capstone/Music_Genre_Classification/Katie/genres/Rock/113513.mp3\n",
      "/Users/katie/code/capstone/Music_Genre_Classification/Katie/fma_small/113/113275.mp3 /Users/katie/code/capstone/Music_Genre_Classification/Katie/genres/International/113275.mp3\n",
      "/Users/katie/code/capstone/Music_Genre_Classification/Katie/fma_small/113/113512.mp3 /Users/katie/code/capstone/Music_Genre_Classification/Katie/genres/Rock/113512.mp3\n",
      "/Users/katie/code/capstone/Music_Genre_Classification/Katie/fma_small/113/113274.mp3 /Users/katie/code/capstone/Music_Genre_Classification/Katie/genres/International/113274.mp3\n",
      "/Users/katie/code/capstone/Music_Genre_Classification/Katie/fma_small/113/113260.mp3 /Users/katie/code/capstone/Music_Genre_Classification/Katie/genres/International/113260.mp3\n",
      "/Users/katie/code/capstone/Music_Genre_Classification/Katie/fma_small/113/113935.mp3 /Users/katie/code/capstone/Music_Genre_Classification/Katie/genres/Pop/113935.mp3\n",
      "/Users/katie/code/capstone/Music_Genre_Classification/Katie/fma_small/113/113276.mp3 /Users/katie/code/capstone/Music_Genre_Classification/Katie/genres/International/113276.mp3\n",
      "/Users/katie/code/capstone/Music_Genre_Classification/Katie/fma_small/113/113262.mp3 /Users/katie/code/capstone/Music_Genre_Classification/Katie/genres/International/113262.mp3\n",
      "/Users/katie/code/capstone/Music_Genre_Classification/Katie/fma_small/113/113699.mp3 /Users/katie/code/capstone/Music_Genre_Classification/Katie/genres/International/113699.mp3\n",
      "/Users/katie/code/capstone/Music_Genre_Classification/Katie/fma_small/113/113698.mp3 /Users/katie/code/capstone/Music_Genre_Classification/Katie/genres/International/113698.mp3\n",
      "/Users/katie/code/capstone/Music_Genre_Classification/Katie/fma_small/113/113303.mp3 /Users/katie/code/capstone/Music_Genre_Classification/Katie/genres/Rock/113303.mp3\n",
      "/Users/katie/code/capstone/Music_Genre_Classification/Katie/fma_small/113/113263.mp3 /Users/katie/code/capstone/Music_Genre_Classification/Katie/genres/International/113263.mp3\n",
      "/Users/katie/code/capstone/Music_Genre_Classification/Katie/fma_small/113/113277.mp3 /Users/katie/code/capstone/Music_Genre_Classification/Katie/genres/International/113277.mp3\n",
      "/Users/katie/code/capstone/Music_Genre_Classification/Katie/fma_small/113/113511.mp3 /Users/katie/code/capstone/Music_Genre_Classification/Katie/genres/Rock/113511.mp3\n",
      "/Users/katie/code/capstone/Music_Genre_Classification/Katie/fma_small/113/113934.mp3 /Users/katie/code/capstone/Music_Genre_Classification/Katie/genres/Pop/113934.mp3\n",
      "/Users/katie/code/capstone/Music_Genre_Classification/Katie/fma_small/147/147413.mp3 /Users/katie/code/capstone/Music_Genre_Classification/Katie/genres/Rock/147413.mp3\n",
      "/Users/katie/code/capstone/Music_Genre_Classification/Katie/fma_small/147/147956.mp3 /Users/katie/code/capstone/Music_Genre_Classification/Katie/genres/Rock/147956.mp3\n",
      "/Users/katie/code/capstone/Music_Genre_Classification/Katie/fma_small/147/147412.mp3 /Users/katie/code/capstone/Music_Genre_Classification/Katie/genres/Rock/147412.mp3\n",
      "/Users/katie/code/capstone/Music_Genre_Classification/Katie/fma_small/147/147265.mp3 /Users/katie/code/capstone/Music_Genre_Classification/Katie/genres/Hip-Hop/147265.mp3\n",
      "/Users/katie/code/capstone/Music_Genre_Classification/Katie/fma_small/147/147059.mp3 /Users/katie/code/capstone/Music_Genre_Classification/Katie/genres/Experimental/147059.mp3\n",
      "/Users/katie/code/capstone/Music_Genre_Classification/Katie/fma_small/147/147267.mp3 /Users/katie/code/capstone/Music_Genre_Classification/Katie/genres/Hip-Hop/147267.mp3\n",
      "/Users/katie/code/capstone/Music_Genre_Classification/Katie/fma_small/147/147886.mp3 /Users/katie/code/capstone/Music_Genre_Classification/Katie/genres/Hip-Hop/147886.mp3\n",
      "/Users/katie/code/capstone/Music_Genre_Classification/Katie/fma_small/147/147261.mp3 /Users/katie/code/capstone/Music_Genre_Classification/Katie/genres/Hip-Hop/147261.mp3\n",
      "/Users/katie/code/capstone/Music_Genre_Classification/Katie/fma_small/147/147085.mp3 /Users/katie/code/capstone/Music_Genre_Classification/Katie/genres/Experimental/147085.mp3\n",
      "/Users/katie/code/capstone/Music_Genre_Classification/Katie/fma_small/147/147126.mp3 /Users/katie/code/capstone/Music_Genre_Classification/Katie/genres/Instrumental/147126.mp3\n",
      "/Users/katie/code/capstone/Music_Genre_Classification/Katie/fma_small/147/147087.mp3 /Users/katie/code/capstone/Music_Genre_Classification/Katie/genres/Experimental/147087.mp3\n",
      "/Users/katie/code/capstone/Music_Genre_Classification/Katie/fma_small/147/147086.mp3 /Users/katie/code/capstone/Music_Genre_Classification/Katie/genres/Experimental/147086.mp3\n",
      "/Users/katie/code/capstone/Music_Genre_Classification/Katie/fma_small/147/147295.mp3 /Users/katie/code/capstone/Music_Genre_Classification/Katie/genres/Folk/147295.mp3\n",
      "/Users/katie/code/capstone/Music_Genre_Classification/Katie/fma_small/147/147268.mp3 /Users/katie/code/capstone/Music_Genre_Classification/Katie/genres/Hip-Hop/147268.mp3\n",
      "/Users/katie/code/capstone/Music_Genre_Classification/Katie/fma_small/147/147269.mp3 /Users/katie/code/capstone/Music_Genre_Classification/Katie/genres/Hip-Hop/147269.mp3\n",
      "/Users/katie/code/capstone/Music_Genre_Classification/Katie/fma_small/147/147309.mp3 /Users/katie/code/capstone/Music_Genre_Classification/Katie/genres/Instrumental/147309.mp3\n",
      "/Users/katie/code/capstone/Music_Genre_Classification/Katie/fma_small/147/147024.mp3 /Users/katie/code/capstone/Music_Genre_Classification/Katie/genres/Hip-Hop/147024.mp3\n",
      "/Users/katie/code/capstone/Music_Genre_Classification/Katie/fma_small/147/147780.mp3 /Users/katie/code/capstone/Music_Genre_Classification/Katie/genres/Electronic/147780.mp3\n",
      "/Users/katie/code/capstone/Music_Genre_Classification/Katie/fma_small/147/147409.mp3 /Users/katie/code/capstone/Music_Genre_Classification/Katie/genres/Rock/147409.mp3\n",
      "/Users/katie/code/capstone/Music_Genre_Classification/Katie/fma_small/147/147191.mp3 /Users/katie/code/capstone/Music_Genre_Classification/Katie/genres/Electronic/147191.mp3\n",
      "/Users/katie/code/capstone/Music_Genre_Classification/Katie/fma_small/147/147022.mp3 /Users/katie/code/capstone/Music_Genre_Classification/Katie/genres/Hip-Hop/147022.mp3\n",
      "/Users/katie/code/capstone/Music_Genre_Classification/Katie/fma_small/147/147023.mp3 /Users/katie/code/capstone/Music_Genre_Classification/Katie/genres/Hip-Hop/147023.mp3\n",
      "/Users/katie/code/capstone/Music_Genre_Classification/Katie/fma_small/147/147021.mp3 /Users/katie/code/capstone/Music_Genre_Classification/Katie/genres/Hip-Hop/147021.mp3\n",
      "/Users/katie/code/capstone/Music_Genre_Classification/Katie/fma_small/147/147020.mp3 /Users/katie/code/capstone/Music_Genre_Classification/Katie/genres/Hip-Hop/147020.mp3\n",
      "/Users/katie/code/capstone/Music_Genre_Classification/Katie/fma_small/147/147815.mp3 /Users/katie/code/capstone/Music_Genre_Classification/Katie/genres/Electronic/147815.mp3\n",
      "/Users/katie/code/capstone/Music_Genre_Classification/Katie/fma_small/140/140583.mp3 /Users/katie/code/capstone/Music_Genre_Classification/Katie/genres/Folk/140583.mp3\n",
      "/Users/katie/code/capstone/Music_Genre_Classification/Katie/fma_small/140/140794.mp3 /Users/katie/code/capstone/Music_Genre_Classification/Katie/genres/Folk/140794.mp3\n",
      "/Users/katie/code/capstone/Music_Genre_Classification/Katie/fma_small/140/140623.mp3 /Users/katie/code/capstone/Music_Genre_Classification/Katie/genres/Hip-Hop/140623.mp3\n",
      "/Users/katie/code/capstone/Music_Genre_Classification/Katie/fma_small/140/140421.mp3 /Users/katie/code/capstone/Music_Genre_Classification/Katie/genres/Rock/140421.mp3\n",
      "/Users/katie/code/capstone/Music_Genre_Classification/Katie/fma_small/140/140621.mp3 /Users/katie/code/capstone/Music_Genre_Classification/Katie/genres/Hip-Hop/140621.mp3\n",
      "/Users/katie/code/capstone/Music_Genre_Classification/Katie/fma_small/140/140609.mp3 /Users/katie/code/capstone/Music_Genre_Classification/Katie/genres/Hip-Hop/140609.mp3\n",
      "/Users/katie/code/capstone/Music_Genre_Classification/Katie/fma_small/140/140620.mp3 /Users/katie/code/capstone/Music_Genre_Classification/Katie/genres/Hip-Hop/140620.mp3\n",
      "/Users/katie/code/capstone/Music_Genre_Classification/Katie/fma_small/140/140344.mp3 /Users/katie/code/capstone/Music_Genre_Classification/Katie/genres/Electronic/140344.mp3\n",
      "/Users/katie/code/capstone/Music_Genre_Classification/Katie/fma_small/140/140584.mp3 /Users/katie/code/capstone/Music_Genre_Classification/Katie/genres/International/140584.mp3\n",
      "/Users/katie/code/capstone/Music_Genre_Classification/Katie/fma_small/140/140625.mp3 /Users/katie/code/capstone/Music_Genre_Classification/Katie/genres/Hip-Hop/140625.mp3\n",
      "/Users/katie/code/capstone/Music_Genre_Classification/Katie/fma_small/140/140790.mp3 /Users/katie/code/capstone/Music_Genre_Classification/Katie/genres/Folk/140790.mp3\n",
      "/Users/katie/code/capstone/Music_Genre_Classification/Katie/fma_small/140/140791.mp3 /Users/katie/code/capstone/Music_Genre_Classification/Katie/genres/Folk/140791.mp3\n",
      "/Users/katie/code/capstone/Music_Genre_Classification/Katie/fma_small/140/140626.mp3 /Users/katie/code/capstone/Music_Genre_Classification/Katie/genres/Hip-Hop/140626.mp3\n",
      "/Users/katie/code/capstone/Music_Genre_Classification/Katie/fma_small/140/140872.mp3 /Users/katie/code/capstone/Music_Genre_Classification/Katie/genres/Folk/140872.mp3\n",
      "/Users/katie/code/capstone/Music_Genre_Classification/Katie/fma_small/140/140873.mp3 /Users/katie/code/capstone/Music_Genre_Classification/Katie/genres/Folk/140873.mp3\n",
      "/Users/katie/code/capstone/Music_Genre_Classification/Katie/fma_small/140/140871.mp3 /Users/katie/code/capstone/Music_Genre_Classification/Katie/genres/Folk/140871.mp3\n",
      "/Users/katie/code/capstone/Music_Genre_Classification/Katie/fma_small/140/140939.mp3 /Users/katie/code/capstone/Music_Genre_Classification/Katie/genres/Experimental/140939.mp3\n",
      "/Users/katie/code/capstone/Music_Genre_Classification/Katie/fma_small/140/140874.mp3 /Users/katie/code/capstone/Music_Genre_Classification/Katie/genres/Folk/140874.mp3\n",
      "/Users/katie/code/capstone/Music_Genre_Classification/Katie/fma_small/140/140135.mp3 /Users/katie/code/capstone/Music_Genre_Classification/Katie/genres/Electronic/140135.mp3\n",
      "/Users/katie/code/capstone/Music_Genre_Classification/Katie/fma_small/140/140134.mp3 /Users/katie/code/capstone/Music_Genre_Classification/Katie/genres/Electronic/140134.mp3\n",
      "/Users/katie/code/capstone/Music_Genre_Classification/Katie/fma_small/140/140875.mp3 /Users/katie/code/capstone/Music_Genre_Classification/Katie/genres/Folk/140875.mp3\n",
      "/Users/katie/code/capstone/Music_Genre_Classification/Katie/fma_small/140/140043.mp3 /Users/katie/code/capstone/Music_Genre_Classification/Katie/genres/Rock/140043.mp3\n",
      "/Users/katie/code/capstone/Music_Genre_Classification/Katie/fma_small/140/140933.mp3 /Users/katie/code/capstone/Music_Genre_Classification/Katie/genres/Electronic/140933.mp3\n",
      "/Users/katie/code/capstone/Music_Genre_Classification/Katie/fma_small/140/140258.mp3 /Users/katie/code/capstone/Music_Genre_Classification/Katie/genres/Electronic/140258.mp3\n",
      "/Users/katie/code/capstone/Music_Genre_Classification/Katie/fma_small/140/140259.mp3 /Users/katie/code/capstone/Music_Genre_Classification/Katie/genres/Electronic/140259.mp3\n",
      "/Users/katie/code/capstone/Music_Genre_Classification/Katie/fma_small/140/140926.mp3 /Users/katie/code/capstone/Music_Genre_Classification/Katie/genres/Electronic/140926.mp3\n",
      "/Users/katie/code/capstone/Music_Genre_Classification/Katie/fma_small/140/140924.mp3 /Users/katie/code/capstone/Music_Genre_Classification/Katie/genres/Electronic/140924.mp3\n",
      "/Users/katie/code/capstone/Music_Genre_Classification/Katie/fma_small/140/140266.mp3 /Users/katie/code/capstone/Music_Genre_Classification/Katie/genres/Experimental/140266.mp3\n",
      "/Users/katie/code/capstone/Music_Genre_Classification/Katie/fma_small/140/140925.mp3 /Users/katie/code/capstone/Music_Genre_Classification/Katie/genres/Electronic/140925.mp3\n",
      "/Users/katie/code/capstone/Music_Genre_Classification/Katie/fma_small/140/140316.mp3 /Users/katie/code/capstone/Music_Genre_Classification/Katie/genres/Experimental/140316.mp3\n",
      "/Users/katie/code/capstone/Music_Genre_Classification/Katie/fma_small/140/140935.mp3 /Users/katie/code/capstone/Music_Genre_Classification/Katie/genres/Experimental/140935.mp3\n",
      "/Users/katie/code/capstone/Music_Genre_Classification/Katie/fma_small/140/140262.mp3 /Users/katie/code/capstone/Music_Genre_Classification/Katie/genres/Electronic/140262.mp3\n",
      "/Users/katie/code/capstone/Music_Genre_Classification/Katie/fma_small/140/140263.mp3 /Users/katie/code/capstone/Music_Genre_Classification/Katie/genres/Electronic/140263.mp3\n",
      "/Users/katie/code/capstone/Music_Genre_Classification/Katie/fma_small/140/140934.mp3 /Users/katie/code/capstone/Music_Genre_Classification/Katie/genres/Electronic/140934.mp3\n",
      "/Users/katie/code/capstone/Music_Genre_Classification/Katie/fma_small/140/140922.mp3 /Users/katie/code/capstone/Music_Genre_Classification/Katie/genres/Electronic/140922.mp3\n",
      "/Users/katie/code/capstone/Music_Genre_Classification/Katie/fma_small/140/140261.mp3 /Users/katie/code/capstone/Music_Genre_Classification/Katie/genres/Electronic/140261.mp3\n",
      "/Users/katie/code/capstone/Music_Genre_Classification/Katie/fma_small/140/140260.mp3 /Users/katie/code/capstone/Music_Genre_Classification/Katie/genres/Electronic/140260.mp3\n",
      "/Users/katie/code/capstone/Music_Genre_Classification/Katie/fma_small/140/140923.mp3 /Users/katie/code/capstone/Music_Genre_Classification/Katie/genres/Electronic/140923.mp3\n",
      "/Users/katie/code/capstone/Music_Genre_Classification/Katie/fma_small/140/140788.mp3 /Users/katie/code/capstone/Music_Genre_Classification/Katie/genres/Folk/140788.mp3\n",
      "/Users/katie/code/capstone/Music_Genre_Classification/Katie/fma_small/140/140789.mp3 /Users/katie/code/capstone/Music_Genre_Classification/Katie/genres/Folk/140789.mp3\n",
      "/Users/katie/code/capstone/Music_Genre_Classification/Katie/fma_small/140/140576.mp3 /Users/katie/code/capstone/Music_Genre_Classification/Katie/genres/Rock/140576.mp3\n",
      "/Users/katie/code/capstone/Music_Genre_Classification/Katie/fma_small/140/140566.mp3 /Users/katie/code/capstone/Music_Genre_Classification/Katie/genres/Electronic/140566.mp3\n",
      "/Users/katie/code/capstone/Music_Genre_Classification/Katie/fma_small/140/140564.mp3 /Users/katie/code/capstone/Music_Genre_Classification/Katie/genres/Electronic/140564.mp3\n",
      "/Users/katie/code/capstone/Music_Genre_Classification/Katie/fma_small/140/140565.mp3 /Users/katie/code/capstone/Music_Genre_Classification/Katie/genres/Electronic/140565.mp3\n",
      "moved 7955 songs.\n"
     ]
    }
   ],
   "source": [
    "moved = 0\n",
    "# start counting genres\n",
    "print(song_paths)\n",
    "for i in range(len(song_paths)):\n",
    "    # load audio file\n",
    "    audiofile = eyed3.load(song_paths[i])\n",
    "    filename = song_paths[i][-10:]\n",
    "\n",
    "    # get genre and strip genre ID\n",
    "    song_genre = str(audiofile.tag.genre)\n",
    "    # will either be 0 or idx after (id)\n",
    "    end = song_genre.find(')') + 1\n",
    "    # for Romany(gypsy) genre\n",
    "    if end == len(song_genre):\n",
    "        end = 0\n",
    "    song_genre = song_genre[end:]\n",
    "\n",
    "    # change to top-level genre\n",
    "    song_genre = genre_lookup[parent_lookup[id_lookup[song_genre]]]\n",
    "\n",
    "    # fix for directory moving\n",
    "    if \"/\" in song_genre:\n",
    "        song_genre = song_genre.replace('/', '&')\n",
    "    \n",
    "    # rename and move files\n",
    "    new_path = notebook_path + \"/genres/\" + song_genre + \"/\" + filename\n",
    "    print(song_paths[i], new_path)\n",
    "    os.replace(song_paths[i], new_path)\n",
    "    moved += 1\n",
    "print('moved ' + str(moved) + ' songs.')"
   ]
  },
  {
   "cell_type": "code",
   "execution_count": null,
   "metadata": {},
   "outputs": [],
   "source": []
  }
 ]
}