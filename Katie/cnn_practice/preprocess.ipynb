{
 "metadata": {
  "language_info": {
   "codemirror_mode": {
    "name": "ipython",
    "version": 3
   },
   "file_extension": ".py",
   "mimetype": "text/x-python",
   "name": "python",
   "nbconvert_exporter": "python",
   "pygments_lexer": "ipython3",
   "version": "3.8.2-final"
  },
  "orig_nbformat": 2,
  "kernelspec": {
   "name": "python3",
   "display_name": "Python 3.8.2 64-bit",
   "metadata": {
    "interpreter": {
     "hash": "31f2aee4e71d21fbe5cf8b01ff0e069b9275f58929596ceb00d14d90e3e16cd6"
    }
   }
  }
 },
 "nbformat": 4,
 "nbformat_minor": 2,
 "cells": [
  {
   "cell_type": "code",
   "execution_count": null,
   "metadata": {},
   "outputs": [],
   "source": [
    "sys.executable"
   ]
  },
  {
   "cell_type": "code",
   "execution_count": 1,
   "metadata": {},
   "outputs": [
    {
     "output_type": "execute_result",
     "data": {
      "text/plain": [
       "['/Users/katiestutts/code/cnn_practice',\n",
       " '/Users/katiestutts/.vscode/extensions/ms-toolsai.jupyter-2020.12.414227025/pythonFiles',\n",
       " '/Users/katiestutts/.vscode/extensions/ms-toolsai.jupyter-2020.12.414227025/pythonFiles/lib/python',\n",
       " '/Applications/Xcode.app/Contents/Developer/Library/Frameworks/Python3.framework/Versions/3.8/lib/python38.zip',\n",
       " '/Applications/Xcode.app/Contents/Developer/Library/Frameworks/Python3.framework/Versions/3.8/lib/python3.8',\n",
       " '/Applications/Xcode.app/Contents/Developer/Library/Frameworks/Python3.framework/Versions/3.8/lib/python3.8/lib-dynload',\n",
       " '',\n",
       " '/Users/katiestutts/Library/Python/3.8/lib/python/site-packages',\n",
       " '/Applications/Xcode.app/Contents/Developer/Library/Frameworks/Python3.framework/Versions/3.8/lib/python3.8/site-packages',\n",
       " '/Users/katiestutts/Library/Python/3.8/lib/python/site-packages/IPython/extensions',\n",
       " '/Users/katiestutts/.ipython']"
      ]
     },
     "metadata": {},
     "execution_count": 1
    }
   ],
   "source": [
    "sys.path\n",
    "# sys.executable"
   ]
  },
  {
   "cell_type": "code",
   "execution_count": 7,
   "metadata": {},
   "outputs": [
    {
     "output_type": "error",
     "ename": "ModuleNotFoundError",
     "evalue": "No module named 'librosa'",
     "traceback": [
      "\u001b[0;31m---------------------------------------------------------------------------\u001b[0m",
      "\u001b[0;31mModuleNotFoundError\u001b[0m                       Traceback (most recent call last)",
      "\u001b[0;32m<ipython-input-7-46800f90f00d>\u001b[0m in \u001b[0;36m<module>\u001b[0;34m\u001b[0m\n\u001b[1;32m      1\u001b[0m \u001b[0;32mimport\u001b[0m \u001b[0mos\u001b[0m\u001b[0;34m\u001b[0m\u001b[0;34m\u001b[0m\u001b[0m\n\u001b[0;32m----> 2\u001b[0;31m \u001b[0;32mimport\u001b[0m \u001b[0mlibrosa\u001b[0m\u001b[0;34m\u001b[0m\u001b[0;34m\u001b[0m\u001b[0m\n\u001b[0m\u001b[1;32m      3\u001b[0m \u001b[0;32mimport\u001b[0m \u001b[0mmath\u001b[0m\u001b[0;34m\u001b[0m\u001b[0;34m\u001b[0m\u001b[0m\n\u001b[1;32m      4\u001b[0m \u001b[0;32mimport\u001b[0m \u001b[0mjson\u001b[0m\u001b[0;34m\u001b[0m\u001b[0;34m\u001b[0m\u001b[0m\n\u001b[1;32m      5\u001b[0m \u001b[0;34m\u001b[0m\u001b[0m\n",
      "\u001b[0;31mModuleNotFoundError\u001b[0m: No module named 'librosa'"
     ]
    }
   ],
   "source": [
    "import os\n",
    "import librosa \n",
    "import math\n",
    "import json\n",
    "\n",
    "DATASET_PATH=\"Data_Reduced\"\n",
    "# print(DATASET_PATH)\n",
    "JSON_PATH=\"data.json\"\n",
    "# print(JSON_PATH)\n",
    "SAMPLE_RATE=22050 # customary value for sr in music processing\n",
    "DURATION=30 # 30 seconds per audio file\n",
    "SAMPLES_PER_TRACK=SAMPLE_RATE * DURATION\n",
    "\n",
    "def save_mfcc(dataset_path, json_path, n_mfcc=13, n_fft=2048, hop_length=512, num_segments=5): # num segments is chopping up each track into a number of different segments\n",
    "    print(\"heello\")\n",
    "    # build a dict to store data\n",
    "    data = {\n",
    "        \"mapping\": [], # need a way of mapping different genre labels onto numbers\n",
    "        \"mfcc\": [], # is the training data, the training inputs\n",
    "        \"labels\": [] # the outputs or targets (genres) we are expecting\n",
    "    }\n",
    "\n",
    "    # samples_per_track is the overall number of samples in a track..\n",
    "    # number of samples for EACH segment\n",
    "    num_samples_per_segment = int(SAMPLES_PER_TRACK / num_segments)\n",
    "    # we are calculating the mfccs at each hop length\n",
    "    expected_num_mfcc_vectors_per_segment = math.ceil(num_samples_per_segment / hop_length) # this could potentially becme a float but we want to round to ceil\n",
    "    # print(\"right before for loop\")\n",
    "    # root_dir = \"Test\"\n",
    "    # # print(root_dir)\n",
    "    # file_list = []\n",
    "    # path_list = []\n",
    "\n",
    "    # for subdir, dirs, files in os.walk(root_dir):\n",
    "    #     print(root_dir)\n",
    "    #     for file in files:\n",
    "    #         path_list.append(os.path.join(subdir, file))\n",
    "    #         file_list.append(file)\n",
    "        \n",
    "    # print(path_list)\n",
    "    # print(file_list)\n",
    "    # loop through all of the genres\n",
    "    i = 0\n",
    "    for dirpath, dirnames, filenames in os.walk(dataset_path):\n",
    "        i +=1\n",
    "        print(\"inside for loop\")\n",
    "        # ensure that we are not at the root level (the dataset label)\n",
    "        # aka we wanna make sure were at the genre subfolder level\n",
    "        if dirpath is not dataset_path:\n",
    "            # save the semantic label (the genre)\n",
    "            dirpath_components = dirpath.split(\"/\") # genre/blues => [\"genre\", \"blues\"]\n",
    "            semantic_label = dirpath_components[-1]\n",
    "            data[\"mapping\"].append(semantic_label)\n",
    "            print(\"\\nProcessing: {}\".format(semantic_label))\n",
    "\n",
    "            # process files for a specfic genre\n",
    "            for file in filenames: \n",
    "                # load the audio file\n",
    "                file_path = os.path.join(dirpath, file) \n",
    "                signal, sr = librosa.load(file_path, sr=SAMPLE_RATE)\n",
    "\n",
    "                # cannot extract mfcc at this level. need to extract that at the segment level\n",
    "                # process segments extracting mfcc and storing data GO ONE LEVEL DEEPER\n",
    "                for segment in range(num_segments):\n",
    "                    # for segment = 0 (first segment), this is equal to 0 because we are starting at 0\n",
    "                    start_sample = num_samples_per_segment * segment \n",
    "                    # for segment = 0, this is equal to the num_of_samples_per_segment\n",
    "                    # from here, we continually slide to the right for each segment we are calculating\n",
    "                    finish_sample = start_sample + num_samples_per_segment\n",
    "\n",
    "                    # extract out an mfcc of the signal, but only during a specified segment\n",
    "                    mfcc = librosa.feature.mfcc(signal[start_sample:finish_sample], sr=sr, n_fft=n_fft, n_mfcc=n_mfcc, hop_length=hop_length) # these are from args\n",
    "                    mfcc = mfcc.T\n",
    "\n",
    "                    # we want all training data to have all of the same shape\n",
    "                    # we want to store mfcc for segment if it has the expected length\n",
    "                    if len(mfcc) == expected_num_mfcc_vectors_per_segment:\n",
    "                        data[\"mfcc\"].append(mfcc.tolist())\n",
    "                        data[\"labels\"].append(i-1) \n",
    "                        print(\"{}, segment:{}\".format(file_path, segment))\n",
    "\n",
    "            print(\"goodbyee\")\n",
    "            with open(json_path, \"w\") as fp:\n",
    "                json.dump(data, fp, indent=4)\n",
    "\n",
    "\n",
    "if __name__ == \"__main__\":\n",
    "    save_mfcc(DATASET_PATH, JSON_PATH, num_segments=10)"
   ]
  },
  {
   "cell_type": "code",
   "execution_count": null,
   "metadata": {},
   "outputs": [],
   "source": []
  }
 ]
}