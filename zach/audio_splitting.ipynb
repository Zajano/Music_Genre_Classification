{
  "nbformat": 4,
  "nbformat_minor": 0,
  "metadata": {
    "kernelspec": {
      "display_name": "Python 3",
      "language": "python",
      "name": "python3"
    },
    "language_info": {
      "codemirror_mode": {
        "name": "ipython",
        "version": 3
      },
      "file_extension": ".py",
      "mimetype": "text/x-python",
      "name": "python",
      "nbconvert_exporter": "python",
      "pygments_lexer": "ipython3",
      "version": "3.8.3-final"
    },
    "colab": {
      "name": "Feature_Selection.ipynb",
      "provenance": [],
      "collapsed_sections": [
        "_oCP89ZNjYCG",
        "FQb68F3TjYCO",
        "Dr6mt4R5jYCW",
        "eQQUvx9wjYCi",
        "SzhZrZhbjYCp",
        "qcAkDlw5jYCy",
        "144l7Y9cjYDB",
        "cVA8yB1jjYDG",
        "ClYsNPxBjYDR"
      ]
    }
  },
  "cells": [
    {
      "cell_type": "code",
      "metadata": {
        "id": "OPIwQhvFjYAr",
        "colab_type": "code",
        "colab": {}
      },
      "source": [
        "import IPython.display as ipd\n",
        "import matplotlib.pyplot as plt\n",
        "import librosa\n",
        "import librosa.display\n",
        "from config import *\n",
        "\n",
        "# Use audio loader explicitly for loading audio waveform :\n",
        "from spleeter.separator import Separator\n",
        "from spleeter.audio.adapter import AudioAdapter\n",
        "from spleeter.audio.ffmpeg import FFMPEGProcessAudioAdapter\n",
        "\n",
        "# for in-notebook rendering\n",
        "%matplotlib inline\n",
        "\n",
        "# dataset location\n",
        "dataset_dir = z_set\n"
      ],
      "execution_count": 5,
      "outputs": []
    },
    {
      "source": [
        "#### Music genres from GTZAN dataset and locally stored location"
      ],
      "cell_type": "markdown",
      "metadata": {}
    },
    {
      "cell_type": "code",
      "metadata": {
        "id": "7svmOfLKjYA6",
        "colab_type": "code",
        "colab": {}
      },
      "source": [
        "genres = ['blues', 'classical', 'country', 'disco', 'hiphop', 'jazz', 'metal', 'pop', 'reggae', 'rock']"
      ],
      "execution_count": 2,
      "outputs": []
    },
    {
      "source": [
        "#### Spleeter fun\n"
      ],
      "cell_type": "markdown",
      "metadata": {}
    },
    {
      "cell_type": "code",
      "execution_count": 6,
      "metadata": {},
      "outputs": [
        {
          "output_type": "error",
          "ename": "SpleeterError",
          "evalue": "ffmpeg binary not found",
          "traceback": [
            "\u001b[1;31m---------------------------------------------------------------------------\u001b[0m",
            "\u001b[1;31mSpleeterError\u001b[0m                             Traceback (most recent call last)",
            "\u001b[1;32m<ipython-input-6-1a00568b85de>\u001b[0m in \u001b[0;36m<module>\u001b[1;34m\u001b[0m\n\u001b[0;32m      5\u001b[0m \u001b[1;31m# waveform, sr = librosa.load(audio_path, sr=sample_rate)\u001b[0m\u001b[1;33m\u001b[0m\u001b[1;33m\u001b[0m\u001b[1;33m\u001b[0m\u001b[0m\n\u001b[0;32m      6\u001b[0m \u001b[1;33m\u001b[0m\u001b[0m\n\u001b[1;32m----> 7\u001b[1;33m \u001b[0maudio_adapter\u001b[0m \u001b[1;33m=\u001b[0m \u001b[0mFFMPEGProcessAudioAdapter\u001b[0m\u001b[1;33m(\u001b[0m\u001b[1;33m)\u001b[0m\u001b[1;33m\u001b[0m\u001b[1;33m\u001b[0m\u001b[0m\n\u001b[0m\u001b[0;32m      8\u001b[0m \u001b[0mwaveform\u001b[0m\u001b[1;33m,\u001b[0m \u001b[0msample_rate\u001b[0m \u001b[1;33m=\u001b[0m \u001b[0maudio_adapter\u001b[0m\u001b[1;33m.\u001b[0m\u001b[0mload\u001b[0m\u001b[1;33m(\u001b[0m\u001b[0maudio_path\u001b[0m\u001b[1;33m,\u001b[0m \u001b[0msample_rate\u001b[0m\u001b[1;33m=\u001b[0m\u001b[0msample_rate\u001b[0m\u001b[1;33m)\u001b[0m\u001b[1;33m\u001b[0m\u001b[1;33m\u001b[0m\u001b[0m\n\u001b[0;32m      9\u001b[0m \u001b[1;33m\u001b[0m\u001b[0m\n",
            "\u001b[1;32m~\\AppData\\Local\\Programs\\Python\\Python38\\lib\\site-packages\\spleeter\\audio\\ffmpeg.py\u001b[0m in \u001b[0;36m__init__\u001b[1;34m(_)\u001b[0m\n\u001b[0;32m     60\u001b[0m         \u001b[1;32mfor\u001b[0m \u001b[0mbinary\u001b[0m \u001b[1;32min\u001b[0m \u001b[1;33m(\u001b[0m\u001b[1;34m\"ffmpeg\"\u001b[0m\u001b[1;33m,\u001b[0m \u001b[1;34m\"ffprobe\"\u001b[0m\u001b[1;33m)\u001b[0m\u001b[1;33m:\u001b[0m\u001b[1;33m\u001b[0m\u001b[1;33m\u001b[0m\u001b[0m\n\u001b[0;32m     61\u001b[0m             \u001b[1;32mif\u001b[0m \u001b[0mshutil\u001b[0m\u001b[1;33m.\u001b[0m\u001b[0mwhich\u001b[0m\u001b[1;33m(\u001b[0m\u001b[0mbinary\u001b[0m\u001b[1;33m)\u001b[0m \u001b[1;32mis\u001b[0m \u001b[1;32mNone\u001b[0m\u001b[1;33m:\u001b[0m\u001b[1;33m\u001b[0m\u001b[1;33m\u001b[0m\u001b[0m\n\u001b[1;32m---> 62\u001b[1;33m                 \u001b[1;32mraise\u001b[0m \u001b[0mSpleeterError\u001b[0m\u001b[1;33m(\u001b[0m\u001b[1;34m\"{} binary not found\"\u001b[0m\u001b[1;33m.\u001b[0m\u001b[0mformat\u001b[0m\u001b[1;33m(\u001b[0m\u001b[0mbinary\u001b[0m\u001b[1;33m)\u001b[0m\u001b[1;33m)\u001b[0m\u001b[1;33m\u001b[0m\u001b[1;33m\u001b[0m\u001b[0m\n\u001b[0m\u001b[0;32m     63\u001b[0m \u001b[1;33m\u001b[0m\u001b[0m\n\u001b[0;32m     64\u001b[0m     def load(\n",
            "\u001b[1;31mSpleeterError\u001b[0m: ffmpeg binary not found"
          ]
        }
      ],
      "source": [
        "sample_rate = 44100\n",
        "\n",
        "audio_path = dataset_dir + r\"\\\\classical\\\\classical.00000.wav\"\n",
        "new_files = dataset_dir + r\"\\\\classical\\\\claccical_breakdown\\\\\"\n",
        "# waveform, sr = librosa.load(audio_path, sr=sample_rate)\n",
        "\n",
        "audio_adapter = FFMPEGProcessAudioAdapter()\n",
        "waveform, sample_rate = audio_adapter.load(audio_path, sample_rate=sample_rate)\n",
        "\n",
        "# Using embedded configuration.\n",
        "separator = Separator('spleeter:5stems')\n",
        "\n",
        "# Perform the separation :\n",
        "prediction = separator.separate(waveform)\n",
        "\n",
        "# split into new audio files\n",
        "separator.separate_to_file(audio_path, new_files)\n",
        "\n",
        "print(prediction)"
      ]
    },
    {
      "cell_type": "markdown",
      "metadata": {
        "id": "3Vns3zQojYBF",
        "colab_type": "text"
      },
      "source": [
        "### load a classical song to test:"
      ]
    },
    {
      "cell_type": "code",
      "metadata": {
        "id": "8bCOcHBsjYBH",
        "colab_type": "code",
        "colab": {},
        "outputId": "5de7d0cb-1ae4-4759-9bc0-80698e428020"
      },
      "source": [
        "audio_path = dataset_dir + r\"\\classical\\classical.00000.wav\"\n",
        "\n",
        "# time series of audio file and its sample rate\n",
        "# time series is an array of floting-point values corresponding to the amplitude of the sampled time\n",
        "time_series, sample_rate = librosa.load(audio_path, sr=44100)\n",
        "print(len(time_series), sample_rate)"
      ],
      "execution_count": null,
      "outputs": []
    },
    {
      "cell_type": "code",
      "execution_count": null,
      "metadata": {},
      "outputs": [],
      "source": [
        "# doesn't work in VSCode currently for wav files :(\n",
        "ipd.Audio(audio_path)"
      ]
    },
    {
      "cell_type": "code",
      "execution_count": null,
      "metadata": {},
      "outputs": [],
      "source": [
        "plt.figure(figsize=(14, 5))\n",
        "librosa.display.waveplot(time_series, sr=sample_rate)"
      ]
    },
    {
      "cell_type": "code",
      "execution_count": null,
      "metadata": {},
      "outputs": [],
      "source": []
    }
  ]
}