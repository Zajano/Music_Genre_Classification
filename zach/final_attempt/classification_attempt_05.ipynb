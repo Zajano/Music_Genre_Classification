{
 "metadata": {
  "language_info": {
   "codemirror_mode": {
    "name": "ipython",
    "version": 3
   },
   "file_extension": ".py",
   "mimetype": "text/x-python",
   "name": "python",
   "nbconvert_exporter": "python",
   "pygments_lexer": "ipython3",
   "version": "3.8.3-final"
  },
  "orig_nbformat": 2,
  "kernelspec": {
   "name": "python3",
   "display_name": "Python 3",
   "language": "python"
  }
 },
 "nbformat": 4,
 "nbformat_minor": 2,
 "cells": [
  {
   "cell_type": "code",
   "execution_count": 1,
   "metadata": {},
   "outputs": [],
   "source": [
    "# Imports\n",
    "# from ape_paths import wav_path\n",
    "import os\n",
    "import librosa\n",
    "import pandas as pd\n",
    "import numpy as np\n",
    "import seaborn as sns\n",
    "import matplotlib.pyplot as plt\n",
    "from sklearn.model_selection import train_test_split\n",
    "from sklearn.metrics import confusion_matrix\n",
    "from tensorflow.python.keras.models import Sequential\n",
    "from tensorflow.python.keras.layers import Dense, Dropout, Flatten, Conv2D, MaxPooling2D\n",
    "from tensorflow.python.keras import utils\n",
    "import tensorflow as tf\n",
    "from keras.utils import to_categorical\n",
    "from notebook_functions import *\n",
    "\n",
    "z_path = \"C:\\\\Users\\\\Zack\\\\Desktop\\\\work\\\\OSU\\\\467_capstone\\\\data\\\\audio_samples\""
   ]
  },
  {
   "cell_type": "code",
   "execution_count": 2,
   "metadata": {},
   "outputs": [],
   "source": [
    "def extract_from_genres(root_dir, genre):\n",
    "    mel_specs = []\n",
    "    full_labels = []\n",
    "    for file in os.scandir(root_dir):\n",
    "        if file.is_dir() and file.name == genre:\n",
    "            print(file.name)\n",
    "            print(type(file.name))\n",
    "            spects, labels = extract_mel_spectrogram(file, file.name)\n",
    "            # Adding the mel spectrogram to the list\n",
    "            mel_specs += spects\n",
    "            # Extracting the label and adding it to the list\n",
    "            # label = str(file).split('.')[0][11:]\n",
    "            full_labels += labels\n",
    "    return mel_specs, full_labels\n",
    "    # # Converting the list or arrays to an array\n",
    "    # X = np.array(mel_specs)\n",
    "    \n",
    "    "
   ]
  },
  {
   "cell_type": "code",
   "execution_count": 3,
   "metadata": {},
   "outputs": [],
   "source": [
    "def extract_mel_spectrogram(music_dir):\n",
    "    '''\n",
    "    Creates DataFrame with mel spectrogram and genres for all audio \n",
    "    sample files within given directory.\n",
    "    dir     : string of directory location with audio samples\n",
    "    returns : panda's DataFrame\n",
    "    '''\n",
    "    # helper function for getting lists of sample paths\n",
    "    song_paths, _ = make_file_list(music_dir)\n",
    "    \n",
    "    mel_specs = []\n",
    "    genre_labels = []\n",
    "    \n",
    "    for song in song_paths:\n",
    "        \n",
    "        # load sample data\n",
    "        shape, sample_rate = librosa.core.load(song)\n",
    "        \n",
    "        # add genre to list for sample\n",
    "        host = os.path.dirname(song)\n",
    "        genre = os.path.basename(host)\n",
    "        genre_labels.append(genre)\n",
    "        \n",
    "        # compute mel spectrograms\n",
    "        spect = librosa.feature.melspectrogram(shape, sr=sample_rate, n_fft=2048, hop_length=1024)\n",
    "        spect = librosa.power_to_db(spect, ref=np.max)\n",
    "        \n",
    "        # adjust spectrograms to all be 128 x 660\n",
    "        if spect.shape[1] != 660:\n",
    "            spect.resize(128,660, refcheck=False)\n",
    "        \n",
    "        # flatten to fit dataframe and add to list\n",
    "        spect = spect.flatten()\n",
    "        mel_specs.append(spect)\n",
    "    return mel_specs, genre_labels"
   ]
  },
  {
   "cell_type": "code",
   "execution_count": null,
   "metadata": {},
   "outputs": [],
   "source": [
    "# def extract_mel_spectrogram(genre_dir, label):\n",
    "#     '''\n",
    "#     This function takes in a directory of audio files in .wav format, computes the\n",
    "#     mel spectrogram for each audio file, reshapes them so that they are all the \n",
    "#     same size, and stores them in a numpy array. \n",
    "    \n",
    "#     It also creates a list of genre labels and maps them to numeric values.\n",
    "    \n",
    "#     Parameters:\n",
    "#     directory (int): a directory of audio files in .wav format\n",
    "    \n",
    "#     Returns:\n",
    "#     X (array): array of mel spectrogram data from all audio files in the given\n",
    "#     directory\n",
    "#     y (array): array of the corresponding genre labels in numeric form\n",
    "#     '''\n",
    "    \n",
    "#     # Creating empty lists for mel spectrograms and labels\n",
    "#     labels = []\n",
    "#     mel_specs = []\n",
    "    \n",
    "    \n",
    "#     # Looping through each file in the directory\n",
    "#     for file in os.scandir(genre_dir):\n",
    "#         # Don't process if not .mp3 file\n",
    "#         # if file.name.endswith('.wav'):  \n",
    "#         # Loading in the audio file\n",
    "#         print(str(file))\n",
    "#         y, sr = librosa.core.load(file)\n",
    "        \n",
    "#         # Extracting the label and adding it to the list\n",
    "#         # label = str(file).split('.')[0][11:]\n",
    "#         labels.append(label)\n",
    "\n",
    "#         # Computing the mel spectrograms\n",
    "#         spect = librosa.feature.melspectrogram(y=y, sr=sr, n_fft=2048, hop_length=1024)\n",
    "#         spect = librosa.power_to_db(spect, ref=np.max)\n",
    "        \n",
    "#         # Adjusting the size to be 128 x 660\n",
    "#         if spect.shape[1] != 660:\n",
    "#             spect.resize(128,660, refcheck=False)\n",
    "            \n",
    "#         # Adding the mel spectrogram to the list\n",
    "#         mel_specs.append(spect)\n",
    "#     return mel_specs, labels"
   ]
  },
  {
   "cell_type": "code",
   "execution_count": 4,
   "metadata": {},
   "outputs": [
    {
     "output_type": "stream",
     "name": "stderr",
     "text": [
      "C:\\Users\\Zack\\AppData\\Local\\Programs\\Python\\Python38\\lib\\site-packages\\librosa\\core\\audio.py:162: UserWarning: PySoundFile failed. Trying audioread instead.\n",
      "  warnings.warn(\"PySoundFile failed. Trying audioread instead.\")\n",
      "C:\\Users\\Zack\\AppData\\Local\\Programs\\Python\\Python38\\lib\\site-packages\\librosa\\core\\audio.py:162: UserWarning: PySoundFile failed. Trying audioread instead.\n",
      "  warnings.warn(\"PySoundFile failed. Trying audioread instead.\")\n"
     ]
    }
   ],
   "source": [
    "X, y = extract_mel_spectrogram(z_path)"
   ]
  },
  {
   "cell_type": "code",
   "execution_count": 5,
   "metadata": {},
   "outputs": [],
   "source": [
    "mel_spec_list = X[:]\n",
    "labels_list = y[:]"
   ]
  },
  {
   "cell_type": "code",
   "execution_count": null,
   "metadata": {},
   "outputs": [],
   "source": [
    "X1, y1 = extract_from_genres(z_path, 'Chiptune')"
   ]
  },
  {
   "cell_type": "code",
   "execution_count": null,
   "metadata": {},
   "outputs": [],
   "source": [
    "X2, y2 = extract_from_genres(z_path, 'Classical')"
   ]
  },
  {
   "cell_type": "code",
   "execution_count": null,
   "metadata": {},
   "outputs": [],
   "source": [
    "X3, y3 = extract_from_genres(z_path, 'Country')"
   ]
  },
  {
   "cell_type": "code",
   "execution_count": null,
   "metadata": {},
   "outputs": [],
   "source": [
    "X4, y4 = extract_from_genres(z_path, 'Electronic')"
   ]
  },
  {
   "cell_type": "code",
   "execution_count": null,
   "metadata": {},
   "outputs": [],
   "source": [
    "X5, y5 = extract_from_genres(z_path, 'Folk')"
   ]
  },
  {
   "cell_type": "code",
   "execution_count": null,
   "metadata": {},
   "outputs": [],
   "source": [
    "X6, y6 = extract_from_genres(z_path, 'Hip-Hop')"
   ]
  },
  {
   "cell_type": "code",
   "execution_count": null,
   "metadata": {},
   "outputs": [],
   "source": [
    "X7, y7 = extract_from_genres(z_path, 'Indie-Rock')"
   ]
  },
  {
   "cell_type": "code",
   "execution_count": null,
   "metadata": {},
   "outputs": [],
   "source": [
    "X8, y8 = extract_from_genres(z_path, 'Jazz')"
   ]
  },
  {
   "cell_type": "code",
   "execution_count": null,
   "metadata": {},
   "outputs": [],
   "source": [
    "X9, y9 = extract_from_genres(z_path, 'Metal')"
   ]
  },
  {
   "cell_type": "code",
   "execution_count": null,
   "metadata": {},
   "outputs": [],
   "source": [
    "X10, y10 = extract_from_genres(z_path, 'Pop')"
   ]
  },
  {
   "cell_type": "code",
   "execution_count": null,
   "metadata": {},
   "outputs": [],
   "source": [
    "X11, y11 = extract_from_genres(z_path, 'Post-Rock')"
   ]
  },
  {
   "cell_type": "code",
   "execution_count": null,
   "metadata": {},
   "outputs": [],
   "source": [
    "X12, y12 = extract_from_genres(z_path, 'Psych-Rock')"
   ]
  },
  {
   "cell_type": "code",
   "execution_count": null,
   "metadata": {},
   "outputs": [],
   "source": [
    "X13, y13 = extract_from_genres(z_path, 'Punk')"
   ]
  },
  {
   "cell_type": "code",
   "execution_count": null,
   "metadata": {},
   "outputs": [],
   "source": [
    "X14, y14 = extract_from_genres(z_path, 'Reggae')"
   ]
  },
  {
   "cell_type": "code",
   "execution_count": null,
   "metadata": {},
   "outputs": [],
   "source": [
    "X15, y15 = extract_from_genres(z_path, 'Rock')"
   ]
  },
  {
   "cell_type": "code",
   "execution_count": null,
   "metadata": {},
   "outputs": [],
   "source": [
    "X16, y16 = extract_from_genres(z_path, 'Techno')"
   ]
  },
  {
   "cell_type": "code",
   "execution_count": null,
   "metadata": {},
   "outputs": [],
   "source": [
    "X17, y17 = extract_from_genres(z_path, 'Trip-Hop')"
   ]
  },
  {
   "cell_type": "code",
   "execution_count": null,
   "metadata": {},
   "outputs": [],
   "source": [
    "X = X0 + X1 + X2 + X3 + X4 + X5 + X6 + X7 + X8 + X9 + X10 + X11 + X12 + X13 + X14 + X15 + X16 + X17"
   ]
  },
  {
   "cell_type": "code",
   "execution_count": null,
   "metadata": {},
   "outputs": [],
   "source": [
    "y = y0 + y1 + y2 + y3 + y4 + y5 + y6 + y7 + y8 + y9 + y10 + y11 + y12 + y13 + y14 + y15 + y16 + y17"
   ]
  },
  {
   "cell_type": "code",
   "execution_count": 22,
   "metadata": {
    "tags": []
   },
   "outputs": [
    {
     "output_type": "stream",
     "name": "stdout",
     "text": [
      "8346\n"
     ]
    }
   ],
   "source": [
    "X = np.array(X)\n",
    "\n",
    "print(len(X))"
   ]
  },
  {
   "cell_type": "code",
   "execution_count": 9,
   "metadata": {},
   "outputs": [
    {
     "output_type": "stream",
     "name": "stdout",
     "text": [
      "8346\n"
     ]
    }
   ],
   "source": [
    "print(len(y))"
   ]
  },
  {
   "cell_type": "code",
   "execution_count": 24,
   "metadata": {},
   "outputs": [
    {
     "output_type": "stream",
     "name": "stdout",
     "text": [
      "Full labels:  0       Ambient Electronic\n1       Ambient Electronic\n2       Ambient Electronic\n3       Ambient Electronic\n4       Ambient Electronic\n               ...        \n8341              Trip-Hop\n8342              Trip-Hop\n8343              Trip-Hop\n8344              Trip-Hop\n8345              Trip-Hop\nLength: 8346, dtype: object <class 'pandas.core.series.Series'>\n"
     ]
    }
   ],
   "source": [
    "# Converting labels to numeric values\n",
    "full_labels = pd.Series(y)\n",
    "# print(\"Full labels: \", full_labels, type(full_labels))\n",
    "label_dict = {\n",
    "    'Ambient Electronic': 0,\n",
    "    'Chiptune': 1,\n",
    "    'Classical': 2,\n",
    "    'Country': 3,\n",
    "    'Electronic': 4,\n",
    "    'Folk': 5,\n",
    "    'Hip-Hop': 6,\n",
    "    'Indie-Rock': 7,\n",
    "    'Jazz': 8,\n",
    "    'Metal': 9,\n",
    "    'Pop': 10,\n",
    "    'Post-Rock': 11,\n",
    "    'Psych-Rock': 12,\n",
    "    'Punk': 13,\n",
    "    'Reggae': 14,\n",
    "    'Rock': 15,\n",
    "    'Techno': 16,\n",
    "    'Trip-Hop': 17\n",
    "}\n",
    "y = full_labels.map(label_dict).values"
   ]
  },
  {
   "cell_type": "code",
   "execution_count": 25,
   "metadata": {},
   "outputs": [],
   "source": [
    "# Train test split\n",
    "X_train, X_test, y_train, y_test = train_test_split(X, y, random_state=42, stratify=y, test_size=.2)"
   ]
  },
  {
   "cell_type": "code",
   "execution_count": 26,
   "metadata": {},
   "outputs": [
    {
     "output_type": "stream",
     "name": "stdout",
     "text": [
      "-80.0\n"
     ]
    }
   ],
   "source": [
    "# Checking the minimum value (the scale ranges from zero to some negative value) to see how we should scale the data\n",
    "min_val = X_train.min()\n",
    "print(min_val)"
   ]
  },
  {
   "cell_type": "code",
   "execution_count": 27,
   "metadata": {},
   "outputs": [],
   "source": [
    "# Scaling our data to be between 0 and 1 using the minimum value from above\n",
    "X_train /= min_val\n",
    "X_test /= min_val"
   ]
  },
  {
   "cell_type": "code",
   "execution_count": 28,
   "metadata": {},
   "outputs": [],
   "source": [
    "# Reshaping images to be 128 x 660 x 1, where the 1 represents the single color channel\n",
    "X_train = X_train.reshape(X_train.shape[0], 128, 660, 1)\n",
    "X_test = X_test.reshape(X_test.shape[0], 128, 660, 1)"
   ]
  },
  {
   "cell_type": "code",
   "execution_count": 29,
   "metadata": {},
   "outputs": [
    {
     "output_type": "stream",
     "name": "stdout",
     "text": [
      "[ 6 13 11 ...  5  9  2]\n[ 6 11  6 ...  6 10  1]\n"
     ]
    }
   ],
   "source": [
    "print(y_train)\n",
    "print(y_test)"
   ]
  },
  {
   "cell_type": "code",
   "execution_count": 30,
   "metadata": {},
   "outputs": [],
   "source": [
    "# One hot encoding our labels\n",
    "y_train = to_categorical(y_train, num_classes=18)\n",
    "y_test = to_categorical(y_test, num_classes=18)"
   ]
  },
  {
   "cell_type": "code",
   "execution_count": 31,
   "metadata": {},
   "outputs": [
    {
     "output_type": "stream",
     "name": "stdout",
     "text": [
      "[[0. 0. 0. ... 0. 0. 0.]\n [0. 0. 0. ... 0. 0. 0.]\n [0. 0. 0. ... 0. 0. 0.]\n ...\n [0. 0. 0. ... 0. 0. 0.]\n [0. 0. 0. ... 0. 0. 0.]\n [0. 0. 1. ... 0. 0. 0.]]\n[[0. 0. 0. ... 0. 0. 0.]\n [0. 0. 0. ... 0. 0. 0.]\n [0. 0. 0. ... 0. 0. 0.]\n ...\n [0. 0. 0. ... 0. 0. 0.]\n [0. 0. 0. ... 0. 0. 0.]\n [0. 1. 0. ... 0. 0. 0.]]\n"
     ]
    }
   ],
   "source": [
    "print(y_train)\n",
    "print(y_test)"
   ]
  },
  {
   "cell_type": "code",
   "execution_count": 33,
   "metadata": {},
   "outputs": [
    {
     "output_type": "stream",
     "name": "stdout",
     "text": [
      "Epoch 1/15\n",
      "418/418 [==============================] - 148s 354ms/step - loss: 2.7116 - accuracy: 0.2079 - val_loss: 2.6136 - val_accuracy: 0.2275\n",
      "Epoch 2/15\n",
      "418/418 [==============================] - 146s 349ms/step - loss: 2.3425 - accuracy: 0.2851 - val_loss: 2.2211 - val_accuracy: 0.3012\n",
      "Epoch 3/15\n",
      "418/418 [==============================] - 147s 350ms/step - loss: 2.0808 - accuracy: 0.3538 - val_loss: 1.9585 - val_accuracy: 0.3880\n",
      "Epoch 4/15\n",
      "418/418 [==============================] - 148s 353ms/step - loss: 1.9350 - accuracy: 0.3895 - val_loss: 1.7967 - val_accuracy: 0.4311\n",
      "Epoch 5/15\n",
      "418/418 [==============================] - 148s 355ms/step - loss: 1.8456 - accuracy: 0.4089 - val_loss: 1.7440 - val_accuracy: 0.4419\n",
      "Epoch 6/15\n",
      "418/418 [==============================] - 148s 354ms/step - loss: 1.7966 - accuracy: 0.4221 - val_loss: 1.7643 - val_accuracy: 0.4341\n",
      "Epoch 7/15\n",
      "418/418 [==============================] - 148s 355ms/step - loss: 1.7371 - accuracy: 0.4369 - val_loss: 1.7029 - val_accuracy: 0.4587\n",
      "Epoch 8/15\n",
      "418/418 [==============================] - 143s 341ms/step - loss: 1.6931 - accuracy: 0.4527 - val_loss: 1.7509 - val_accuracy: 0.4335\n",
      "Epoch 9/15\n",
      "418/418 [==============================] - 146s 348ms/step - loss: 1.6576 - accuracy: 0.4623 - val_loss: 1.6497 - val_accuracy: 0.4671\n",
      "Epoch 10/15\n",
      "418/418 [==============================] - 146s 349ms/step - loss: 1.6163 - accuracy: 0.4678 - val_loss: 1.6472 - val_accuracy: 0.4629\n",
      "Epoch 11/15\n",
      "418/418 [==============================] - 148s 353ms/step - loss: 1.5950 - accuracy: 0.4775 - val_loss: 1.7277 - val_accuracy: 0.4449\n",
      "Epoch 12/15\n",
      "418/418 [==============================] - 134s 320ms/step - loss: 1.5511 - accuracy: 0.4865 - val_loss: 1.6752 - val_accuracy: 0.4575\n",
      "Epoch 13/15\n",
      "418/418 [==============================] - 125s 300ms/step - loss: 1.5175 - accuracy: 0.4960 - val_loss: 1.6263 - val_accuracy: 0.4778\n",
      "Epoch 14/15\n",
      "418/418 [==============================] - 124s 297ms/step - loss: 1.4939 - accuracy: 0.5006 - val_loss: 1.6394 - val_accuracy: 0.4749\n",
      "Epoch 15/15\n",
      "418/418 [==============================] - 126s 302ms/step - loss: 1.4894 - accuracy: 0.5061 - val_loss: 1.6331 - val_accuracy: 0.4802\n",
      "2131.805577278137\n"
     ]
    }
   ],
   "source": [
    "#CNN\n",
    "# Initializing a random seed for replication purposes\n",
    "start = time.time()\n",
    "np.random.seed(12345)\n",
    "tf.random.set_seed(123)\n",
    "\n",
    "# Initiating an empty neural network\n",
    "cnn_model = Sequential(name='cnn_1')\n",
    "\n",
    "# Adding convolutional layer\n",
    "cnn_model.add(Conv2D(filters=32,\n",
    "                     kernel_size=(5,5),\n",
    "                     activation='relu',\n",
    "                     input_shape=(128,660,1)))\n",
    "\n",
    "# Adding max pooling layer\n",
    "cnn_model.add(MaxPooling2D(pool_size=(4,4)))\n",
    "\n",
    "# Adding convolutional layer\n",
    "cnn_model.add(Conv2D(filters=16,\n",
    "                     kernel_size=(5,5),\n",
    "                     activation='relu'))\n",
    "\n",
    "# Adding max pooling layer\n",
    "cnn_model.add(MaxPooling2D(pool_size=(4,4)))\n",
    "\n",
    "# Adding a flattened layer to input our image data\n",
    "cnn_model.add(Flatten())\n",
    "\n",
    "# Adding a dense layer with 64 neurons\n",
    "cnn_model.add(Dense(64, activation='relu'))\n",
    "\n",
    "# Adding a dropout layer for regularization\n",
    "cnn_model.add(Dropout(0.25))\n",
    "\n",
    "# Adding an output layer\n",
    "cnn_model.add(Dense(18, activation='softmax'))\n",
    "\n",
    "# Compiling our neural network\n",
    "cnn_model.compile(loss='categorical_crossentropy',\n",
    "                  optimizer='adam',\n",
    "                  metrics=['accuracy'])\n",
    "\n",
    "# Fitting our neural network\n",
    "history = cnn_model.fit(X_train,\n",
    "                        y_train, \n",
    "                        batch_size=16,\n",
    "                        validation_data=(X_test, y_test),\n",
    "                        epochs=15)\n",
    "\n",
    "end = time.time()\n",
    "print(end - start)"
   ]
  },
  {
   "cell_type": "code",
   "execution_count": 35,
   "metadata": {},
   "outputs": [
    {
     "output_type": "stream",
     "name": "stdout",
     "text": [
      "6676/6676 [==============================] - 188s 28ms/step - loss: 2.3652 - accuracy: 0.3048 - val_loss: 1.9201 - val_accuracy: 0.4042\n",
      "188.083163022995\n"
     ]
    }
   ],
   "source": [
    "start = time.time()\n",
    "np.random.seed(12346)\n",
    "tf.random.set_seed(1234)\n",
    "\n",
    "# Initiating an empty neural network\n",
    "cnn_model2 = Sequential(name='cnn_2')\n",
    "\n",
    "# Adding convolutional layer\n",
    "cnn_model2.add(Conv2D(filters=16,\n",
    "                     kernel_size=(3,3),\n",
    "                     activation='relu',\n",
    "                     input_shape=(128,660,1)))\n",
    "\n",
    "# Adding max pooling layer\n",
    "cnn_model2.add(MaxPooling2D(pool_size=(2,4)))\n",
    "\n",
    "# Adding convolutional layer\n",
    "cnn_model2.add(Conv2D(filters=32,\n",
    "                     kernel_size=(3,3),\n",
    "                     activation='relu'))\n",
    "\n",
    "# Adding max pooling layer\n",
    "cnn_model2.add(MaxPooling2D(pool_size=(2,4)))\n",
    "\n",
    "# Adding a flattened layer to input our image data\n",
    "cnn_model2.add(Flatten())\n",
    "\n",
    "# Adding a dense layer with 64 neurons\n",
    "cnn_model2.add(Dense(64, activation='relu'))\n",
    "\n",
    "# Adding a dropout layer for regularization\n",
    "cnn_model2.add(Dropout(0.25))\n",
    "\n",
    "# Adding an output layer\n",
    "cnn_model2.add(Dense(18, activation='softmax'))\n",
    "\n",
    "# Compiling our neural network\n",
    "cnn_model2.compile(loss='categorical_crossentropy',\n",
    "                  optimizer='adam',\n",
    "                  metrics=['accuracy'])\n",
    "\n",
    "# Fitting our neural network\n",
    "history2 = cnn_model2.fit(X_train,\n",
    "                        y_train, \n",
    "                        batch_size=1,\n",
    "                        validation_data=(X_test, y_test),\n",
    "                        epochs=1)\n",
    "\n",
    "end = time.time()\n",
    "print(end - start)"
   ]
  },
  {
   "cell_type": "code",
   "execution_count": 36,
   "metadata": {},
   "outputs": [
    {
     "output_type": "stream",
     "name": "stdout",
     "text": [
      "Epoch 1/50\n",
      "6676/6676 [==============================] - 191s 29ms/step - loss: 2.6877 - accuracy: 0.2070 - val_loss: 2.7664 - val_accuracy: 0.2096\n",
      "Epoch 2/50\n",
      "6676/6676 [==============================] - 183s 27ms/step - loss: 2.7237 - accuracy: 0.2097 - val_loss: 2.7093 - val_accuracy: 0.2096\n",
      "Epoch 3/50\n",
      "6676/6676 [==============================] - 182s 27ms/step - loss: 2.7095 - accuracy: 0.2097 - val_loss: 2.7081 - val_accuracy: 0.2096\n",
      "Epoch 4/50\n",
      "6676/6676 [==============================] - 183s 27ms/step - loss: 2.7093 - accuracy: 0.2097 - val_loss: 2.7080 - val_accuracy: 0.2096\n",
      "Epoch 5/50\n",
      "6676/6676 [==============================] - 183s 27ms/step - loss: 2.7090 - accuracy: 0.2097 - val_loss: 2.7081 - val_accuracy: 0.2096\n",
      "Epoch 6/50\n",
      "6676/6676 [==============================] - 183s 27ms/step - loss: 2.7092 - accuracy: 0.2097 - val_loss: 2.7081 - val_accuracy: 0.2096\n",
      "Epoch 7/50\n",
      "6676/6676 [==============================] - 183s 27ms/step - loss: 2.7092 - accuracy: 0.2097 - val_loss: 2.7080 - val_accuracy: 0.2096\n",
      "Epoch 8/50\n",
      "6676/6676 [==============================] - 183s 27ms/step - loss: 2.7092 - accuracy: 0.2097 - val_loss: 2.7080 - val_accuracy: 0.2096\n",
      "Epoch 9/50\n",
      "6676/6676 [==============================] - 183s 27ms/step - loss: 2.7094 - accuracy: 0.2097 - val_loss: 2.7080 - val_accuracy: 0.2096\n",
      "Epoch 10/50\n",
      "6676/6676 [==============================] - 183s 27ms/step - loss: 2.7092 - accuracy: 0.2097 - val_loss: 2.7081 - val_accuracy: 0.2096\n",
      "Epoch 11/50\n",
      "6676/6676 [==============================] - 183s 27ms/step - loss: 2.7093 - accuracy: 0.2097 - val_loss: 2.7081 - val_accuracy: 0.2096\n",
      "Epoch 12/50\n",
      "6676/6676 [==============================] - 183s 27ms/step - loss: 2.7092 - accuracy: 0.2097 - val_loss: 2.7080 - val_accuracy: 0.2096\n",
      "Epoch 13/50\n",
      "6676/6676 [==============================] - 183s 27ms/step - loss: 2.7094 - accuracy: 0.2097 - val_loss: 2.7079 - val_accuracy: 0.2096\n",
      "Epoch 14/50\n",
      "6676/6676 [==============================] - 183s 27ms/step - loss: 2.7091 - accuracy: 0.2097 - val_loss: 2.7080 - val_accuracy: 0.2096\n",
      "Epoch 15/50\n",
      "6676/6676 [==============================] - 183s 27ms/step - loss: 2.7092 - accuracy: 0.2097 - val_loss: 2.7081 - val_accuracy: 0.2096\n",
      "Epoch 16/50\n",
      "6676/6676 [==============================] - 183s 27ms/step - loss: 2.7093 - accuracy: 0.2097 - val_loss: 2.7080 - val_accuracy: 0.2096\n",
      "Epoch 17/50\n",
      "6676/6676 [==============================] - 183s 27ms/step - loss: 2.7093 - accuracy: 0.2097 - val_loss: 2.7079 - val_accuracy: 0.2096\n",
      "Epoch 18/50\n",
      "6676/6676 [==============================] - 183s 27ms/step - loss: 2.7093 - accuracy: 0.2097 - val_loss: 2.7080 - val_accuracy: 0.2096\n",
      "Epoch 19/50\n",
      "6676/6676 [==============================] - 183s 27ms/step - loss: 2.7090 - accuracy: 0.2097 - val_loss: 2.7082 - val_accuracy: 0.2096\n",
      "Epoch 20/50\n",
      "6676/6676 [==============================] - 183s 27ms/step - loss: 2.7093 - accuracy: 0.2097 - val_loss: 2.7081 - val_accuracy: 0.2096\n",
      "Epoch 21/50\n",
      "6676/6676 [==============================] - 184s 28ms/step - loss: 2.7092 - accuracy: 0.2097 - val_loss: 2.7081 - val_accuracy: 0.2096\n",
      "Epoch 22/50\n",
      "6676/6676 [==============================] - 183s 27ms/step - loss: 2.7093 - accuracy: 0.2097 - val_loss: 2.7081 - val_accuracy: 0.2096\n",
      "Epoch 23/50\n",
      "6676/6676 [==============================] - 184s 28ms/step - loss: 2.7092 - accuracy: 0.2097 - val_loss: 2.7081 - val_accuracy: 0.2096\n",
      "Epoch 24/50\n",
      "6676/6676 [==============================] - 183s 27ms/step - loss: 2.7092 - accuracy: 0.2097 - val_loss: 2.7082 - val_accuracy: 0.2096\n",
      "Epoch 25/50\n",
      "6676/6676 [==============================] - 183s 27ms/step - loss: 2.7094 - accuracy: 0.2097 - val_loss: 2.7080 - val_accuracy: 0.2096\n",
      "Epoch 26/50\n",
      "6676/6676 [==============================] - 183s 27ms/step - loss: 2.7091 - accuracy: 0.2097 - val_loss: 2.7081 - val_accuracy: 0.2096\n",
      "Epoch 27/50\n",
      "6676/6676 [==============================] - 183s 27ms/step - loss: 2.7091 - accuracy: 0.2097 - val_loss: 2.7082 - val_accuracy: 0.2096\n",
      "Epoch 28/50\n",
      "6676/6676 [==============================] - 183s 27ms/step - loss: 2.7094 - accuracy: 0.2097 - val_loss: 2.7080 - val_accuracy: 0.2096\n",
      "Epoch 29/50\n",
      "6676/6676 [==============================] - 184s 28ms/step - loss: 2.7094 - accuracy: 0.2097 - val_loss: 2.7079 - val_accuracy: 0.2096\n",
      "Epoch 30/50\n",
      "6676/6676 [==============================] - 183s 27ms/step - loss: 2.7092 - accuracy: 0.2097 - val_loss: 2.7081 - val_accuracy: 0.2096\n",
      "Epoch 31/50\n",
      "6676/6676 [==============================] - 184s 28ms/step - loss: 2.7092 - accuracy: 0.2097 - val_loss: 2.7081 - val_accuracy: 0.2096\n",
      "Epoch 32/50\n",
      "6676/6676 [==============================] - 184s 28ms/step - loss: 2.7093 - accuracy: 0.2097 - val_loss: 2.7080 - val_accuracy: 0.2096\n",
      "Epoch 33/50\n",
      "6676/6676 [==============================] - 184s 27ms/step - loss: 2.7094 - accuracy: 0.2097 - val_loss: 2.7080 - val_accuracy: 0.2096\n",
      "Epoch 34/50\n",
      "6676/6676 [==============================] - 184s 28ms/step - loss: 2.7092 - accuracy: 0.2097 - val_loss: 2.7080 - val_accuracy: 0.2096\n",
      "Epoch 35/50\n",
      "6676/6676 [==============================] - 184s 27ms/step - loss: 2.7094 - accuracy: 0.2097 - val_loss: 2.7080 - val_accuracy: 0.2096\n",
      "Epoch 36/50\n",
      "6676/6676 [==============================] - 184s 28ms/step - loss: 2.7093 - accuracy: 0.2097 - val_loss: 2.7080 - val_accuracy: 0.2096\n",
      "Epoch 37/50\n",
      "6676/6676 [==============================] - 184s 28ms/step - loss: 2.7093 - accuracy: 0.2097 - val_loss: 2.7080 - val_accuracy: 0.2096\n",
      "Epoch 38/50\n",
      "6676/6676 [==============================] - 183s 27ms/step - loss: 2.7091 - accuracy: 0.2097 - val_loss: 2.7082 - val_accuracy: 0.2096\n",
      "Epoch 39/50\n",
      "6676/6676 [==============================] - 184s 28ms/step - loss: 2.7092 - accuracy: 0.2097 - val_loss: 2.7082 - val_accuracy: 0.2096\n",
      "Epoch 40/50\n",
      "6676/6676 [==============================] - 183s 27ms/step - loss: 2.7092 - accuracy: 0.2097 - val_loss: 2.7082 - val_accuracy: 0.2096\n",
      "Epoch 41/50\n",
      "6676/6676 [==============================] - 184s 28ms/step - loss: 2.7091 - accuracy: 0.2097 - val_loss: 2.7083 - val_accuracy: 0.2096\n",
      "Epoch 42/50\n",
      "6676/6676 [==============================] - 184s 28ms/step - loss: 2.7092 - accuracy: 0.2097 - val_loss: 2.7081 - val_accuracy: 0.2096\n",
      "Epoch 43/50\n",
      "6676/6676 [==============================] - 184s 27ms/step - loss: 2.7090 - accuracy: 0.2097 - val_loss: 2.7083 - val_accuracy: 0.2096\n",
      "Epoch 44/50\n",
      "6676/6676 [==============================] - 184s 28ms/step - loss: 2.7092 - accuracy: 0.2097 - val_loss: 2.7083 - val_accuracy: 0.2096\n",
      "Epoch 45/50\n",
      "6676/6676 [==============================] - 183s 27ms/step - loss: 2.7093 - accuracy: 0.2097 - val_loss: 2.7081 - val_accuracy: 0.2096\n",
      "Epoch 46/50\n",
      "6676/6676 [==============================] - 184s 28ms/step - loss: 2.7092 - accuracy: 0.2097 - val_loss: 2.7081 - val_accuracy: 0.2096\n",
      "Epoch 47/50\n",
      "6676/6676 [==============================] - 184s 28ms/step - loss: 2.7092 - accuracy: 0.2097 - val_loss: 2.7081 - val_accuracy: 0.2096\n",
      "Epoch 48/50\n",
      "6676/6676 [==============================] - 184s 28ms/step - loss: 2.7090 - accuracy: 0.2097 - val_loss: 2.7082 - val_accuracy: 0.2096\n",
      "Epoch 49/50\n",
      "6676/6676 [==============================] - 184s 28ms/step - loss: 2.7093 - accuracy: 0.2097 - val_loss: 2.7080 - val_accuracy: 0.2096\n",
      "Epoch 50/50\n",
      "6676/6676 [==============================] - 184s 28ms/step - loss: 2.7093 - accuracy: 0.2097 - val_loss: 2.7080 - val_accuracy: 0.2096\n",
      "9178.422546386719\n"
     ]
    }
   ],
   "source": [
    "\n",
    "\n",
    "start = time.time()\n",
    "np.random.seed(12444)\n",
    "tf.random.set_seed(1244)\n",
    "\n",
    "# Initiating an empty neural network\n",
    "cnn_model3 = Sequential(name='cnn_3')\n",
    "\n",
    "# Adding convolutional layer\n",
    "cnn_model3.add(Conv2D(filters=16,\n",
    "                     kernel_size=(3,3),\n",
    "                     activation='relu',\n",
    "                     input_shape=(128,660,1)))\n",
    "\n",
    "# Adding max pooling layer\n",
    "cnn_model3.add(MaxPooling2D(pool_size=(2,4)))\n",
    "\n",
    "# Adding convolutional layer\n",
    "cnn_model3.add(Conv2D(filters=32,\n",
    "                     kernel_size=(3,3),\n",
    "                     activation='relu'))\n",
    "\n",
    "# Adding max pooling layer\n",
    "cnn_model3.add(MaxPooling2D(pool_size=(2,4)))\n",
    "\n",
    "# Adding a flattened layer to input our image data\n",
    "cnn_model3.add(Flatten())\n",
    "\n",
    "# Adding a dense layer with 64 neurons\n",
    "cnn_model3.add(Dense(64, activation='relu'))\n",
    "\n",
    "# Adding a dropout layer for regularization\n",
    "cnn_model3.add(Dropout(0.25))\n",
    "\n",
    "# Adding an output layer\n",
    "cnn_model3.add(Dense(18, activation='softmax'))\n",
    "\n",
    "# Compiling our neural network\n",
    "cnn_model3.compile(loss='categorical_crossentropy',\n",
    "                  optimizer='adam',\n",
    "                  metrics=['accuracy'])\n",
    "\n",
    "# Fitting our neural network\n",
    "history3 = cnn_model3.fit(X_train,\n",
    "                        y_train, \n",
    "                        batch_size=1,\n",
    "                        validation_data=(X_test, y_test),\n",
    "                        epochs=50)\n",
    "\n",
    "end = time.time()\n",
    "print(end - start)"
   ]
  },
  {
   "cell_type": "code",
   "execution_count": 46,
   "metadata": {},
   "outputs": [],
   "source": [
    "import random\n",
    "import copy\n",
    "\n",
    "start = time.time()\n",
    "\n",
    "models = {}\n",
    "histories = {}\n",
    "data_splits = {}\n",
    "\n",
    "x_z = X[:]\n",
    "y_z = y[:]\n",
    "min_val = x_z.min()\n",
    "x_z /= min_val\n",
    "x_z = x_z.reshape(x_z.shape[0], 128, 660, 1)\n",
    "y_z = to_categorical(y_z, num_classes=18)\n",
    "\n",
    "top_acc = 0.48\n",
    "\n",
    "for i in range(5,10):\n",
    "    model_name = \"model_\" + str(i)\n",
    "    print(\"\\n\", model_name, \": \\n\")\n",
    "    random.seed(i)\n",
    "    r1 = random.randint(12000, 12500)\n",
    "    print(\"seed 1: \", r1)\n",
    "    r2 = random.randint(10000, 11999)\n",
    "    print(\"seed 2: \", r2)\n",
    "    np.random.seed(r1)\n",
    "    tf.random.set_seed(r2)\n",
    "\n",
    "    X_train, X_test, y_train, y_test = train_test_split(x_z, y_z, random_state=50+i, stratify=y_z, test_size=.2)\n",
    "    data_splits[model_name] = copy.deepcopy([X_train, X_test, y_train, y_test])\n",
    "\n",
    "    # Initiating an empty neural network\n",
    "    temp_model = Sequential(name=model_name)\n",
    "\n",
    "    # Adding convolutional layer\n",
    "    filters = random.randint(16, 32)\n",
    "    print(\"filters 1: \", filters)\n",
    "    temp_model.add(Conv2D(filters=filters,\n",
    "                        kernel_size=(3,3),\n",
    "                        activation='relu',\n",
    "                        input_shape=(128,660,1)))\n",
    "\n",
    "    # Adding max pooling layer\n",
    "    pools = random.randint(2, 5)\n",
    "    print(\"pooling 1: \", pools)\n",
    "    temp_model.add(MaxPooling2D(pool_size=(pools,pools)))\n",
    "\n",
    "    # Adding convolutional layer\n",
    "    filters = random.randint(16, 32)\n",
    "    print(\"filters 2: \", filters)\n",
    "    temp_model.add(Conv2D(filters=filters,\n",
    "                        kernel_size=(3,3),\n",
    "                        activation='relu'))\n",
    "\n",
    "    # Adding max pooling layer\n",
    "    pools = random.randint(2, 5)\n",
    "    print(\"pooling 2: \", pools)\n",
    "    temp_model.add(MaxPooling2D(pool_size=(pools,pools)))\n",
    "\n",
    "    # Adding a flattened layer to input our image data\n",
    "    temp_model.add(Flatten())\n",
    "\n",
    "    # Adding a dense layer with 64 neurons\n",
    "    neurons = random.randint(60, 128)\n",
    "    print(\"neurons: \", neurons)\n",
    "    temp_model.add(Dense(neurons, activation='relu'))\n",
    "\n",
    "    # Adding a dropout layer for regularization\n",
    "    dropout = random.randint(20, 50)\n",
    "    dropout /= 100\n",
    "    print(\"dropout: \", dropout)\n",
    "    temp_model.add(Dropout(dropout))\n",
    "\n",
    "    # Adding an output layer\n",
    "    temp_model.add(Dense(18, activation='softmax'))\n",
    "\n",
    "    # Compiling our neural network\n",
    "    temp_model.compile(loss='categorical_crossentropy',\n",
    "                    optimizer='adam',\n",
    "                    metrics=['accuracy'])\n",
    "\n",
    "    # Fitting our neural network\n",
    "    batch_size = random.randint(1, 18)\n",
    "    epochs = random.randint(7, 15)\n",
    "    print(\"batch size: \", batch_size)\n",
    "    print(\"epochs: \", epochs)\n",
    "    histories[model_name] = temp_model.fit(X_train,\n",
    "                            y_train, \n",
    "                            batch_size=batch_size,\n",
    "                            validation_data=(X_test, y_test),\n",
    "                            epochs=epochs)\n",
    "    \n",
    "    if histories[model_name].history['accuracy'] > top_acc:\n",
    "        top_acc = histories[model_name].history['accuracy']\n",
    "        model_dir = 'C:\\\\Users\\\\Zack\\\\Desktop\\\\work\\\\OSU\\\\467_capstone\\\\Genre_classification\\\\Model'\n",
    "        model_name = model_name + \".h5\"\n",
    "        save_path = os.path.join(subdir, model_name)\n",
    "        temp_model.save(save_path)\n",
    "        print(\"saved \", model_name)\n",
    "        print(\"accuracy: \", top_acc)\n",
    "\n",
    "\n",
    "end = time.time()\n",
    "print(end - start)\n",
    "\n"
   ]
  },
  {
   "cell_type": "code",
   "execution_count": null,
   "metadata": {},
   "outputs": [],
   "source": [
    "# Checking the model summary\n",
    "cnn_model.summary()"
   ]
  },
  {
   "cell_type": "code",
   "execution_count": null,
   "metadata": {},
   "outputs": [],
   "source": [
    "# The code in this cell was adapted from a lecture at General Assembly\n",
    "\n",
    "# Check out our train loss and test loss over epochs.\n",
    "train_loss = history.history['loss']\n",
    "test_loss = history.history['val_loss']\n",
    "\n",
    "# Set figure size.\n",
    "plt.figure(figsize=(12, 8))\n",
    "\n",
    "# Generate line plot of training, testing loss over epochs.\n",
    "plt.plot(train_loss, label='Training Loss', color='blue')\n",
    "plt.plot(test_loss, label='Testing Loss', color='red')\n",
    "\n",
    "# Set title\n",
    "plt.title('Training and Testing Loss by Epoch', fontsize = 25)\n",
    "plt.xlabel('Epoch', fontsize = 18)\n",
    "plt.ylabel('Categorical Crossentropy', fontsize = 18)\n",
    "plt.xticks(range(1,16), range(1,16))\n",
    "\n",
    "plt.legend(fontsize = 18);"
   ]
  },
  {
   "cell_type": "code",
   "execution_count": null,
   "metadata": {},
   "outputs": [],
   "source": [
    "# The code in this cell was adapted from a lecture at General Assembly\n",
    "\n",
    "# Check out our train accuracy and test accuracy over epochs.\n",
    "train_loss = history.history['accuracy']\n",
    "test_loss = history.history['val_accuracy']\n",
    "\n",
    "# Set figure size.\n",
    "plt.figure(figsize=(12, 8))\n",
    "\n",
    "# Generate line plot of training, testing loss over epochs.\n",
    "plt.plot(train_loss, label='Training Accuracy', color='blue')\n",
    "plt.plot(test_loss, label='Testing Accuracy', color='red')\n",
    "\n",
    "# Set title\n",
    "plt.title('Training and Testing Accuracy by Epoch', fontsize = 25)\n",
    "plt.xlabel('Epoch', fontsize = 18)\n",
    "plt.ylabel('Accuracy', fontsize = 18)\n",
    "plt.xticks(range(1,21), range(1,21))\n",
    "\n",
    "plt.legend(fontsize = 18);"
   ]
  },
  {
   "cell_type": "code",
   "execution_count": null,
   "metadata": {},
   "outputs": [],
   "source": [
    "test = cnn_model.evaluate(X_test, y_test, verbose=0)\n",
    "print('Test loss: ', test[0])\n",
    "print('Test accuracy: ', test[1])"
   ]
  },
  {
   "cell_type": "code",
   "execution_count": null,
   "metadata": {},
   "outputs": [],
   "source": [
    "# Making predictions from the cnn model\n",
    "predictions = cnn_model.predict(X_test, verbose=1)"
   ]
  },
  {
   "cell_type": "code",
   "execution_count": null,
   "metadata": {},
   "outputs": [],
   "source": [
    "## CONFUSION MATRIX\n",
    "# Checking the number of targets per class\n",
    "for i in range(18): \n",
    "    print(f'{i}: {sum([1 for target in y_test if target[i] == 1])}')"
   ]
  },
  {
   "cell_type": "code",
   "execution_count": null,
   "metadata": {},
   "outputs": [],
   "source": [
    "# Checking the number of predicted values in each class\n",
    "for i in range(18): \n",
    "    print(f'{i}: {sum([1 for prediction in predictions if np.argmax(prediction) == i])}')"
   ]
  },
  {
   "cell_type": "code",
   "execution_count": null,
   "metadata": {},
   "outputs": [],
   "source": [
    "# Calculating the confusion matrix \n",
    "# row: actual\n",
    "# columns: predicted\n",
    "conf_matrix = confusion_matrix(np.argmax(y_test, 1), np.argmax(predictions, 1))\n",
    "conf_matrix"
   ]
  },
  {
   "cell_type": "code",
   "execution_count": null,
   "metadata": {},
   "outputs": [],
   "source": [
    "# Creating a dataframe of the confusion matrix with labels for readability \n",
    "confusion_df = pd.DataFrame(conf_matrix)\n",
    "confusion_df"
   ]
  },
  {
   "cell_type": "code",
   "execution_count": null,
   "metadata": {},
   "outputs": [],
   "source": [
    "# List of a subset of the genres\n",
    "labels_dict = {\n",
    "    0: 'Ambient Electronic',\n",
    "    1: 'Chiptune',\n",
    "    2: 'Classical',\n",
    "    3: 'Country',\n",
    "    4: 'Electronic',\n",
    "    5: 'Folk',\n",
    "    6: 'Hip-Hop',\n",
    "    7: 'Indie-Rock',\n",
    "    8: 'Jazz',\n",
    "    9: 'Metal',\n",
    "    10: 'Pop',\n",
    "    11: 'Post-Rock',\n",
    "    12: 'Psych-Rock',\n",
    "    13: 'Punk',\n",
    "    14: 'Reggae',\n",
    "    15: 'Rock',\n",
    "    16: 'Techno',\n",
    "    17: 'Trip-Hop'\n",
    "}\n",
    "\n"
   ]
  },
  {
   "cell_type": "code",
   "execution_count": null,
   "metadata": {},
   "outputs": [],
   "source": [
    "# Renaming rows and columns with labes\n",
    "confusion_df = confusion_df.rename(columns=labels_dict)\n",
    "confusion_df.index = confusion_df.columns\n",
    "confusion_df"
   ]
  },
  {
   "cell_type": "code",
   "execution_count": null,
   "metadata": {},
   "outputs": [],
   "source": [
    "# Creating a heatmap for the confusion matrix for display\n",
    "plt.figure(figsize= (20,12))\n",
    "sns.set(font_scale = 2);\n",
    "ax = sns.heatmap(confusion_df, annot=True, cmap=sns.cubehelix_palette(50));\n",
    "ax.set(xlabel='Predicted Values', ylabel='Actual Values');"
   ]
  },
  {
   "cell_type": "code",
   "execution_count": null,
   "metadata": {},
   "outputs": [],
   "source": [
    "# from joblib import dump, load\n",
    "\n",
    "# # swtich to model directory\n",
    "# os.chdir(r\"/Volumes/APE_External/Dropbox/_Classes/21_Winter/CS_467/Project_Folder/Music_Genre_Classification/Model\")\n",
    "\n",
    "# # create and save file\n",
    "# joblib_file = \"model_030921.joblib\"\n",
    "# dump(cnn_model, joblib_file)"
   ]
  },
  {
   "source": [
    "from keras.models import load_model\n",
    "\n",
    "models['model_0'].save('C:\\\\Users\\\\Zack\\\\Desktop\\\\work\\\\OSU\\\\467_capstone\\\\Genre_classification\\\\Model\\\\model_0_310_10am.h5')"
   ],
   "cell_type": "code",
   "metadata": {},
   "execution_count": 45,
   "outputs": []
  },
  {
   "cell_type": "code",
   "execution_count": null,
   "metadata": {},
   "outputs": [],
   "source": [
    "os.chdir('C:\\\\Users\\\\Zack\\\\Desktop\\\\work\\\\OSU\\\\467_capstone\\\\Genre_classification\\\\Model')\n",
    "model = load_model('model_030921.h5')"
   ]
  },
  {
   "cell_type": "code",
   "execution_count": null,
   "metadata": {},
   "outputs": [],
   "source": []
  }
 ]
}