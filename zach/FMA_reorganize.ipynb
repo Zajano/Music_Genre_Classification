{
 "metadata": {
  "language_info": {
   "codemirror_mode": {
    "name": "ipython",
    "version": 3
   },
   "file_extension": ".py",
   "mimetype": "text/x-python",
   "name": "python",
   "nbconvert_exporter": "python",
   "pygments_lexer": "ipython3",
   "version": "3.8.3-final"
  },
  "orig_nbformat": 2,
  "kernelspec": {
   "name": "python3",
   "display_name": "Python 3",
   "language": "python"
  }
 },
 "nbformat": 4,
 "nbformat_minor": 2,
 "cells": [
  {
   "source": [
    "# exploring genre and sub-genre data from the Free Music Archive"
   ],
   "cell_type": "markdown",
   "metadata": {}
  },
  {
   "cell_type": "code",
   "execution_count": 14,
   "metadata": {},
   "outputs": [],
   "source": [
    "import pandas as pd\n",
    "from pathlib import Path\n",
    "import eyed3\n",
    "import os\n",
    "from config import *\n",
    "\n",
    "eyed3.log.setLevel(\"ERROR\")"
   ]
  },
  {
   "source": [
    "### notebook functions"
   ],
   "cell_type": "markdown",
   "metadata": {}
  },
  {
   "cell_type": "code",
   "execution_count": 15,
   "metadata": {},
   "outputs": [],
   "source": [
    "def make_file_list(root_dir):\n",
    "    '''given a directory, loops through folders and files and return list of files paths\n",
    "        and file names'''\n",
    "    for subdir, dirs, files in os.walk(root_dir):\n",
    "        path_list = [os.path.join(subdir, file) for file in files if file.endswith(('.mp3', '.wav'))]\n",
    "\n",
    "    return path_list\n",
    "\n",
    "def get_genre_id(genre_dict_list):\n",
    "    return genre_dict_list[0]['genre_id']\n",
    "\n",
    "def id_to_int(val):\n",
    "    return int(val)"
   ]
  },
  {
   "source": [
    "### import data from targeted directory"
   ],
   "cell_type": "markdown",
   "metadata": {}
  },
  {
   "cell_type": "code",
   "execution_count": 16,
   "metadata": {},
   "outputs": [],
   "source": [
    "metadata = z_path + \"\\\\fma_metadata\"\n",
    "os.chdir(metadata)\n",
    "\n",
    "genres_df = pd.read_csv('genres.csv')\n",
    "tracks_df = pd.read_csv('raw_tracks.csv')"
   ]
  },
  {
   "source": [
    "### make dataframes and adjustments"
   ],
   "cell_type": "markdown",
   "metadata": {}
  },
  {
   "cell_type": "code",
   "execution_count": 17,
   "metadata": {},
   "outputs": [],
   "source": [
    "# drop rows missing the 'genre' value\n",
    "tracks_df = tracks_df[tracks_df['track_genres'].notna()]\n",
    "\n",
    "# string conversion to list of genre dictionaries\n",
    "tracks_df['track_genres'] = tracks_df['track_genres'].apply(eval)\n",
    "\n",
    "# assign primary genre classification id, then make an int\n",
    "tracks_df['genre_ids'] = tracks_df['track_genres'].apply(get_genre_id)\n",
    "\n",
    "# convert IDs to ints for comparisons\n",
    "tracks_df['genre_ids'] = tracks_df['genre_ids'].apply(id_to_int)\n",
    "tracks_df['track_id'] = tracks_df['track_id'].apply(id_to_int)"
   ]
  },
  {
   "source": [
    "### dictionaries for lookups"
   ],
   "cell_type": "markdown",
   "metadata": {}
  },
  {
   "cell_type": "code",
   "execution_count": 18,
   "metadata": {},
   "outputs": [],
   "source": [
    "# dictionaries for top-level genre lookup from ID values\n",
    "genre_lookup = genres_df.set_index('genre_id').to_dict()['title']\n",
    "id_lookup = genres_df.set_index('title').to_dict()['genre_id']\n",
    "\n",
    "# if we ever want everything under only a few genres\n",
    "# key = current genre, value = parent genre\n",
    "parent_lookup = genres_df.set_index('genre_id').to_dict()['top_level']\n",
    "\n",
    "# when a genre has no parent, it is top-level\n",
    "top_genres = genres_df[genres_df['parent'] == 0]['title'].to_list()"
   ]
  },
  {
   "cell_type": "code",
   "execution_count": 19,
   "metadata": {},
   "outputs": [],
   "source": [
    "# get songs to count genres\n",
    "root_dir = z_path + \"\\\\fma_medium\"\n",
    "\n",
    "song_paths = make_file_list(root_dir)"
   ]
  },
  {
   "cell_type": "code",
   "execution_count": 20,
   "metadata": {
    "tags": []
   },
   "outputs": [
    {
     "output_type": "stream",
     "name": "stdout",
     "text": [
      "['C:\\\\Users\\\\Zack\\\\Desktop\\\\work\\\\OSU\\\\467_capstone\\\\data\\\\genres\\\\Spoken\\\\003446.mp3', 'C:\\\\Users\\\\Zack\\\\Desktop\\\\work\\\\OSU\\\\467_capstone\\\\data\\\\genres\\\\Spoken\\\\003449.mp3', 'C:\\\\Users\\\\Zack\\\\Desktop\\\\work\\\\OSU\\\\467_capstone\\\\data\\\\genres\\\\Spoken\\\\003450.mp3', 'C:\\\\Users\\\\Zack\\\\Desktop\\\\work\\\\OSU\\\\467_capstone\\\\data\\\\genres\\\\Spoken\\\\006523.mp3', 'C:\\\\Users\\\\Zack\\\\Desktop\\\\work\\\\OSU\\\\467_capstone\\\\data\\\\genres\\\\Spoken\\\\006584.mp3', 'C:\\\\Users\\\\Zack\\\\Desktop\\\\work\\\\OSU\\\\467_capstone\\\\data\\\\genres\\\\Spoken\\\\006592.mp3', 'C:\\\\Users\\\\Zack\\\\Desktop\\\\work\\\\OSU\\\\467_capstone\\\\data\\\\genres\\\\Spoken\\\\006880.mp3', 'C:\\\\Users\\\\Zack\\\\Desktop\\\\work\\\\OSU\\\\467_capstone\\\\data\\\\genres\\\\Spoken\\\\014774.mp3', 'C:\\\\Users\\\\Zack\\\\Desktop\\\\work\\\\OSU\\\\467_capstone\\\\data\\\\genres\\\\Spoken\\\\014777.mp3', 'C:\\\\Users\\\\Zack\\\\Desktop\\\\work\\\\OSU\\\\467_capstone\\\\data\\\\genres\\\\Spoken\\\\014779.mp3', 'C:\\\\Users\\\\Zack\\\\Desktop\\\\work\\\\OSU\\\\467_capstone\\\\data\\\\genres\\\\Spoken\\\\014781.mp3', 'C:\\\\Users\\\\Zack\\\\Desktop\\\\work\\\\OSU\\\\467_capstone\\\\data\\\\genres\\\\Spoken\\\\014785.mp3', 'C:\\\\Users\\\\Zack\\\\Desktop\\\\work\\\\OSU\\\\467_capstone\\\\data\\\\genres\\\\Spoken\\\\016149.mp3', 'C:\\\\Users\\\\Zack\\\\Desktop\\\\work\\\\OSU\\\\467_capstone\\\\data\\\\genres\\\\Spoken\\\\016150.mp3', 'C:\\\\Users\\\\Zack\\\\Desktop\\\\work\\\\OSU\\\\467_capstone\\\\data\\\\genres\\\\Spoken\\\\016151.mp3', 'C:\\\\Users\\\\Zack\\\\Desktop\\\\work\\\\OSU\\\\467_capstone\\\\data\\\\genres\\\\Spoken\\\\016152.mp3', 'C:\\\\Users\\\\Zack\\\\Desktop\\\\work\\\\OSU\\\\467_capstone\\\\data\\\\genres\\\\Spoken\\\\018388.mp3', 'C:\\\\Users\\\\Zack\\\\Desktop\\\\work\\\\OSU\\\\467_capstone\\\\data\\\\genres\\\\Spoken\\\\018390.mp3', 'C:\\\\Users\\\\Zack\\\\Desktop\\\\work\\\\OSU\\\\467_capstone\\\\data\\\\genres\\\\Spoken\\\\018391.mp3', 'C:\\\\Users\\\\Zack\\\\Desktop\\\\work\\\\OSU\\\\467_capstone\\\\data\\\\genres\\\\Spoken\\\\018393.mp3', 'C:\\\\Users\\\\Zack\\\\Desktop\\\\work\\\\OSU\\\\467_capstone\\\\data\\\\genres\\\\Spoken\\\\019383.mp3', 'C:\\\\Users\\\\Zack\\\\Desktop\\\\work\\\\OSU\\\\467_capstone\\\\data\\\\genres\\\\Spoken\\\\021839.mp3', 'C:\\\\Users\\\\Zack\\\\Desktop\\\\work\\\\OSU\\\\467_capstone\\\\data\\\\genres\\\\Spoken\\\\022982.mp3', 'C:\\\\Users\\\\Zack\\\\Desktop\\\\work\\\\OSU\\\\467_capstone\\\\data\\\\genres\\\\Spoken\\\\022984.mp3', 'C:\\\\Users\\\\Zack\\\\Desktop\\\\work\\\\OSU\\\\467_capstone\\\\data\\\\genres\\\\Spoken\\\\022985.mp3', 'C:\\\\Users\\\\Zack\\\\Desktop\\\\work\\\\OSU\\\\467_capstone\\\\data\\\\genres\\\\Spoken\\\\023190.mp3', 'C:\\\\Users\\\\Zack\\\\Desktop\\\\work\\\\OSU\\\\467_capstone\\\\data\\\\genres\\\\Spoken\\\\038461.mp3', 'C:\\\\Users\\\\Zack\\\\Desktop\\\\work\\\\OSU\\\\467_capstone\\\\data\\\\genres\\\\Spoken\\\\041212.mp3', 'C:\\\\Users\\\\Zack\\\\Desktop\\\\work\\\\OSU\\\\467_capstone\\\\data\\\\genres\\\\Spoken\\\\043107.mp3', 'C:\\\\Users\\\\Zack\\\\Desktop\\\\work\\\\OSU\\\\467_capstone\\\\data\\\\genres\\\\Spoken\\\\043113.mp3', 'C:\\\\Users\\\\Zack\\\\Desktop\\\\work\\\\OSU\\\\467_capstone\\\\data\\\\genres\\\\Spoken\\\\043118.mp3', 'C:\\\\Users\\\\Zack\\\\Desktop\\\\work\\\\OSU\\\\467_capstone\\\\data\\\\genres\\\\Spoken\\\\043121.mp3', 'C:\\\\Users\\\\Zack\\\\Desktop\\\\work\\\\OSU\\\\467_capstone\\\\data\\\\genres\\\\Spoken\\\\043122.mp3', 'C:\\\\Users\\\\Zack\\\\Desktop\\\\work\\\\OSU\\\\467_capstone\\\\data\\\\genres\\\\Spoken\\\\043123.mp3', 'C:\\\\Users\\\\Zack\\\\Desktop\\\\work\\\\OSU\\\\467_capstone\\\\data\\\\genres\\\\Spoken\\\\046537.mp3', 'C:\\\\Users\\\\Zack\\\\Desktop\\\\work\\\\OSU\\\\467_capstone\\\\data\\\\genres\\\\Spoken\\\\046538.mp3', 'C:\\\\Users\\\\Zack\\\\Desktop\\\\work\\\\OSU\\\\467_capstone\\\\data\\\\genres\\\\Spoken\\\\046539.mp3', 'C:\\\\Users\\\\Zack\\\\Desktop\\\\work\\\\OSU\\\\467_capstone\\\\data\\\\genres\\\\Spoken\\\\046540.mp3', 'C:\\\\Users\\\\Zack\\\\Desktop\\\\work\\\\OSU\\\\467_capstone\\\\data\\\\genres\\\\Spoken\\\\046542.mp3', 'C:\\\\Users\\\\Zack\\\\Desktop\\\\work\\\\OSU\\\\467_capstone\\\\data\\\\genres\\\\Spoken\\\\046543.mp3', 'C:\\\\Users\\\\Zack\\\\Desktop\\\\work\\\\OSU\\\\467_capstone\\\\data\\\\genres\\\\Spoken\\\\046544.mp3', 'C:\\\\Users\\\\Zack\\\\Desktop\\\\work\\\\OSU\\\\467_capstone\\\\data\\\\genres\\\\Spoken\\\\046545.mp3', 'C:\\\\Users\\\\Zack\\\\Desktop\\\\work\\\\OSU\\\\467_capstone\\\\data\\\\genres\\\\Spoken\\\\047720.mp3', 'C:\\\\Users\\\\Zack\\\\Desktop\\\\work\\\\OSU\\\\467_capstone\\\\data\\\\genres\\\\Spoken\\\\052949.mp3', 'C:\\\\Users\\\\Zack\\\\Desktop\\\\work\\\\OSU\\\\467_capstone\\\\data\\\\genres\\\\Spoken\\\\052952.mp3', 'C:\\\\Users\\\\Zack\\\\Desktop\\\\work\\\\OSU\\\\467_capstone\\\\data\\\\genres\\\\Spoken\\\\053745.mp3', 'C:\\\\Users\\\\Zack\\\\Desktop\\\\work\\\\OSU\\\\467_capstone\\\\data\\\\genres\\\\Spoken\\\\054070.mp3', 'C:\\\\Users\\\\Zack\\\\Desktop\\\\work\\\\OSU\\\\467_capstone\\\\data\\\\genres\\\\Spoken\\\\054079.mp3', 'C:\\\\Users\\\\Zack\\\\Desktop\\\\work\\\\OSU\\\\467_capstone\\\\data\\\\genres\\\\Spoken\\\\054202.mp3', 'C:\\\\Users\\\\Zack\\\\Desktop\\\\work\\\\OSU\\\\467_capstone\\\\data\\\\genres\\\\Spoken\\\\054254.mp3', 'C:\\\\Users\\\\Zack\\\\Desktop\\\\work\\\\OSU\\\\467_capstone\\\\data\\\\genres\\\\Spoken\\\\054704.mp3', 'C:\\\\Users\\\\Zack\\\\Desktop\\\\work\\\\OSU\\\\467_capstone\\\\data\\\\genres\\\\Spoken\\\\056160.mp3', 'C:\\\\Users\\\\Zack\\\\Desktop\\\\work\\\\OSU\\\\467_capstone\\\\data\\\\genres\\\\Spoken\\\\057488.mp3', 'C:\\\\Users\\\\Zack\\\\Desktop\\\\work\\\\OSU\\\\467_capstone\\\\data\\\\genres\\\\Spoken\\\\057490.mp3', 'C:\\\\Users\\\\Zack\\\\Desktop\\\\work\\\\OSU\\\\467_capstone\\\\data\\\\genres\\\\Spoken\\\\060191.mp3', 'C:\\\\Users\\\\Zack\\\\Desktop\\\\work\\\\OSU\\\\467_capstone\\\\data\\\\genres\\\\Spoken\\\\060192.mp3', 'C:\\\\Users\\\\Zack\\\\Desktop\\\\work\\\\OSU\\\\467_capstone\\\\data\\\\genres\\\\Spoken\\\\060194.mp3', 'C:\\\\Users\\\\Zack\\\\Desktop\\\\work\\\\OSU\\\\467_capstone\\\\data\\\\genres\\\\Spoken\\\\060195.mp3', 'C:\\\\Users\\\\Zack\\\\Desktop\\\\work\\\\OSU\\\\467_capstone\\\\data\\\\genres\\\\Spoken\\\\060196.mp3', 'C:\\\\Users\\\\Zack\\\\Desktop\\\\work\\\\OSU\\\\467_capstone\\\\data\\\\genres\\\\Spoken\\\\060197.mp3', 'C:\\\\Users\\\\Zack\\\\Desktop\\\\work\\\\OSU\\\\467_capstone\\\\data\\\\genres\\\\Spoken\\\\060198.mp3', 'C:\\\\Users\\\\Zack\\\\Desktop\\\\work\\\\OSU\\\\467_capstone\\\\data\\\\genres\\\\Spoken\\\\060199.mp3', 'C:\\\\Users\\\\Zack\\\\Desktop\\\\work\\\\OSU\\\\467_capstone\\\\data\\\\genres\\\\Spoken\\\\060201.mp3', 'C:\\\\Users\\\\Zack\\\\Desktop\\\\work\\\\OSU\\\\467_capstone\\\\data\\\\genres\\\\Spoken\\\\060202.mp3', 'C:\\\\Users\\\\Zack\\\\Desktop\\\\work\\\\OSU\\\\467_capstone\\\\data\\\\genres\\\\Spoken\\\\060203.mp3', 'C:\\\\Users\\\\Zack\\\\Desktop\\\\work\\\\OSU\\\\467_capstone\\\\data\\\\genres\\\\Spoken\\\\060204.mp3', 'C:\\\\Users\\\\Zack\\\\Desktop\\\\work\\\\OSU\\\\467_capstone\\\\data\\\\genres\\\\Spoken\\\\060205.mp3', 'C:\\\\Users\\\\Zack\\\\Desktop\\\\work\\\\OSU\\\\467_capstone\\\\data\\\\genres\\\\Spoken\\\\060206.mp3', 'C:\\\\Users\\\\Zack\\\\Desktop\\\\work\\\\OSU\\\\467_capstone\\\\data\\\\genres\\\\Spoken\\\\060207.mp3', 'C:\\\\Users\\\\Zack\\\\Desktop\\\\work\\\\OSU\\\\467_capstone\\\\data\\\\genres\\\\Spoken\\\\063474.mp3', 'C:\\\\Users\\\\Zack\\\\Desktop\\\\work\\\\OSU\\\\467_capstone\\\\data\\\\genres\\\\Spoken\\\\063476.mp3', 'C:\\\\Users\\\\Zack\\\\Desktop\\\\work\\\\OSU\\\\467_capstone\\\\data\\\\genres\\\\Spoken\\\\063478.mp3', 'C:\\\\Users\\\\Zack\\\\Desktop\\\\work\\\\OSU\\\\467_capstone\\\\data\\\\genres\\\\Spoken\\\\063480.mp3', 'C:\\\\Users\\\\Zack\\\\Desktop\\\\work\\\\OSU\\\\467_capstone\\\\data\\\\genres\\\\Spoken\\\\091556.mp3', 'C:\\\\Users\\\\Zack\\\\Desktop\\\\work\\\\OSU\\\\467_capstone\\\\data\\\\genres\\\\Spoken\\\\093436.mp3', 'C:\\\\Users\\\\Zack\\\\Desktop\\\\work\\\\OSU\\\\467_capstone\\\\data\\\\genres\\\\Spoken\\\\093437.mp3', 'C:\\\\Users\\\\Zack\\\\Desktop\\\\work\\\\OSU\\\\467_capstone\\\\data\\\\genres\\\\Spoken\\\\093439.mp3', 'C:\\\\Users\\\\Zack\\\\Desktop\\\\work\\\\OSU\\\\467_capstone\\\\data\\\\genres\\\\Spoken\\\\093440.mp3', 'C:\\\\Users\\\\Zack\\\\Desktop\\\\work\\\\OSU\\\\467_capstone\\\\data\\\\genres\\\\Spoken\\\\093442.mp3', 'C:\\\\Users\\\\Zack\\\\Desktop\\\\work\\\\OSU\\\\467_capstone\\\\data\\\\genres\\\\Spoken\\\\093443.mp3', 'C:\\\\Users\\\\Zack\\\\Desktop\\\\work\\\\OSU\\\\467_capstone\\\\data\\\\genres\\\\Spoken\\\\098377.mp3', 'C:\\\\Users\\\\Zack\\\\Desktop\\\\work\\\\OSU\\\\467_capstone\\\\data\\\\genres\\\\Spoken\\\\109373.mp3', 'C:\\\\Users\\\\Zack\\\\Desktop\\\\work\\\\OSU\\\\467_capstone\\\\data\\\\genres\\\\Spoken\\\\109374.mp3', 'C:\\\\Users\\\\Zack\\\\Desktop\\\\work\\\\OSU\\\\467_capstone\\\\data\\\\genres\\\\Spoken\\\\119548.mp3', 'C:\\\\Users\\\\Zack\\\\Desktop\\\\work\\\\OSU\\\\467_capstone\\\\data\\\\genres\\\\Spoken\\\\119549.mp3', 'C:\\\\Users\\\\Zack\\\\Desktop\\\\work\\\\OSU\\\\467_capstone\\\\data\\\\genres\\\\Spoken\\\\119551.mp3', 'C:\\\\Users\\\\Zack\\\\Desktop\\\\work\\\\OSU\\\\467_capstone\\\\data\\\\genres\\\\Spoken\\\\119552.mp3', 'C:\\\\Users\\\\Zack\\\\Desktop\\\\work\\\\OSU\\\\467_capstone\\\\data\\\\genres\\\\Spoken\\\\119553.mp3', 'C:\\\\Users\\\\Zack\\\\Desktop\\\\work\\\\OSU\\\\467_capstone\\\\data\\\\genres\\\\Spoken\\\\119554.mp3', 'C:\\\\Users\\\\Zack\\\\Desktop\\\\work\\\\OSU\\\\467_capstone\\\\data\\\\genres\\\\Spoken\\\\124333.mp3', 'C:\\\\Users\\\\Zack\\\\Desktop\\\\work\\\\OSU\\\\467_capstone\\\\data\\\\genres\\\\Spoken\\\\124335.mp3', 'C:\\\\Users\\\\Zack\\\\Desktop\\\\work\\\\OSU\\\\467_capstone\\\\data\\\\genres\\\\Spoken\\\\124336.mp3', 'C:\\\\Users\\\\Zack\\\\Desktop\\\\work\\\\OSU\\\\467_capstone\\\\data\\\\genres\\\\Spoken\\\\124337.mp3', 'C:\\\\Users\\\\Zack\\\\Desktop\\\\work\\\\OSU\\\\467_capstone\\\\data\\\\genres\\\\Spoken\\\\124338.mp3', 'C:\\\\Users\\\\Zack\\\\Desktop\\\\work\\\\OSU\\\\467_capstone\\\\data\\\\genres\\\\Spoken\\\\124339.mp3', 'C:\\\\Users\\\\Zack\\\\Desktop\\\\work\\\\OSU\\\\467_capstone\\\\data\\\\genres\\\\Spoken\\\\124340.mp3', 'C:\\\\Users\\\\Zack\\\\Desktop\\\\work\\\\OSU\\\\467_capstone\\\\data\\\\genres\\\\Spoken\\\\124342.mp3', 'C:\\\\Users\\\\Zack\\\\Desktop\\\\work\\\\OSU\\\\467_capstone\\\\data\\\\genres\\\\Spoken\\\\125594.mp3', 'C:\\\\Users\\\\Zack\\\\Desktop\\\\work\\\\OSU\\\\467_capstone\\\\data\\\\genres\\\\Spoken\\\\125596.mp3', 'C:\\\\Users\\\\Zack\\\\Desktop\\\\work\\\\OSU\\\\467_capstone\\\\data\\\\genres\\\\Spoken\\\\125597.mp3', 'C:\\\\Users\\\\Zack\\\\Desktop\\\\work\\\\OSU\\\\467_capstone\\\\data\\\\genres\\\\Spoken\\\\125600.mp3', 'C:\\\\Users\\\\Zack\\\\Desktop\\\\work\\\\OSU\\\\467_capstone\\\\data\\\\genres\\\\Spoken\\\\125603.mp3', 'C:\\\\Users\\\\Zack\\\\Desktop\\\\work\\\\OSU\\\\467_capstone\\\\data\\\\genres\\\\Spoken\\\\125605.mp3', 'C:\\\\Users\\\\Zack\\\\Desktop\\\\work\\\\OSU\\\\467_capstone\\\\data\\\\genres\\\\Spoken\\\\125606.mp3', 'C:\\\\Users\\\\Zack\\\\Desktop\\\\work\\\\OSU\\\\467_capstone\\\\data\\\\genres\\\\Spoken\\\\125607.mp3', 'C:\\\\Users\\\\Zack\\\\Desktop\\\\work\\\\OSU\\\\467_capstone\\\\data\\\\genres\\\\Spoken\\\\125609.mp3', 'C:\\\\Users\\\\Zack\\\\Desktop\\\\work\\\\OSU\\\\467_capstone\\\\data\\\\genres\\\\Spoken\\\\125610.mp3', 'C:\\\\Users\\\\Zack\\\\Desktop\\\\work\\\\OSU\\\\467_capstone\\\\data\\\\genres\\\\Spoken\\\\127734.mp3', 'C:\\\\Users\\\\Zack\\\\Desktop\\\\work\\\\OSU\\\\467_capstone\\\\data\\\\genres\\\\Spoken\\\\127742.mp3', 'C:\\\\Users\\\\Zack\\\\Desktop\\\\work\\\\OSU\\\\467_capstone\\\\data\\\\genres\\\\Spoken\\\\127745.mp3', 'C:\\\\Users\\\\Zack\\\\Desktop\\\\work\\\\OSU\\\\467_capstone\\\\data\\\\genres\\\\Spoken\\\\127747.mp3', 'C:\\\\Users\\\\Zack\\\\Desktop\\\\work\\\\OSU\\\\467_capstone\\\\data\\\\genres\\\\Spoken\\\\127749.mp3', 'C:\\\\Users\\\\Zack\\\\Desktop\\\\work\\\\OSU\\\\467_capstone\\\\data\\\\genres\\\\Spoken\\\\127750.mp3', 'C:\\\\Users\\\\Zack\\\\Desktop\\\\work\\\\OSU\\\\467_capstone\\\\data\\\\genres\\\\Spoken\\\\127751.mp3', 'C:\\\\Users\\\\Zack\\\\Desktop\\\\work\\\\OSU\\\\467_capstone\\\\data\\\\genres\\\\Spoken\\\\127752.mp3', 'C:\\\\Users\\\\Zack\\\\Desktop\\\\work\\\\OSU\\\\467_capstone\\\\data\\\\genres\\\\Spoken\\\\127753.mp3', 'C:\\\\Users\\\\Zack\\\\Desktop\\\\work\\\\OSU\\\\467_capstone\\\\data\\\\genres\\\\Spoken\\\\127754.mp3', 'C:\\\\Users\\\\Zack\\\\Desktop\\\\work\\\\OSU\\\\467_capstone\\\\data\\\\genres\\\\Spoken\\\\127755.mp3']\n"
     ]
    }
   ],
   "source": [
    "print(song_paths)"
   ]
  },
  {
   "cell_type": "code",
   "execution_count": null,
   "metadata": {},
   "outputs": [],
   "source": []
  },
  {
   "source": [
    "### create directories to sort music files into"
   ],
   "cell_type": "markdown",
   "metadata": {}
  },
  {
   "cell_type": "code",
   "execution_count": null,
   "metadata": {},
   "outputs": [],
   "source": [
    "# genre parent directory\n",
    "gp_dir = z_path + \"\\\\genres\"\n",
    "Path(gp_dir).mkdir(exist_ok=True)\n",
    "\n",
    "# create directories\n",
    "for genre in top_genres:\n",
    "    if \"/\" in genre:\n",
    "        genre = genre.replace('/', '&')\n",
    "    genre_dir = gp_dir + \"\\\\\" + genre\n",
    "    # print(genre_dir)\n",
    "    Path(genre_dir).mkdir(exist_ok=True)"
   ]
  },
  {
   "cell_type": "code",
   "execution_count": null,
   "metadata": {},
   "outputs": [],
   "source": [
    "moved = 0\n",
    "# start counting genres\n",
    "for i in range(len(song_paths)):\n",
    "    # load audio file\n",
    "    audiofile = eyed3.load(song_paths[i])\n",
    "    filename = song_paths[i][-10:]\n",
    "\n",
    "    # get genre and strip genre ID\n",
    "    song_genre = str(audiofile.tag.genre)\n",
    "    # will either be 0 or idx after (id)\n",
    "    end = song_genre.find(')') + 1\n",
    "    # for Romany(gypsy) genre\n",
    "    if end == len(song_genre):\n",
    "        end = 0\n",
    "    song_genre = song_genre[end:]\n",
    "\n",
    "    # change to top-level genre\n",
    "    song_genre = genre_lookup[parent_lookup[id_lookup[song_genre]]]\n",
    "\n",
    "    # fix for directory moving\n",
    "    if \"/\" in song_genre:\n",
    "        song_genre = song_genre.replace('/', '&')\n",
    "    \n",
    "    # rename and move files\n",
    "    new_path = z_path + \"\\\\genres\\\\\" + song_genre + \"\\\\\" + filename\n",
    "    os.replace(song_paths[i], new_path)\n",
    "    moved += 1\n",
    "print('moved ' + str(moved) + ' songs.')"
   ]
  }
 ]
}