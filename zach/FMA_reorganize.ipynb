{
 "metadata": {
  "language_info": {
   "codemirror_mode": {
    "name": "ipython",
    "version": 3
   },
   "file_extension": ".py",
   "mimetype": "text/x-python",
   "name": "python",
   "nbconvert_exporter": "python",
   "pygments_lexer": "ipython3",
   "version": "3.8.3-final"
  },
  "orig_nbformat": 2,
  "kernelspec": {
   "name": "python3",
   "display_name": "Python 3",
   "language": "python"
  }
 },
 "nbformat": 4,
 "nbformat_minor": 2,
 "cells": [
  {
   "source": [
    "# exploring genre and sub-genre data from the Free Music Archive"
   ],
   "cell_type": "markdown",
   "metadata": {}
  },
  {
   "cell_type": "code",
   "execution_count": 65,
   "metadata": {},
   "outputs": [],
   "source": [
    "import pandas as pd\n",
    "from pathlib import Path\n",
    "import eyed3\n",
    "import os\n",
    "from config import *\n",
    "\n",
    "eyed3.log.setLevel(\"ERROR\")"
   ]
  },
  {
   "source": [
    "### notebook functions"
   ],
   "cell_type": "markdown",
   "metadata": {}
  },
  {
   "cell_type": "code",
   "execution_count": 68,
   "metadata": {},
   "outputs": [],
   "source": [
    "def make_file_list(root_dir):\n",
    "    '''given a directory, loops through folders and files and return list of files paths\n",
    "        and file names'''\n",
    "    path_list = []\n",
    "    for subdir, dirs, files in os.walk(root_dir):\n",
    "        for file in files:\n",
    "            path_list.append(os.path.join(subdir, file))\n",
    "\n",
    "    return path_list\n",
    "\n",
    "def get_genre_id(genre_dict_list):\n",
    "    return genre_dict_list[0]['genre_id']\n",
    "\n",
    "def id_to_int(val):\n",
    "    return int(val)"
   ]
  },
  {
   "source": [
    "### import data from targeted directory"
   ],
   "cell_type": "markdown",
   "metadata": {}
  },
  {
   "cell_type": "code",
   "execution_count": 67,
   "metadata": {},
   "outputs": [],
   "source": [
    "metadata = z_path + \"\\\\fma_metadata\"\n",
    "os.chdir(metadata)\n",
    "\n",
    "genres_df = pd.read_csv('genres.csv')\n",
    "tracks_df = pd.read_csv('raw_tracks.csv')"
   ]
  },
  {
   "source": [
    "### make dataframes and adjustments"
   ],
   "cell_type": "markdown",
   "metadata": {}
  },
  {
   "cell_type": "code",
   "execution_count": 69,
   "metadata": {},
   "outputs": [],
   "source": [
    "# drop rows missing the 'genre' value\n",
    "tracks_df = tracks_df[tracks_df['track_genres'].notna()]\n",
    "\n",
    "# string conversion to list of genre dictionaries\n",
    "tracks_df['track_genres'] = tracks_df['track_genres'].apply(eval)\n",
    "\n",
    "# assign primary genre classification id, then make an int\n",
    "tracks_df['genre_ids'] = tracks_df['track_genres'].apply(get_genre_id)\n",
    "\n",
    "# convert IDs to ints for comparisons\n",
    "tracks_df['genre_ids'] = tracks_df['genre_ids'].apply(id_to_int)\n",
    "tracks_df['track_id'] = tracks_df['track_id'].apply(id_to_int)"
   ]
  },
  {
   "source": [
    "### dictionaries for lookups"
   ],
   "cell_type": "markdown",
   "metadata": {}
  },
  {
   "cell_type": "code",
   "execution_count": 70,
   "metadata": {},
   "outputs": [],
   "source": [
    "# dictionaries for top-level genre lookup from ID values\n",
    "genre_lookup = genres_df.set_index('genre_id').to_dict()['title']\n",
    "id_lookup = genres_df.set_index('title').to_dict()['genre_id']\n",
    "\n",
    "# if we ever want everything under only a few genres\n",
    "# key = current genre, value = parent genre\n",
    "parent_lookup = genres_df.set_index('genre_id').to_dict()['top_level']\n",
    "\n",
    "# when a genre has no parent, it is top-level\n",
    "top_genres = genres_df[genres_df['parent'] == 0]['title'].to_list()"
   ]
  },
  {
   "cell_type": "code",
   "execution_count": 74,
   "metadata": {},
   "outputs": [],
   "source": [
    "# get songs to count genres\n",
    "root_dir = z_path + \"\\\\fma_medium\"\n",
    "\n",
    "song_paths = make_file_list(root_dir)"
   ]
  },
  {
   "source": [
    "### create directories to sort music files into"
   ],
   "cell_type": "markdown",
   "metadata": {}
  },
  {
   "cell_type": "code",
   "execution_count": 75,
   "metadata": {},
   "outputs": [],
   "source": [
    "# genre parent directory\n",
    "gp_dir = z_path + \"\\\\genres\"\n",
    "Path(gp_dir).mkdir(exist_ok=True)\n",
    "\n",
    "# create directories\n",
    "for genre in top_genres:\n",
    "    if \"/\" in genre:\n",
    "        genre = genre.replace('/', '&')\n",
    "    genre_dir = gp_dir + \"\\\\\" + genre\n",
    "    # print(genre_dir)\n",
    "    Path(genre_dir).mkdir(exist_ok=True)"
   ]
  },
  {
   "cell_type": "code",
   "execution_count": 76,
   "metadata": {},
   "outputs": [
    {
     "output_type": "stream",
     "name": "stdout",
     "text": [
      "moved 25000 songs.\n"
     ]
    }
   ],
   "source": [
    "moved = 0\n",
    "# start counting genres\n",
    "for i in range(len(song_paths)):\n",
    "    # load audio file\n",
    "    audiofile = eyed3.load(song_paths[i])\n",
    "    filename = song_paths[i][-10:]\n",
    "\n",
    "    # get genre and strip genre ID\n",
    "    song_genre = str(audiofile.tag.genre)\n",
    "    # will either be 0 or idx after (id)\n",
    "    end = song_genre.find(')') + 1\n",
    "    # for Romany(gypsy) genre\n",
    "    if end == len(song_genre):\n",
    "        end = 0\n",
    "    song_genre = song_genre[end:]\n",
    "\n",
    "    # change to top-level genre\n",
    "    song_genre = genre_lookup[parent_lookup[id_lookup[song_genre]]]\n",
    "\n",
    "    # fix for directory moving\n",
    "    if \"/\" in song_genre:\n",
    "        song_genre = song_genre.replace('/', '&')\n",
    "    \n",
    "    # rename and move files\n",
    "    new_path = z_path + \"\\\\genres\\\\\" + song_genre + \"\\\\\" + filename\n",
    "    os.replace(song_paths[i], new_path)\n",
    "    moved += 1\n",
    "print('moved ' + str(moved) + ' songs.')"
   ]
  }
 ]
}