{
 "metadata": {
  "language_info": {
   "codemirror_mode": {
    "name": "ipython",
    "version": 3
   },
   "file_extension": ".py",
   "mimetype": "text/x-python",
   "name": "python",
   "nbconvert_exporter": "python",
   "pygments_lexer": "ipython3",
   "version": "3.8.3-final"
  },
  "orig_nbformat": 2,
  "kernelspec": {
   "name": "python3",
   "display_name": "Python 3",
   "language": "python"
  }
 },
 "nbformat": 4,
 "nbformat_minor": 2,
 "cells": [
  {
   "source": [
    "## dividing song samples from the Free Music Archive into top-level directories"
   ],
   "cell_type": "markdown",
   "metadata": {}
  },
  {
   "cell_type": "code",
   "execution_count": 1,
   "metadata": {},
   "outputs": [],
   "source": [
    "from notebook_functions import *\n",
    "from pathlib import Path\n",
    "from config import *\n",
    "\n",
    "import eyed3, os\n",
    "import pandas as pd\n",
    "\n",
    "# ignore 'uncommon genre' warning\n",
    "eyed3.log.setLevel(\"ERROR\")"
   ]
  },
  {
   "source": [
    "### import data from local directory"
   ],
   "cell_type": "markdown",
   "metadata": {}
  },
  {
   "cell_type": "code",
   "execution_count": 16,
   "metadata": {},
   "outputs": [],
   "source": [
    "metadata = z_path + \"\\\\fma_metadata\"\n",
    "os.chdir(metadata)\n",
    "\n",
    "genres_df = pd.read_csv('genres.csv')\n",
    "tracks_df = pd.read_csv('raw_tracks.csv')"
   ]
  },
  {
   "source": [
    "### build dataframes and transform data"
   ],
   "cell_type": "markdown",
   "metadata": {}
  },
  {
   "cell_type": "code",
   "execution_count": 17,
   "metadata": {},
   "outputs": [],
   "source": [
    "# drop rows missing the 'genre' value\n",
    "tracks_df = tracks_df[tracks_df['track_genres'].notna()]\n",
    "\n",
    "# string conversion to list of genre dictionaries\n",
    "tracks_df['track_genres'] = tracks_df['track_genres'].apply(eval)\n",
    "\n",
    "# assign primary genre classification id, then make an int\n",
    "tracks_df['genre_ids'] = tracks_df['track_genres'].apply(get_genre_id)\n",
    "\n",
    "# convert IDs to ints for comparisons\n",
    "tracks_df['genre_ids'] = tracks_df['genre_ids'].apply(id_to_int)\n",
    "tracks_df['track_id'] = tracks_df['track_id'].apply(id_to_int)"
   ]
  },
  {
   "source": [
    "### dictionaries for lookups"
   ],
   "cell_type": "markdown",
   "metadata": {}
  },
  {
   "cell_type": "code",
   "execution_count": 18,
   "metadata": {},
   "outputs": [],
   "source": [
    "# dictionaries lookups for genre IDs and names\n",
    "genre_lookup = genres_df.set_index('genre_id').to_dict()['title']\n",
    "id_lookup = genres_df.set_index('title').to_dict()['genre_id']\n",
    "parent_lookup = genres_df.set_index('genre_id').to_dict()['top_level']\n",
    "\n",
    "# list for iterating through loop\n",
    "top_genres = genres_df[genres_df['parent'] == 0]['title'].to_list()"
   ]
  },
  {
   "source": [
    "### create directories to sort music files into"
   ],
   "cell_type": "markdown",
   "metadata": {}
  },
  {
   "cell_type": "code",
   "execution_count": null,
   "metadata": {},
   "outputs": [],
   "source": [
    "# genre parent directory\n",
    "gp_dir = z_path + \"\\\\genres\"\n",
    "Path(gp_dir).mkdir(exist_ok=True)\n",
    "\n",
    "# create directories\n",
    "for genre in top_genres:\n",
    "    if \"/\" in genre:\n",
    "        genre = genre.replace('/', '&')\n",
    "    genre_dir = gp_dir + \"\\\\\" + genre\n",
    "    # print(genre_dir)\n",
    "    Path(genre_dir).mkdir(exist_ok=True)"
   ]
  },
  {
   "source": [
    "### get current song paths then move to new folders"
   ],
   "cell_type": "markdown",
   "metadata": {}
  },
  {
   "cell_type": "code",
   "execution_count": 19,
   "metadata": {},
   "outputs": [],
   "source": [
    "# get current song pathsfor relocation\n",
    "root_dir = z_path + \"\\\\fma_medium\"\n",
    "song_paths = make_file_list(root_dir)"
   ]
  },
  {
   "cell_type": "code",
   "execution_count": null,
   "metadata": {},
   "outputs": [],
   "source": [
    "moved = 0\n",
    "# start counting genres\n",
    "for i in range(len(song_paths)):\n",
    "    # load audio file\n",
    "    audiofile = eyed3.load(song_paths[i])\n",
    "\n",
    "    # get genre and strip genre ID\n",
    "    song_genre = str(audiofile.tag.genre)\n",
    "    # will either be 0 or idx after (id)\n",
    "    end = song_genre.find(')') + 1\n",
    "    # for Romany(gypsy) genre\n",
    "    if end == len(song_genre):\n",
    "        end = 0\n",
    "    song_genre = song_genre[end:]\n",
    "\n",
    "    # change to top-level genre\n",
    "    song_genre = genre_lookup[parent_lookup[id_lookup[song_genre]]]\n",
    "\n",
    "    # fix for directory moving\n",
    "    if \"/\" in song_genre:\n",
    "        song_genre = song_genre.replace('/', '&')\n",
    "    \n",
    "    # rename and move files\n",
    "    new_path = z_path + \"\\\\genres\\\\\" + song_genre + \"\\\\\" + song_paths[i][-10:]\n",
    "    os.replace(song_paths[i], new_path)\n",
    "    moved += 1\n",
    "print('moved ' + str(moved) + ' songs.')"
   ]
  }
 ]
}