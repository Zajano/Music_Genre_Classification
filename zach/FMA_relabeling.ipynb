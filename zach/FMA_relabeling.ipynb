{
  "nbformat": 4,
  "nbformat_minor": 0,
  "metadata": {
    "kernelspec": {
      "display_name": "Python 3",
      "language": "python",
      "name": "python3"
    },
    "language_info": {
      "codemirror_mode": {
        "name": "ipython",
        "version": 3
      },
      "file_extension": ".py",
      "mimetype": "text/x-python",
      "name": "python",
      "nbconvert_exporter": "python",
      "pygments_lexer": "ipython3",
      "version": "3.8.3-final"
    },
    "colab": {
      "name": "Feature_Selection.ipynb",
      "provenance": [],
      "collapsed_sections": [
        "_oCP89ZNjYCG",
        "FQb68F3TjYCO",
        "Dr6mt4R5jYCW",
        "eQQUvx9wjYCi",
        "SzhZrZhbjYCp",
        "qcAkDlw5jYCy",
        "144l7Y9cjYDB",
        "cVA8yB1jjYDG",
        "ClYsNPxBjYDR"
      ]
    }
  },
  "cells": [
    {
      "cell_type": "code",
      "metadata": {
        "id": "OPIwQhvFjYAr",
        "colab_type": "code",
        "colab": {}
      },
      "source": [
        "from notebook_functions import *\n",
        "from config import *\n",
        "import pandas as pd\n",
        "import eyed3, json\n",
        "\n",
        "# suppress eyed3 'non-standard genre' warnings\n",
        "eyed3.log.setLevel(\"ERROR\")\n",
        "\n",
        "# dataset to re-label location\n",
        "root_dir = z_path + \"\\\\fma_medium\"\n"
      ],
      "execution_count": 1,
      "outputs": []
    },
    {
      "source": [
        "### load data for re-labeling"
      ],
      "cell_type": "markdown",
      "metadata": {}
    },
    {
      "cell_type": "code",
      "execution_count": 2,
      "metadata": {},
      "outputs": [
        {
          "output_type": "stream",
          "name": "stdout",
          "text": [
            "C:\\Users\\Zack\\Desktop\\test_space\\093\\093015.mp3\n093015\n"
          ]
        }
      ],
      "source": [
        "# navigate to metadata for re-labeling\n",
        "metadata = z_path + \"\\\\fma_metadata\"\n",
        "os.chdir(metadata)\n",
        "\n",
        "# import raw track data & make dataframes\n",
        "genres_df = pd.read_csv('genres.csv')\n",
        "tracks_df = pd.read_csv('raw_tracks.csv')\n",
        "\n",
        "# list of full file paths\n",
        "song_paths = make_file_list(fma_dir)"
      ]
    },
    {
      "cell_type": "code",
      "execution_count": 3,
      "metadata": {},
      "outputs": [
        {
          "output_type": "execute_result",
          "data": {
            "text/plain": [
              "   track_id  track_bit_rate                                       track_genres\n",
              "0         2        256000.0  [{'genre_id': '21', 'genre_title': 'Hip-Hop', ...\n",
              "1         3        256000.0  [{'genre_id': '21', 'genre_title': 'Hip-Hop', ...\n",
              "2         5        256000.0  [{'genre_id': '21', 'genre_title': 'Hip-Hop', ...\n",
              "3        10        192000.0  [{'genre_id': '10', 'genre_title': 'Pop', 'gen...\n",
              "4        20        256000.0  [{'genre_id': '76', 'genre_title': 'Experiment..."
            ],
            "text/html": "<div>\n<style scoped>\n    .dataframe tbody tr th:only-of-type {\n        vertical-align: middle;\n    }\n\n    .dataframe tbody tr th {\n        vertical-align: top;\n    }\n\n    .dataframe thead th {\n        text-align: right;\n    }\n</style>\n<table border=\"1\" class=\"dataframe\">\n  <thead>\n    <tr style=\"text-align: right;\">\n      <th></th>\n      <th>track_id</th>\n      <th>track_bit_rate</th>\n      <th>track_genres</th>\n    </tr>\n  </thead>\n  <tbody>\n    <tr>\n      <th>0</th>\n      <td>2</td>\n      <td>256000.0</td>\n      <td>[{'genre_id': '21', 'genre_title': 'Hip-Hop', ...</td>\n    </tr>\n    <tr>\n      <th>1</th>\n      <td>3</td>\n      <td>256000.0</td>\n      <td>[{'genre_id': '21', 'genre_title': 'Hip-Hop', ...</td>\n    </tr>\n    <tr>\n      <th>2</th>\n      <td>5</td>\n      <td>256000.0</td>\n      <td>[{'genre_id': '21', 'genre_title': 'Hip-Hop', ...</td>\n    </tr>\n    <tr>\n      <th>3</th>\n      <td>10</td>\n      <td>192000.0</td>\n      <td>[{'genre_id': '10', 'genre_title': 'Pop', 'gen...</td>\n    </tr>\n    <tr>\n      <th>4</th>\n      <td>20</td>\n      <td>256000.0</td>\n      <td>[{'genre_id': '76', 'genre_title': 'Experiment...</td>\n    </tr>\n  </tbody>\n</table>\n</div>"
          },
          "metadata": {},
          "execution_count": 3
        }
      ],
      "source": [
        "# limit to just the relevant details\n",
        "tracks_df = tracks_df[[\"track_id\", \"track_bit_rate\", \"track_genres\"]]\n",
        "\n",
        "# drop rows missing the 'genre' value\n",
        "tracks_df = tracks_df[tracks_df['track_genres'].notna()]\n"
      ]
    },
    {
      "cell_type": "code",
      "execution_count": 4,
      "metadata": {},
      "outputs": [],
      "source": [
        "# string conversion to list of genre dictionaries\n",
        "tracks_df['track_genres'] = tracks_df['track_genres'].apply(eval)"
      ]
    },
    {
      "cell_type": "code",
      "execution_count": 5,
      "metadata": {},
      "outputs": [],
      "source": [
        "# assign primary genre classification id, then make an int\n",
        "tracks_df['genre_ids'] = tracks_df['track_genres'].apply(get_genre_id)\n",
        "tracks_df['genre_ids'] = tracks_df['genre_ids'].apply(id_to_int)"
      ]
    },
    {
      "cell_type": "code",
      "execution_count": 6,
      "metadata": {},
      "outputs": [],
      "source": [
        "tracks_df['track_id'] = tracks_df['track_id'].apply(id_to_int)"
      ]
    },
    {
      "cell_type": "code",
      "execution_count": 7,
      "metadata": {},
      "outputs": [
        {
          "output_type": "execute_result",
          "data": {
            "text/plain": [
              "   genre_id  #tracks  parent          title  top_level\n",
              "0         1     8693      38    Avant-Garde         38\n",
              "1         2     5271       0  International          2\n",
              "2         3     1752       0          Blues          3\n",
              "3         4     4126       0           Jazz          4\n",
              "4         5     4106       0      Classical          5"
            ],
            "text/html": "<div>\n<style scoped>\n    .dataframe tbody tr th:only-of-type {\n        vertical-align: middle;\n    }\n\n    .dataframe tbody tr th {\n        vertical-align: top;\n    }\n\n    .dataframe thead th {\n        text-align: right;\n    }\n</style>\n<table border=\"1\" class=\"dataframe\">\n  <thead>\n    <tr style=\"text-align: right;\">\n      <th></th>\n      <th>genre_id</th>\n      <th>#tracks</th>\n      <th>parent</th>\n      <th>title</th>\n      <th>top_level</th>\n    </tr>\n  </thead>\n  <tbody>\n    <tr>\n      <th>0</th>\n      <td>1</td>\n      <td>8693</td>\n      <td>38</td>\n      <td>Avant-Garde</td>\n      <td>38</td>\n    </tr>\n    <tr>\n      <th>1</th>\n      <td>2</td>\n      <td>5271</td>\n      <td>0</td>\n      <td>International</td>\n      <td>2</td>\n    </tr>\n    <tr>\n      <th>2</th>\n      <td>3</td>\n      <td>1752</td>\n      <td>0</td>\n      <td>Blues</td>\n      <td>3</td>\n    </tr>\n    <tr>\n      <th>3</th>\n      <td>4</td>\n      <td>4126</td>\n      <td>0</td>\n      <td>Jazz</td>\n      <td>4</td>\n    </tr>\n    <tr>\n      <th>4</th>\n      <td>5</td>\n      <td>4106</td>\n      <td>0</td>\n      <td>Classical</td>\n      <td>5</td>\n    </tr>\n  </tbody>\n</table>\n</div>"
          },
          "metadata": {},
          "execution_count": 7
        }
      ],
      "source": [
        "genres_df.head()"
      ]
    },
    {
      "source": [
        "### create lookups"
      ],
      "cell_type": "markdown",
      "metadata": {}
    },
    {
      "cell_type": "code",
      "execution_count": 8,
      "metadata": {},
      "outputs": [],
      "source": [
        "# dictionaries for top-level genre lookup from ID values\n",
        "genre_lookup = genres_df.set_index('genre_id').to_dict()['title']\n",
        "\n",
        "# dictionary for track ID to genre ID\n",
        "track_genre_lookup = tracks_df.set_index('track_id').to_dict()['genre_ids']"
      ]
    },
    {
      "source": [
        "### edit mp3 meta-data to have correct genre assignments"
      ],
      "cell_type": "markdown",
      "metadata": {}
    },
    {
      "cell_type": "code",
      "execution_count": 9,
      "metadata": {
        "tags": []
      },
      "outputs": [
        {
          "output_type": "stream",
          "name": "stdout",
          "text": [
            "all done!\n"
          ]
        }
      ],
      "source": [
        "\n",
        "for i in range(len(song_paths)):\n",
        "    \n",
        "    # get mp3 filename for ID reference and check to skip\n",
        "    if song_paths[i][-10:] not in skip_list:\n",
        "\n",
        "        # load audio file\n",
        "        audiofile = eyed3.load(song_paths[i])\n",
        "\n",
        "        # cross-reference with CSV id values and assign to audio file\n",
        "        audiofile.tag.genre = genre_lookup[track_genre_lookup[int(song_paths[i][-10:-4])]]\n",
        "        audiofile.tag.save()\n",
        "print(\"all done!\")"
      ]
    },
    {
      "cell_type": "code",
      "execution_count": null,
      "metadata": {},
      "outputs": [],
      "source": []
    }
  ]
}