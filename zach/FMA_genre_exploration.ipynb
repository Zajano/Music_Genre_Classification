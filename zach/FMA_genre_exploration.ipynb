{
 "metadata": {
  "language_info": {
   "codemirror_mode": {
    "name": "ipython",
    "version": 3
   },
   "file_extension": ".py",
   "mimetype": "text/x-python",
   "name": "python",
   "nbconvert_exporter": "python",
   "pygments_lexer": "ipython3",
   "version": "3.8.3-final"
  },
  "orig_nbformat": 2,
  "kernelspec": {
   "name": "python3",
   "display_name": "Python 3",
   "language": "python"
  }
 },
 "nbformat": 4,
 "nbformat_minor": 2,
 "cells": [
  {
   "source": [
    "# exploring genre and sub-genre data from the Free Music Archive"
   ],
   "cell_type": "markdown",
   "metadata": {}
  },
  {
   "cell_type": "code",
   "execution_count": 1,
   "metadata": {},
   "outputs": [],
   "source": [
    "import pandas as pd\n",
    "from pathlib import Path\n",
    "import eyed3\n",
    "import os\n",
    "from config import *\n",
    "\n",
    "eyed3.log.setLevel(\"ERROR\")"
   ]
  },
  {
   "source": [
    "### notebook functions"
   ],
   "cell_type": "markdown",
   "metadata": {}
  },
  {
   "cell_type": "code",
   "execution_count": 2,
   "metadata": {},
   "outputs": [],
   "source": [
    "def make_file_list(root_dir):\n",
    "    '''given a directory, loops through folders and files and return list of files paths\n",
    "        and file names'''\n",
    "    path_list = []\n",
    "    for subdir, dirs, files in os.walk(root_dir):\n",
    "        for file in files:\n",
    "            path_list.append(os.path.join(subdir, file))\n",
    "\n",
    "    return path_list\n",
    "\n",
    "def get_genre_id(genre_dict_list):\n",
    "    return genre_dict_list[0]['genre_id']\n",
    "\n",
    "def id_to_int(val):\n",
    "    return int(val)"
   ]
  },
  {
   "source": [
    "### import data from targeted directory"
   ],
   "cell_type": "markdown",
   "metadata": {}
  },
  {
   "cell_type": "code",
   "execution_count": 3,
   "metadata": {},
   "outputs": [],
   "source": [
    "metadata = z_path + \"\\\\fma_metadata\"\n",
    "os.chdir(metadata)\n",
    "\n",
    "genres_df = pd.read_csv('genres.csv')\n",
    "tracks_df = pd.read_csv('raw_tracks.csv')"
   ]
  },
  {
   "source": [
    "### make dataframes and adjustments"
   ],
   "cell_type": "markdown",
   "metadata": {}
  },
  {
   "cell_type": "code",
   "execution_count": 4,
   "metadata": {},
   "outputs": [],
   "source": [
    "# drop rows missing the 'genre' value\n",
    "tracks_df = tracks_df[tracks_df['track_genres'].notna()]\n",
    "\n",
    "# string conversion to list of genre dictionaries\n",
    "tracks_df['track_genres'] = tracks_df['track_genres'].apply(eval)\n",
    "\n",
    "# assign primary genre classification id, then make an int\n",
    "tracks_df['genre_ids'] = tracks_df['track_genres'].apply(get_genre_id)\n",
    "\n",
    "# convert IDs to ints for comparisons\n",
    "tracks_df['genre_ids'] = tracks_df['genre_ids'].apply(id_to_int)\n",
    "tracks_df['track_id'] = tracks_df['track_id'].apply(id_to_int)"
   ]
  },
  {
   "source": [
    "### dictionaries for lookups"
   ],
   "cell_type": "markdown",
   "metadata": {}
  },
  {
   "cell_type": "code",
   "execution_count": 5,
   "metadata": {},
   "outputs": [],
   "source": [
    "# dictionaries for top-level genre lookup from ID values\n",
    "genre_lookup = genres_df.set_index('genre_id').to_dict()['title']\n",
    "id_lookup = genres_df.set_index('title').to_dict()['genre_id']\n",
    "\n",
    "# if we ever want everything under only a few genres\n",
    "# key = current genre, value = parent genre\n",
    "parent_lookup = genres_df.set_index('genre_id').to_dict()['top_level']"
   ]
  },
  {
   "cell_type": "code",
   "execution_count": 6,
   "metadata": {},
   "outputs": [],
   "source": [
    "# all genres for songs\n",
    "genre_ids = genres_df['genre_id'].to_list()\n",
    "all_genres = genres_df['title'].to_list()\n",
    "\n",
    "# when a genre has no parent, it is top-level\n",
    "top_genres = genres_df[genres_df['parent'] == 0]['title'].to_list()"
   ]
  },
  {
   "cell_type": "code",
   "execution_count": 7,
   "metadata": {},
   "outputs": [],
   "source": [
    "# make dict of top genres\n",
    "genre_children = {}\n",
    "\n",
    "for genre in top_genres:\n",
    "    genre_children[genre] = []\n",
    "\n",
    "# add child genres to lists in dict\n",
    "for genre_id in genre_ids:\n",
    "    genre = genre_lookup[genre_id]\n",
    "    parent = genre_lookup[parent_lookup[genre_id]]\n",
    "    genre_children[parent].append(genre)"
   ]
  },
  {
   "cell_type": "code",
   "execution_count": 8,
   "metadata": {},
   "outputs": [
    {
     "output_type": "stream",
     "name": "stdout",
     "text": [
      "International :  ['International', 'Latin America', 'French', 'Reggae - Dub', 'Afrobeat', 'Indian', 'African', 'Middle East', 'Polka', 'Balkan', 'Europe', 'Brazilian', 'Asia-Far East', 'N. Indian Traditional', 'South Indian Traditional', 'Bollywood', 'Pacific', 'Celtic', 'North African', 'Flamenco', 'Cumbia', 'Latin', 'Romany (Gypsy)', 'Reggae - Dancehall', 'Spanish', 'Klezmer', 'Salsa', 'Turkish', 'Tango', 'Fado'] \n\nBlues :  ['Blues', 'Gospel'] \n\nJazz :  ['Jazz', 'Jazz: Vocal', 'Free-Jazz', 'Jazz: Out', 'Be-Bop', 'Big Band/Swing', 'Modern Jazz'] \n\nClassical :  ['Classical', '20th Century Classical', 'Composed Music', 'Opera', 'Chamber Music', 'Choral Music', 'Symphony', 'Contemporary Classical'] \n\nOld-Time / Historic :  ['Old-Time / Historic'] \n\nCountry :  ['Country', 'Bluegrass', 'Americana', 'Rockabilly', 'Western Swing', 'Country & Western'] \n\nPop :  ['Pop', 'Experimental Pop', 'Synth Pop'] \n\nRock :  ['Rock', 'Punk', 'Post-Rock', 'Lo-Fi', 'Metal', 'Krautrock', 'Loud-Rock', 'Noise-Rock', 'Psych-Rock', 'Electro-Punk', 'Indie-Rock', 'Industrial', 'No Wave', 'Garage', 'New Wave', 'Post-Punk', 'Sludge', 'Progressive', 'Death-Metal', 'Hardcore', 'Power-Pop', 'Space-Rock', 'Black-Metal', 'Goth', 'Shoegaze', 'Thrash', 'Surf', 'Grindcore', 'Rock Opera'] \n\nEasy Listening :  ['Easy Listening', 'Easy Listening: Vocal', 'Lounge', 'Nu-Jazz'] \n\nSoul-RnB :  ['Disco', 'Soul-RnB', 'Funk', 'Deep Funk'] \n\nElectronic :  ['Electronic', 'Ambient Electronic', 'Techno', 'House', 'Glitch', 'Minimal Electronic', 'Breakcore - Hard', 'IDM', 'Chiptune', 'Trip-Hop', 'Dance', 'Chip Music', 'Drum & Bass', 'Chill-out', 'Bigbeat', 'Dubstep', 'Skweee', 'Downtempo', 'Jungle'] \n\nFolk :  ['Folk', 'Psych-Folk', 'Free-Folk', 'Freak-Folk', 'Singer-Songwriter', 'British Folk'] \n\nSpoken :  ['Comedy', 'Spoken', 'Radio Art', 'Radio', 'Spoken Weird', 'Interview', 'Poetry', 'Talk Radio', 'Banter', 'Spoken Word', 'Radio Theater', 'Musical Theater'] \n\nHip-Hop :  ['Hip-Hop', 'Nerdcore', 'Alternative Hip-Hop', 'Rap', 'Breakbeat', 'Abstract Hip-Hop', 'Wonky', 'Hip-Hop Beats'] \n\nExperimental :  ['Avant-Garde', 'Novelty', 'Sound Effects', 'Audio Collage', 'Field Recordings', 'Noise', 'Experimental', 'Electroacoustic', 'Drone', 'Unclassifiable', 'Sound Poetry', 'Sound Collage', 'Musique Concrete', 'Improv', 'Kid-Friendly', 'Minimalism', 'Sound Art', 'Holiday', 'Christmas'] \n\nInstrumental :  ['Soundtrack', 'Ambient', 'New Age', 'Compilation', 'Instrumental'] \n\n"
     ]
    }
   ],
   "source": [
    "for genre in top_genres:\n",
    "    print(genre, \": \", genre_children[genre], \"\\n\")"
   ]
  },
  {
   "cell_type": "code",
   "execution_count": 9,
   "metadata": {},
   "outputs": [],
   "source": [
    "# get songs to count genres\n",
    "root_dir = z_path + \"\\\\genres\"\n",
    "\n",
    "song_paths = make_file_list(root_dir)"
   ]
  },
  {
   "cell_type": "code",
   "execution_count": 10,
   "metadata": {},
   "outputs": [],
   "source": [
    "# dict for number of songs under each genre from sample set\n",
    "genre_counts = {}\n",
    "for genre in all_genres:\n",
    "    genre_counts[genre] = 0\n",
    "\n",
    "top_counts = {}\n",
    "for genre in top_genres:\n",
    "    top_counts[genre] = 0\n",
    "\n",
    "# start counting genres\n",
    "for i in range(len(song_paths)):\n",
    "    # load audio file\n",
    "    audiofile = eyed3.load(song_paths[i])\n",
    "    filename = song_paths[i][-10:]\n",
    "\n",
    "    # get genre and strip genre ID\n",
    "    song_genre = str(audiofile.tag.genre)\n",
    "    # will either be 0 or idx after (id)\n",
    "    end = song_genre.find(')') + 1\n",
    "    # for Romany(gypsy) genre\n",
    "    if end == len(song_genre):\n",
    "        end = 0\n",
    "    song_genre = song_genre[end:]\n",
    "\n",
    "    # track number of songs for each genre\n",
    "    genre_counts[song_genre] += 1\n",
    "    # change to top-level genre\n",
    "    song_genre = genre_lookup[parent_lookup[id_lookup[song_genre]]]\n",
    "    top_counts[song_genre] += 1"
   ]
  },
  {
   "cell_type": "code",
   "execution_count": 12,
   "metadata": {},
   "outputs": [
    {
     "output_type": "stream",
     "name": "stdout",
     "text": [
      "25000\n[('Electronic', 3855), ('Rock', 2406), ('Hip-Hop', 1957), ('Punk', 1401), ('Folk', 1155), ('Soundtrack', 773), ('Pop', 653), ('Experimental', 647), ('Avant-Garde', 559), ('Indie-Rock', 556), ('Ambient Electronic', 539), ('Old-Time / Historic', 510), ('Classical', 448), ('Experimental Pop', 446), ('Psych-Rock', 414), ('Chiptune', 398), ('Noise', 379), ('Lo-Fi', 335), ('International', 328), ('Trip-Hop', 323), ('Jazz', 286), ('Metal', 279), ('Post-Rock', 266), ('Ambient', 249), ('Techno', 236), ('Garage', 234), ('Reggae - Dub', 208), ('Instrumental', 208), ('Post-Punk', 183), ('Chip Music', 182), ('Singer-Songwriter', 178), ('Glitch', 146), ('Field Recordings', 144), ('IDM', 137), ('Hardcore', 135), ('House', 133), ('Industrial', 130), ('Noise-Rock', 124), ('Psych-Folk', 113), ('Audio Collage', 104), ('New Wave', 101), ('Hip-Hop Beats', 90), ('Country', 89), ('Synth Pop', 87), ('Disco', 86), ('Latin America', 86), ('Balkan', 83), ('Sound Collage', 83), ('Electro-Punk', 75), ('Blues', 74), ('Alternative Hip-Hop', 74), ('Choral Music', 73), ('Power-Pop', 72), ('New Age', 72), ('Dubstep', 71), ('Downtempo', 70), ('Holiday', 66), ('Progressive', 65), ('No Wave', 59), ('Breakcore - Hard', 59), ('Europe', 56), ('Electroacoustic', 53), ('Improv', 52), ('Rap', 52), ('Compilation', 48), ('Krautrock', 47), ('Americana', 47), ('Freak-Folk', 46), ('Loud-Rock', 45), ('Soul-RnB', 44), ('Contemporary Classical', 44), ('Composed Music', 43), ('Goth', 41), ('Dance', 40), ('Free-Jazz', 39), ('Novelty', 36), ('Asia-Far East', 35), ('Minimal Electronic', 35), ('Black-Metal', 34), ('Chill-out', 34), ('Unclassifiable', 32), ('Spoken', 31), ('Spoken Weird', 30), ('Jungle', 30), ('Afrobeat', 29), ('Bluegrass', 26), ('Celtic', 26), ('Drum & Bass', 26), ('Funk', 24), ('Free-Folk', 23), ('Minimalism', 23), ('Breakbeat', 22), ('Shoegaze', 21), ('Polka', 20), ('Kid-Friendly', 20), ('Jazz: Vocal', 19), ('Death-Metal', 19), ('Sound Art', 19), ('Modern Jazz', 19), ('Sound Poetry', 18), ('French', 17), ('Grindcore', 17), ('Reggae - Dancehall', 17), ('Rock Opera', 16), ('Latin', 16), ('Jazz: Out', 15), ('Romany (Gypsy)', 15), ('Interview', 14), ('Poetry', 14), ('North African', 14), ('Drone', 13), ('African', 13), ('Middle East', 13), ('Sludge', 12), ('Comedy', 11), ('Lounge', 11), ('Turkish', 11), ('Radio Art', 10), ('Rockabilly', 10), ('Easy Listening', 9), ('Indian', 8), ('Surf', 8), ('20th Century Classical', 7), ('Salsa', 7), ('Tango', 7), ('Nerdcore', 6), ('Big Band/Swing', 6), ('Country & Western', 6), ('Klezmer', 6), ('Radio', 4), ('Space-Rock', 4), ('British Folk', 4), ('Thrash', 4), ('Banter', 4), ('Chamber Music', 4), ('Christmas', 3), ('Cumbia', 2), ('Brazilian', 1), ('Nu-Jazz', 1)]\nInternational : 1018\nBlues : 74\nJazz : 384\nClassical : 619\nOld-Time / Historic : 510\nCountry : 178\nPop : 1186\nRock : 7103\nEasy Listening : 21\nSoul-RnB : 154\nElectronic : 6314\nFolk : 1519\nSpoken : 118\nHip-Hop : 2201\nExperimental : 2251\nInstrumental : 1350\n"
     ]
    }
   ],
   "source": [
    "# just get genres that are present in sample\n",
    "non_zero_genres = [(key, value) for key, value in genre_counts.items() if int(value) > 0]\n",
    "\n",
    "total = 0\n",
    "for g in non_zero_genres:\n",
    "    total += g[1]\n",
    "print(total)\n",
    "# sort in descending order\n",
    "non_zero_genres.sort(key=lambda x: x[1], reverse=True)\n",
    "print(non_zero_genres)\n",
    "\n",
    "for genre in top_counts:\n",
    "    print(genre,\":\", top_counts[genre])"
   ]
  },
  {
   "cell_type": "code",
   "execution_count": null,
   "metadata": {},
   "outputs": [],
   "source": []
  }
 ]
}