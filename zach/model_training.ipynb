{
 "metadata": {
  "language_info": {
   "codemirror_mode": {
    "name": "ipython",
    "version": 3
   },
   "file_extension": ".py",
   "mimetype": "text/x-python",
   "name": "python",
   "nbconvert_exporter": "python",
   "pygments_lexer": "ipython3",
   "version": "3.8.3-final"
  },
  "orig_nbformat": 2,
  "kernelspec": {
   "name": "python3",
   "display_name": "Python 3.8.3 64-bit",
   "metadata": {
    "interpreter": {
     "hash": "21dcf6d1695f2073275c5e55799117564bbe04ade3536d1fe9c0f85342e3c5b3"
    }
   }
  }
 },
 "nbformat": 4,
 "nbformat_minor": 2,
 "cells": [
  {
   "cell_type": "code",
   "execution_count": 4,
   "metadata": {},
   "outputs": [],
   "source": [
    "import os\n",
    "import pandas as pd\n",
    "import numpy as np\n",
    "import matplotlib.pyplot as plt\n",
    "import scipy, sklearn, eyed3\n",
    "import IPython.display as ipd\n",
    "import librosa, librosa.display\n",
    "\n",
    "from notebook_functions import *\n",
    "\n",
    "music_dir = \"C:\\\\Users\\\\Zack\\\\Desktop\\\\work\\\\OSU\\\\467_capstone\\\\data\\\\audio_samples\""
   ]
  },
  {
   "cell_type": "code",
   "execution_count": 2,
   "metadata": {},
   "outputs": [],
   "source": [
    "song_paths, filenames = make_file_list(music_dir)"
   ]
  },
  {
   "cell_type": "code",
   "execution_count": null,
   "metadata": {},
   "outputs": [],
   "source": []
  },
  {
   "cell_type": "code",
   "execution_count": null,
   "metadata": {},
   "outputs": [],
   "source": [
    "def make_mel_spectrogram_df(dir):\n",
    "    '''\n",
    "    Creates DataFrame with mel spectrogram and genres for all audio \n",
    "    sample files within given directory.\n",
    "    dir     : string of directory location with audio samples\n",
    "    returns : panda's DataFrame\n",
    "    '''\n",
    "    # helper function for getting lists of sample paths\n",
    "    song_paths, _ = make_file_list(music_dir)\n",
    "    \n",
    "    mel_specs = []\n",
    "    genre_labels = []\n",
    "    \n",
    "    for song in song_paths:\n",
    "        \n",
    "        # load sample data\n",
    "        shape, sample_rate = librosa.core.load(song)\n",
    "        audio_file = eyed3.load(song)\n",
    "        \n",
    "        # add genre to list for sample\n",
    "        genre = audio_file.tag.genre\n",
    "        genre_labels.append(str(genre))\n",
    "        \n",
    "        # compute mel spectrograms\n",
    "        spect = librosa.feature.melspectrogram(shape, sr=sample_rate, n_fft=2048, hop_length=1024)\n",
    "        spect = librosa.power_to_db(spect, ref=np.max)\n",
    "        \n",
    "        # adjust spectrograms to all be 128 x 660\n",
    "        if spect.shape[1] != 660:\n",
    "            spect.resize(128,660, refcheck=False)\n",
    "        \n",
    "        # flatten to fit dataframe and add to list\n",
    "        spect = spect.flatten()\n",
    "        mel_specs.append(spect)\n",
    "    \n",
    "    # Create dataframe and return\n",
    "    df = pd.DataFrame(mel_specs)\n",
    "    df['genres'] = genre_labels\n",
    "    return df"
   ]
  }
 ]
}