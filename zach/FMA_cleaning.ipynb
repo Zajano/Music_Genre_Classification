{
  "nbformat": 4,
  "nbformat_minor": 0,
  "metadata": {
    "kernelspec": {
      "display_name": "Python 3",
      "language": "python",
      "name": "python3"
    },
    "language_info": {
      "codemirror_mode": {
        "name": "ipython",
        "version": 3
      },
      "file_extension": ".py",
      "mimetype": "text/x-python",
      "name": "python",
      "nbconvert_exporter": "python",
      "pygments_lexer": "ipython3",
      "version": "3.8.3-final"
    },
    "colab": {
      "name": "Feature_Selection.ipynb",
      "provenance": [],
      "collapsed_sections": [
        "_oCP89ZNjYCG",
        "FQb68F3TjYCO",
        "Dr6mt4R5jYCW",
        "eQQUvx9wjYCi",
        "SzhZrZhbjYCp",
        "qcAkDlw5jYCy",
        "144l7Y9cjYDB",
        "cVA8yB1jjYDG",
        "ClYsNPxBjYDR"
      ]
    }
  },
  "cells": [
    {
      "cell_type": "code",
      "metadata": {
        "id": "OPIwQhvFjYAr",
        "colab_type": "code",
        "colab": {}
      },
      "source": [
        "import IPython.display as ipd\n",
        "import matplotlib.pyplot as plt\n",
        "import pandas as pd\n",
        "import eyed3\n",
        "import librosa\n",
        "import json\n",
        "import librosa.display\n",
        "from config import *\n",
        "\n",
        "# for in-notebook rendering\n",
        "%matplotlib inline\n",
        "\n",
        "# dataset location\n",
        "root_dir = z_path + \"\\\\fma_medium\"\n"
      ],
      "execution_count": 96,
      "outputs": []
    },
    {
      "source": [
        "#### notebook functions"
      ],
      "cell_type": "markdown",
      "metadata": {}
    },
    {
      "cell_type": "code",
      "metadata": {
        "id": "7svmOfLKjYA6",
        "colab_type": "code",
        "colab": {}
      },
      "source": [
        "def make_file_list(root_dir):\n",
        "    '''given a directory, loops through folders and files and return list of files paths'''\n",
        "    file_list = []\n",
        "    for subdir, dirs, files in os.walk(root_dir):\n",
        "        for file in files:\n",
        "            file_list.append(os.path.join(subdir, file))\n",
        "\n",
        "    return file_list\n",
        "\n",
        "def make_genre_list(song_list):\n",
        "    '''use tinytag to count number of songs for each genre'''\n",
        "    genres = {}\n",
        "    for song in song_list:\n",
        "        tag = TinyTag.get(song)\n",
        "        # if tag.genre is not None:\n",
        "        #     if tag.genre in genres:\n",
        "        #         genres[tag.genre] += 1\n",
        "        #     else:\n",
        "        #         genres[tag.genre] = 1\n",
        "        \n",
        "        # what.... why is this a genre\n",
        "        if tag.genre == 'Popcorn':\n",
        "            print(song)\n",
        "\n",
        "    return genres\n",
        "\n",
        "def get_genre_id(genre_dict_list):\n",
        "    return genre_dict_list[0]['genre_id']\n",
        "\n",
        "def get_genre_name(genre_dict_list):\n",
        "    return genre_dict_list[0]['genre_title']\n",
        "        "
      ],
      "execution_count": 97,
      "outputs": []
    },
    {
      "cell_type": "markdown",
      "metadata": {
        "id": "3Vns3zQojYBF",
        "colab_type": "text"
      },
      "source": [
        "### exploring FMA audio samples"
      ]
    },
    {
      "cell_type": "code",
      "execution_count": 98,
      "metadata": {},
      "outputs": [],
      "source": [
        "# short\n",
        "songs = make_file_list(root_dir)\n",
        "# print(songs[0])"
      ]
    },
    {
      "cell_type": "code",
      "execution_count": 99,
      "metadata": {},
      "outputs": [],
      "source": [
        "# takes time\n",
        "# genres = make_genre_list(songs)\n",
        "# print(genres)"
      ]
    },
    {
      "cell_type": "code",
      "execution_count": 100,
      "metadata": {},
      "outputs": [],
      "source": [
        "# import raw track data\n",
        "\n",
        "metadata = z_path + \"\\\\fma_metadata\"\n",
        "os.chdir(metadata)\n",
        "\n",
        "genres_df = pd.read_csv('genres.csv')\n",
        "tracks_df = pd.read_csv('raw_tracks.csv')\n"
      ]
    },
    {
      "cell_type": "code",
      "execution_count": 101,
      "metadata": {},
      "outputs": [
        {
          "output_type": "stream",
          "name": "stdout",
          "text": [
            "Index(['track_id', 'album_id', 'album_title', 'album_url', 'artist_id',\n       'artist_name', 'artist_url', 'artist_website', 'license_image_file',\n       'license_image_file_large', 'license_parent_id', 'license_title',\n       'license_url', 'tags', 'track_bit_rate', 'track_comments',\n       'track_composer', 'track_copyright_c', 'track_copyright_p',\n       'track_date_created', 'track_date_recorded', 'track_disc_number',\n       'track_duration', 'track_explicit', 'track_explicit_notes',\n       'track_favorites', 'track_file', 'track_genres', 'track_image_file',\n       'track_information', 'track_instrumental', 'track_interest',\n       'track_language_code', 'track_listens', 'track_lyricist',\n       'track_number', 'track_publisher', 'track_title', 'track_url'],\n      dtype='object')\n"
          ]
        }
      ],
      "source": [
        "print(tracks_df.columns)\n"
      ]
    },
    {
      "cell_type": "code",
      "execution_count": 102,
      "metadata": {},
      "outputs": [
        {
          "output_type": "execute_result",
          "data": {
            "text/plain": [
              "   track_id  track_bit_rate                                       track_genres\n",
              "0         2        256000.0  [{'genre_id': '21', 'genre_title': 'Hip-Hop', ...\n",
              "1         3        256000.0  [{'genre_id': '21', 'genre_title': 'Hip-Hop', ...\n",
              "2         5        256000.0  [{'genre_id': '21', 'genre_title': 'Hip-Hop', ...\n",
              "3        10        192000.0  [{'genre_id': '10', 'genre_title': 'Pop', 'gen...\n",
              "4        20        256000.0  [{'genre_id': '76', 'genre_title': 'Experiment..."
            ],
            "text/html": "<div>\n<style scoped>\n    .dataframe tbody tr th:only-of-type {\n        vertical-align: middle;\n    }\n\n    .dataframe tbody tr th {\n        vertical-align: top;\n    }\n\n    .dataframe thead th {\n        text-align: right;\n    }\n</style>\n<table border=\"1\" class=\"dataframe\">\n  <thead>\n    <tr style=\"text-align: right;\">\n      <th></th>\n      <th>track_id</th>\n      <th>track_bit_rate</th>\n      <th>track_genres</th>\n    </tr>\n  </thead>\n  <tbody>\n    <tr>\n      <th>0</th>\n      <td>2</td>\n      <td>256000.0</td>\n      <td>[{'genre_id': '21', 'genre_title': 'Hip-Hop', ...</td>\n    </tr>\n    <tr>\n      <th>1</th>\n      <td>3</td>\n      <td>256000.0</td>\n      <td>[{'genre_id': '21', 'genre_title': 'Hip-Hop', ...</td>\n    </tr>\n    <tr>\n      <th>2</th>\n      <td>5</td>\n      <td>256000.0</td>\n      <td>[{'genre_id': '21', 'genre_title': 'Hip-Hop', ...</td>\n    </tr>\n    <tr>\n      <th>3</th>\n      <td>10</td>\n      <td>192000.0</td>\n      <td>[{'genre_id': '10', 'genre_title': 'Pop', 'gen...</td>\n    </tr>\n    <tr>\n      <th>4</th>\n      <td>20</td>\n      <td>256000.0</td>\n      <td>[{'genre_id': '76', 'genre_title': 'Experiment...</td>\n    </tr>\n  </tbody>\n</table>\n</div>"
          },
          "metadata": {},
          "execution_count": 102
        }
      ],
      "source": [
        "# limit to just the relevant details\n",
        "tracks_df = tracks_df[[\"track_id\", \"track_bit_rate\", \"track_genres\"]]\n",
        "\n",
        "# drop rows missing the 'genre' value\n",
        "tracks_df = tracks_df[tracks_df['track_genres'].notna()]\n",
        "\n",
        "tracks_df.head()"
      ]
    },
    {
      "cell_type": "code",
      "execution_count": 103,
      "metadata": {},
      "outputs": [],
      "source": [
        "# string conversion to list of genre dictionaries\n",
        "tracks_df['track_genres'] = tracks_df['track_genres'].apply(eval)"
      ]
    },
    {
      "cell_type": "code",
      "execution_count": 105,
      "metadata": {},
      "outputs": [],
      "source": [
        "# assign primary genre classification id\n",
        "tracks_df['genre_ids'] = tracks_df['track_genres'].apply(get_genre_id)"
      ]
    },
    {
      "cell_type": "code",
      "execution_count": 108,
      "metadata": {},
      "outputs": [
        {
          "output_type": "execute_result",
          "data": {
            "text/plain": [
              "array(['21', '10', '76', '45', '1', '17', '4', '25', '26', '30', '27',\n",
              "       '15', '12', '31', '32', '89', '36', '3', '37', '41', '43', '79',\n",
              "       '46', '11', '38', '2', '47', '33', '49', '250', '138', '53', '58',\n",
              "       '22', '103', '64', '66', '42', '70', '71', '5', '98', '74', '85',\n",
              "       '166', '188', '63', '9', '118', '111', '109', '97', '117', '92',\n",
              "       '77', '13', '137', '102', '8', '185', '101', '224', '94', '20',\n",
              "       '125', '180', '113', '7', '100', '906', '14', '538', '6', '107',\n",
              "       '18', '286', '236', '90', '88', '297', '65', '337', '86', '763',\n",
              "       '314', '167', '172', '179', '214', '19', '184', '181', '359',\n",
              "       '361', '362', '183', '374', '81', '322', '240', '186', '187',\n",
              "       '440', '247', '171', '311', '296', '468', '182', '495', '130',\n",
              "       '169', '1060', '83', '456', '443', '16', '542', '619', '491',\n",
              "       '514', '404', '177', '1193', '741', '524', '360', '808', '659',\n",
              "       '400', '189', '811', '539', '439', '1235', '810', '442', '651',\n",
              "       '267', '504', '695', '378', '428', '602', '444', '1032', '502',\n",
              "       '173', '170'], dtype=object)"
            ]
          },
          "metadata": {},
          "execution_count": 108
        }
      ],
      "source": [
        "tracks_df['genre_ids'].unique()"
      ]
    },
    {
      "cell_type": "code",
      "execution_count": null,
      "metadata": {},
      "outputs": [],
      "source": [
        "# edit and save mp3 changes\n",
        "\n",
        "\n",
        "audiofile = eyed3.load(songs[0])\n",
        "audiofile.tag.genre = \"test genre\"\n",
        "# audiofile.tag.album = \"Free For All Comp LP\"\n",
        "# audiofile.tag.album_artist = \"Various Artists\"\n",
        "# audiofile.tag.title = \"The Edge\"\n",
        "# audiofile.tag.track_num = 3\n",
        "\n",
        "audiofile.tag.save()"
      ]
    },
    {
      "cell_type": "code",
      "execution_count": null,
      "metadata": {},
      "outputs": [],
      "source": []
    }
  ]
}