{
  "nbformat": 4,
  "nbformat_minor": 0,
  "metadata": {
    "kernelspec": {
      "display_name": "Python 3",
      "language": "python",
      "name": "python3"
    },
    "language_info": {
      "codemirror_mode": {
        "name": "ipython",
        "version": 3
      },
      "file_extension": ".py",
      "mimetype": "text/x-python",
      "name": "python",
      "nbconvert_exporter": "python",
      "pygments_lexer": "ipython3",
      "version": "3.8.3-final"
    },
    "colab": {
      "name": "Feature_Selection.ipynb",
      "provenance": [],
      "collapsed_sections": [
        "_oCP89ZNjYCG",
        "FQb68F3TjYCO",
        "Dr6mt4R5jYCW",
        "eQQUvx9wjYCi",
        "SzhZrZhbjYCp",
        "qcAkDlw5jYCy",
        "144l7Y9cjYDB",
        "cVA8yB1jjYDG",
        "ClYsNPxBjYDR"
      ]
    }
  },
  "cells": [
    {
      "cell_type": "code",
      "metadata": {
        "id": "OPIwQhvFjYAr",
        "colab_type": "code",
        "colab": {}
      },
      "source": [
        "import IPython.display as ipd\n",
        "import matplotlib.pyplot as plt\n",
        "import librosa\n",
        "import librosa.display\n",
        "from .config import *\n",
        "\n",
        "# for in-notebook rendering\n",
        "%matplotlib inline\n",
        "\n",
        "# dataset location\n",
        "root_dir = z_path + \"\\\\fma_medium\"\n"
      ],
      "execution_count": 19,
      "outputs": []
    },
    {
      "source": [
        "#### notebook functions"
      ],
      "cell_type": "markdown",
      "metadata": {}
    },
    {
      "cell_type": "code",
      "metadata": {
        "id": "7svmOfLKjYA6",
        "colab_type": "code",
        "colab": {}
      },
      "source": [
        "def make_file_list(root_dir):\n",
        "    '''given a directory, loops through folders and files and return list of files paths'''\n",
        "    file_list = []\n",
        "    for subdir, dirs, files in os.walk(root_dir):\n",
        "        for file in files:\n",
        "            file_list.append(os.path.join(subdir, file))\n",
        "\n",
        "    return file_list\n",
        "\n",
        "def make_genre_list(song_list):\n",
        "    '''use tinytag to count number of songs for each genre'''\n",
        "    genres = {}\n",
        "    for song in song_list:\n",
        "        tag = TinyTag.get(song)\n",
        "        # if tag.genre is not None:\n",
        "        #     if tag.genre in genres:\n",
        "        #         genres[tag.genre] += 1\n",
        "        #     else:\n",
        "        #         genres[tag.genre] = 1\n",
        "        \n",
        "        # what.... why is this a genre\n",
        "        if tag.genre == 'Popcorn':\n",
        "            print(song)\n",
        "\n",
        "    return genres\n",
        "        "
      ],
      "execution_count": 20,
      "outputs": []
    },
    {
      "cell_type": "markdown",
      "metadata": {
        "id": "3Vns3zQojYBF",
        "colab_type": "text"
      },
      "source": [
        "### exploring FMA audio samples"
      ]
    },
    {
      "cell_type": "code",
      "execution_count": null,
      "metadata": {},
      "outputs": [],
      "source": [
        "# short\n",
        "songs = make_file_list(root_dir)"
      ]
    },
    {
      "cell_type": "code",
      "execution_count": null,
      "metadata": {},
      "outputs": [],
      "source": [
        "# takes time\n",
        "genres = make_genre_list(songs)"
      ]
    },
    {
      "cell_type": "code",
      "execution_count": null,
      "metadata": {},
      "outputs": [],
      "source": [
        "print(genres)\n",
        "\n",
        "\n",
        "# change directory to CSV and load data\n",
        "# data_dir = z_path + \"\\\\fma_metadata\\\\\"\n",
        "# data_file = \"genres.csv\"\n",
        "# os.chdir(data_dir)\n",
        "# genre_df = pd.read_csv(data_file)\n",
        "\n",
        "# # find genre roots for music\n",
        "# genre_heads = genre_df.top_level.unique()"
      ]
    }
  ]
}