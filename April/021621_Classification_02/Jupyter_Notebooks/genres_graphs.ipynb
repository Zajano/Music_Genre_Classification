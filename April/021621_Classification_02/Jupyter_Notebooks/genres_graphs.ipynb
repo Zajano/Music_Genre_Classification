{
 "metadata": {
  "language_info": {
   "codemirror_mode": {
    "name": "ipython",
    "version": 3
   },
   "file_extension": ".py",
   "mimetype": "text/x-python",
   "name": "python",
   "nbconvert_exporter": "python",
   "pygments_lexer": "ipython3",
   "version": "3.8.7-final"
  },
  "orig_nbformat": 2,
  "kernelspec": {
   "name": "python3",
   "display_name": "Python 3.8.7 64-bit",
   "metadata": {
    "interpreter": {
     "hash": "7e85ec9bf098c5427e45e2f632dcd4eeff803b007e1abd287d600879388709c1"
    }
   }
  }
 },
 "nbformat": 4,
 "nbformat_minor": 2,
 "cells": [
  {
   "cell_type": "code",
   "execution_count": 1,
   "metadata": {},
   "outputs": [],
   "source": [
    "import pandas as pd\n",
    "from pathlib import Path\n",
    "import eyed3\n",
    "import os\n",
    "from config import *\n",
    "import librosa\n",
    "import numpy as np\n",
    "import matplotlib.pyplot as plt\n",
    "%matplotlib inline\n",
    "from PIL import Image\n",
    "import pathlib\n",
    "import csv\n",
    "\n",
    "# Preprocessing\n",
    "from sklearn.model_selection import train_test_split\n",
    "from sklearn.preprocessing import LabelEncoder, StandardScaler\n",
    "\n",
    "#Keras\n",
    "import keras\n",
    "\n",
    "import warnings\n",
    "warnings.filterwarnings('ignore')\n",
    "\n",
    "eyed3.log.setLevel(\"ERROR\")"
   ]
  },
  {
   "cell_type": "code",
   "execution_count": 2,
   "metadata": {},
   "outputs": [
    {
     "output_type": "stream",
     "name": "stdout",
     "text": [
      "['Ambient Electronic', 'Chiptune', 'Classical', 'Country', 'Electronic', 'Folk', 'Hip-Hop', 'Indie-Rock', 'Jazz', 'Metal', 'Pop', 'Post-Rock', 'Psych-Rock', 'Punk', 'Reggae', 'Rock', 'Techno', 'Trip-Hop']\n['chroma_stft', 'rms', 'spectral_centroid', 'spectral_bandwidth', 'rolloff', 'zero_crossing_rate', 'mfcc1', 'mfcc2', 'mfcc3', 'mfcc4', 'mfcc5', 'mfcc6', 'mfcc7', 'mfcc8', 'mfcc9', 'mfcc10', 'mfcc11', 'mfcc12', 'mfcc13', 'mfcc14', 'mfcc15', 'mfcc16', 'mfcc17', 'mfcc18', 'mfcc19', 'mfcc20']\n"
     ]
    }
   ],
   "source": [
    "# Global Variables\n",
    "csv_header = ['filename', 'chroma_stft', 'rms', 'spectral_centroid', 'spectral_bandwidth', 'rolloff', 'zero_crossing_rate', 'mfcc1', 'mfcc2', 'mfcc3', 'mfcc4', 'mfcc5', 'mfcc6', 'mfcc7', 'mfcc8', 'mfcc9', 'mfcc10', 'mfcc11', 'mfcc12', 'mfcc13', 'mfcc14', 'mfcc15', 'mfcc16', 'mfcc17', 'mfcc18', 'mfcc19', 'mfcc20', 'genre']\n",
    "\n",
    "genre_list = ['Hip-Hop', 'Trip-Hop', 'Ambient Electronic', 'Pop', 'Metal', 'Reggae', 'Electronic', 'Classical', 'Indie-Rock', 'Rock', 'Chiptune', 'Folk', 'Punk', 'Post-Rock', 'Country', 'Techno', 'Jazz', 'Psych-Rock']\n",
    "genre_list.sort()\n",
    "\n",
    "filename = csv_header[0]\n",
    "features_list = csv_header[1:-1]\n",
    "header = features_list.copy()\n",
    "header.insert(0, 'Genre')\n",
    "\n",
    "filenames_idx = 0\n",
    "feature_idx = 0\n",
    "genre_idx = 0\n",
    "\n",
    "feature_count = 26\n",
    "num_decimals = 4\n",
    "sd = 0\n",
    "cv = 0\n",
    "mean = 0\n",
    "\n",
    "ideal = \"IDEAL (0 <= cv < 1)\"\n",
    "not_ideal_neg = \"NOT_IDEAL (cv < 0)\"\n",
    "not_ideal_large = \"NOT_IDEAL (cv >= 1)\"\n",
    "cv_ideal = \"\"\n",
    "graph_path = \"\"\n",
    "cv_genres = \"cv_genres\"\n",
    "\n",
    "cv_all = []\n",
    "\n",
    "print(genre_list)\n",
    "print(features_list)"
   ]
  },
  {
   "cell_type": "code",
   "execution_count": 3,
   "metadata": {},
   "outputs": [],
   "source": [
    "# Functions\n",
    "def get_cv_ideal(cv):\n",
    "    '''Returns string that determines whether input cv is an ideal value'''\n",
    "    if cv >= 0 and cv < 1:\n",
    "        cv_ideal = ideal\n",
    "    elif cv < 0:\n",
    "        cv_ideal = not_ideal_neg\n",
    "    else:\n",
    "        cv_ideal = not_ideal_large\n",
    "    return cv_ideal\n",
    "\n",
    "def set_graph_paths(genre, feature):\n",
    "    '''Set up genre dir and file path to store graph at, \n",
    "    e.g., $HOME/Users/ac/Electronic/Electronic_mfcc1.png'''\n",
    "    graph_path = os.path.join(graph_path_parent, f'{genre}')\n",
    "    Path(graph_path).mkdir(mode=0o755, parents=False, exist_ok=True)\n",
    "    # os.mkdir(graph_path, mode=0o755) # Create genre dir\n",
    "    graph_path = os.path.join(graph_path, f'{genre}_{feature}.pdf') # Create file path\n",
    "    return graph_path\n",
    "\n",
    "def graph_feature(x, y, genre, feature, cv, sd, mean, cv_ideal):\n",
    "    '''Generates feature graph. Shows if cv is ideal, and values for cv, sd,\n",
    "    and mean'''\n",
    "    plt.title(f'{genre}')                           # Set up graph variables and labels\n",
    "    plt.plot(x, y, label=f'{feature}')\n",
    "    plt.xlabel(f'CV: {cv} | SD: {sd} | Mean: {mean} ')\n",
    "    plt.ylabel(f'{cv_ideal}')\n",
    "    plt.legend()\n",
    "    graph_path = set_graph_paths(genre, feature)    # Set up path to store graph\n",
    "    plt.savefig(graph_path)                         # Save graph \n",
    "    # plt.show() To display plot in ntbk\n",
    "    plt.clf()                                       # Clear graph\n",
    "\n",
    "def feature_calculations(y):\n",
    "    '''Perform calculations on feature and round values'''\n",
    "    sd = y.std()\n",
    "    mean = y.mean()\n",
    "    cv = sd / mean\n",
    "    cv_ideal = get_cv_ideal(cv)\n",
    "\n",
    "    # Round values\n",
    "    sd = round(sd, num_decimals)\n",
    "    mean = round(mean, num_decimals)\n",
    "    cv = round(cv, num_decimals)\n",
    "\n",
    "    return sd, mean, cv, cv_ideal\n",
    "\n",
    "def loop_thru_features(df, x, cv_genre, genre):\n",
    "    '''Loop through all features to get feature column from data frame, perform calculations, \n",
    "    plot graphs, and append cv information to cv_genre list'''\n",
    "    for feature in features_list:\n",
    "        y = df[feature]         # Get feature column\n",
    "        sd, mean, cv, cv_ideal = feature_calculations(y) # Perform calculations on feature and round values\n",
    "        cv_genre.append(cv)     # Add cv value to genre_cv list\n",
    "        graph_feature(x, y, genre, feature, cv, sd, mean, cv_ideal) # Graph feature\n",
    "    return cv_genre\n",
    "\n",
    "def loop_thru_genres(cv_all):\n",
    "    '''Loop through genre csvs to create graphs and perform calculations'''\n",
    "    for genre in genre_list: \n",
    "        x, y, cv_genre = [], [], [] # Set up graph vars\n",
    "        cv_genre.append(genre)      # Add genre as first entry in cv_genre row\n",
    "\n",
    "        # Read in genre csv file and sort by filename column\n",
    "        df = pd.read_csv(f'../Genre_CSVs/{genre}.csv')\n",
    "        df = df.sort_values(by=[filename])\n",
    "        \n",
    "        x = df[filename]            # Get filename column\n",
    "\n",
    "        # Loop through all features for genre to perform calculations and create graphs\n",
    "        cv_genre = loop_thru_features(df, x, cv_genre, genre)\n",
    "\n",
    "        cv_all.append(cv_genre)     # Append cv_genre to cv_all\n",
    "        #cv_genre = cv_genre[0:1]    # Clear out cv_genre\n",
    "    return cv_all"
   ]
  },
  {
   "cell_type": "code",
   "execution_count": 4,
   "metadata": {},
   "outputs": [
    {
     "output_type": "stream",
     "name": "stdout",
     "text": [
      "[['Genre', 'chroma_stft', 'rms', 'spectral_centroid', 'spectral_bandwidth', 'rolloff', 'zero_crossing_rate', 'mfcc1', 'mfcc2', 'mfcc3', 'mfcc4', 'mfcc5', 'mfcc6', 'mfcc7', 'mfcc8', 'mfcc9', 'mfcc10', 'mfcc11', 'mfcc12', 'mfcc13', 'mfcc14', 'mfcc15', 'mfcc16', 'mfcc17', 'mfcc18', 'mfcc19', 'mfcc20']]\n"
     ]
    }
   ],
   "source": [
    "# Add Features header row\n",
    "cv_all.append(header)"
   ]
  },
  {
   "cell_type": "code",
   "execution_count": null,
   "metadata": {},
   "outputs": [],
   "source": [
    "# Loop through all genre csvs to create feature graphs and calculate cvs\n",
    "cv_all = loop_thru_genres(cv_all)"
   ]
  },
  {
   "cell_type": "code",
   "execution_count": null,
   "metadata": {},
   "outputs": [],
   "source": [
    "# Write cv_genre data frame to csv\n",
    "cv_genres = 'cv_genres'\n",
    "with open(f'{cv_genres}.csv', 'w+') as cv_csv:\n",
    "    csv_writer = csv.writer(cv_csv, delimiter=',')\n",
    "    csv_writer.writerows(cv_all)"
   ]
  }
 ]
}