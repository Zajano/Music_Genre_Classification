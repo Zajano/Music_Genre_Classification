{
 "metadata": {
  "language_info": {
   "codemirror_mode": {
    "name": "ipython",
    "version": 3
   },
   "file_extension": ".py",
   "mimetype": "text/x-python",
   "name": "python",
   "nbconvert_exporter": "python",
   "pygments_lexer": "ipython3",
   "version": "3.8.7-final"
  },
  "orig_nbformat": 2,
  "kernelspec": {
   "name": "python3",
   "display_name": "Python 3.8.7 64-bit",
   "metadata": {
    "interpreter": {
     "hash": "7e85ec9bf098c5427e45e2f632dcd4eeff803b007e1abd287d600879388709c1"
    }
   }
  }
 },
 "nbformat": 4,
 "nbformat_minor": 2,
 "cells": [
  {
   "cell_type": "code",
   "execution_count": 1,
   "metadata": {},
   "outputs": [],
   "source": [
    "# Import packages and set working directory\n",
    "import os\n",
    "import glob\n",
    "import pandas as pd\n",
    "from config import genre_csvs_path\n",
    "os.chdir(genre_csvs_path)"
   ]
  },
  {
   "cell_type": "code",
   "execution_count": 2,
   "metadata": {},
   "outputs": [],
   "source": [
    "# Match the pattern ('csv') and save the list of filenames in 'all_filenames'.\n",
    "extension = 'csv'\n",
    "all_filenames = [filename for filename in glob.glob('*.{}'.format(extension))]"
   ]
  },
  {
   "cell_type": "code",
   "execution_count": null,
   "metadata": {},
   "outputs": [],
   "source": [
    "# Combine all files in the list\n",
    "all_genres_csv = pd.concat([pd.read_csv(file) for file in all_filenames])\n",
    "\n",
    "# Export to new csv\n",
    "all_genres_csv.to_csv(\"all_genres_csv.csv\", index=False, encoding='utf-8-sig')"
   ]
  }
 ]
}