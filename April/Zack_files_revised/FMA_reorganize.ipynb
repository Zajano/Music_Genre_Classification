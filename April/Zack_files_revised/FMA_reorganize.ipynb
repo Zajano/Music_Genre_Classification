{
 "metadata": {
  "language_info": {
   "codemirror_mode": {
    "name": "ipython",
    "version": 3
   },
   "file_extension": ".py",
   "mimetype": "text/x-python",
   "name": "python",
   "nbconvert_exporter": "python",
   "pygments_lexer": "ipython3",
   "version": "3.8.7-final"
  },
  "orig_nbformat": 2,
  "kernelspec": {
   "name": "python3",
   "display_name": "Python 3.8.7 64-bit",
   "metadata": {
    "interpreter": {
     "hash": "7e85ec9bf098c5427e45e2f632dcd4eeff803b007e1abd287d600879388709c1"
    }
   }
  }
 },
 "nbformat": 4,
 "nbformat_minor": 2,
 "cells": [
  {
   "source": [
    "# exploring genre and sub-genre data from the Free Music Archive"
   ],
   "cell_type": "markdown",
   "metadata": {}
  },
  {
   "cell_type": "code",
   "execution_count": 45,
   "metadata": {},
   "outputs": [],
   "source": [
    "import pandas as pd\n",
    "from pathlib import Path\n",
    "import eyed3\n",
    "import os\n",
    "from config import *\n",
    "\n",
    "eyed3.log.setLevel(\"ERROR\")"
   ]
  },
  {
   "source": [
    "### notebook functions"
   ],
   "cell_type": "markdown",
   "metadata": {}
  },
  {
   "cell_type": "code",
   "execution_count": 37,
   "metadata": {},
   "outputs": [],
   "source": [
    "def make_file_list(root_dir):\n",
    "    '''given a directory, loops through folders and files and return list of files paths\n",
    "        and file names'''\n",
    "    path_list = []\n",
    "    for subdir, dirs, files in os.walk(root_dir):\n",
    "        for file in files:\n",
    "            if file.endswith(('.mp3', '.wav')):\n",
    "                path_list.append(os.path.join(subdir, file))\n",
    "            else:\n",
    "                print('does not')\n",
    "        #path_list = [os.path.join(subdir, file) for file in files if file.endswith(('.mp3', '.wav'))]\n",
    "    return path_list\n",
    "\n",
    "def get_genre_id(genre_dict_list):\n",
    "    return genre_dict_list[0]['genre_id']\n",
    "\n",
    "def id_to_int(val):\n",
    "    return int(val)"
   ]
  },
  {
   "source": [
    "### import data from targeted directory"
   ],
   "cell_type": "markdown",
   "metadata": {}
  },
  {
   "cell_type": "code",
   "execution_count": 3,
   "metadata": {},
   "outputs": [],
   "source": [
    "metadata = a_path + \"/fma_metadata\"\n",
    "os.chdir(metadata)\n",
    "\n",
    "genres_df = pd.read_csv('genres.csv')\n",
    "tracks_df = pd.read_csv('raw_tracks.csv')"
   ]
  },
  {
   "source": [
    "### make dataframes and adjustments"
   ],
   "cell_type": "markdown",
   "metadata": {}
  },
  {
   "cell_type": "code",
   "execution_count": 4,
   "metadata": {},
   "outputs": [],
   "source": [
    "# drop rows missing the 'genre' value\n",
    "tracks_df = tracks_df[tracks_df['track_genres'].notna()]\n",
    "\n",
    "# string conversion to list of genre dictionaries\n",
    "tracks_df['track_genres'] = tracks_df['track_genres'].apply(eval)\n",
    "\n",
    "# assign primary genre classification id, then make an int\n",
    "tracks_df['genre_ids'] = tracks_df['track_genres'].apply(get_genre_id)\n",
    "\n",
    "# convert IDs to ints for comparisons\n",
    "tracks_df['genre_ids'] = tracks_df['genre_ids'].apply(id_to_int)\n",
    "tracks_df['track_id'] = tracks_df['track_id'].apply(id_to_int)"
   ]
  },
  {
   "source": [
    "### dictionaries for lookups"
   ],
   "cell_type": "markdown",
   "metadata": {}
  },
  {
   "cell_type": "code",
   "execution_count": 5,
   "metadata": {},
   "outputs": [],
   "source": [
    "# dictionaries for top-level genre lookup from ID values\n",
    "genre_lookup = genres_df.set_index('genre_id').to_dict()['title']\n",
    "id_lookup = genres_df.set_index('title').to_dict()['genre_id']\n",
    "\n",
    "# if we ever want everything under only a few genres\n",
    "# key = current genre, value = parent genre\n",
    "parent_lookup = genres_df.set_index('genre_id').to_dict()['top_level']\n",
    "\n",
    "# when a genre has no parent, it is top-level\n",
    "top_genres = genres_df[genres_df['parent'] == 0]['title'].to_list()"
   ]
  },
  {
   "cell_type": "code",
   "execution_count": 38,
   "metadata": {
    "tags": []
   },
   "outputs": [
    {
     "output_type": "stream",
     "name": "stdout",
     "text": [
      "does not\ndoes not\ndoes not\n"
     ]
    }
   ],
   "source": [
    "# get songs to count genres\n",
    "root_dir = a_path + \"/fma_small\"\n",
    "\n",
    "song_paths = make_file_list(root_dir)"
   ]
  },
  {
   "cell_type": "code",
   "execution_count": 39,
   "metadata": {
    "tags": [
     "outputPrepend"
    ]
   },
   "outputs": [
    {
     "output_type": "stream",
     "name": "stdout",
     "text": [
      "ll/069/069767.mp3', '/Users/aprilcastaneda/Dropbox/_Classes/21_Winter/CS_467/Project_Folder/fma/data/fma_small/069/069765.mp3', '/Users/aprilcastaneda/Dropbox/_Classes/21_Winter/CS_467/Project_Folder/fma/data/fma_small/069/069201.mp3', '/Users/aprilcastaneda/Dropbox/_Classes/21_Winter/CS_467/Project_Folder/fma/data/fma_small/069/069567.mp3', '/Users/aprilcastaneda/Dropbox/_Classes/21_Winter/CS_467/Project_Folder/fma/data/fma_small/069/069822.mp3', '/Users/aprilcastaneda/Dropbox/_Classes/21_Winter/CS_467/Project_Folder/fma/data/fma_small/069/069188.mp3', '/Users/aprilcastaneda/Dropbox/_Classes/21_Winter/CS_467/Project_Folder/fma/data/fma_small/069/069823.mp3', '/Users/aprilcastaneda/Dropbox/_Classes/21_Winter/CS_467/Project_Folder/fma/data/fma_small/069/069200.mp3', '/Users/aprilcastaneda/Dropbox/_Classes/21_Winter/CS_467/Project_Folder/fma/data/fma_small/069/069764.mp3', '/Users/aprilcastaneda/Dropbox/_Classes/21_Winter/CS_467/Project_Folder/fma/data/fma_small/069/069002.mp3', '/Users/aprilcastaneda/Dropbox/_Classes/21_Winter/CS_467/Project_Folder/fma/data/fma_small/069/069768.mp3', '/Users/aprilcastaneda/Dropbox/_Classes/21_Winter/CS_467/Project_Folder/fma/data/fma_small/069/069781.mp3', '/Users/aprilcastaneda/Dropbox/_Classes/21_Winter/CS_467/Project_Folder/fma/data/fma_small/069/069554.mp3', '/Users/aprilcastaneda/Dropbox/_Classes/21_Winter/CS_467/Project_Folder/fma/data/fma_small/069/069193.mp3', '/Users/aprilcastaneda/Dropbox/_Classes/21_Winter/CS_467/Project_Folder/fma/data/fma_small/069/069555.mp3', '/Users/aprilcastaneda/Dropbox/_Classes/21_Winter/CS_467/Project_Folder/fma/data/fma_small/069/069747.mp3', '/Users/aprilcastaneda/Dropbox/_Classes/21_Winter/CS_467/Project_Folder/fma/data/fma_small/069/069784.mp3', '/Users/aprilcastaneda/Dropbox/_Classes/21_Winter/CS_467/Project_Folder/fma/data/fma_small/069/069223.mp3', '/Users/aprilcastaneda/Dropbox/_Classes/21_Winter/CS_467/Project_Folder/fma/data/fma_small/069/069196.mp3', '/Users/aprilcastaneda/Dropbox/_Classes/21_Winter/CS_467/Project_Folder/fma/data/fma_small/069/069828.mp3', '/Users/aprilcastaneda/Dropbox/_Classes/21_Winter/CS_467/Project_Folder/fma/data/fma_small/069/069182.mp3', '/Users/aprilcastaneda/Dropbox/_Classes/21_Winter/CS_467/Project_Folder/fma/data/fma_small/069/069197.mp3', '/Users/aprilcastaneda/Dropbox/_Classes/21_Winter/CS_467/Project_Folder/fma/data/fma_small/069/069222.mp3', '/Users/aprilcastaneda/Dropbox/_Classes/21_Winter/CS_467/Project_Folder/fma/data/fma_small/069/069791.mp3', '/Users/aprilcastaneda/Dropbox/_Classes/21_Winter/CS_467/Project_Folder/fma/data/fma_small/069/069949.mp3', '/Users/aprilcastaneda/Dropbox/_Classes/21_Winter/CS_467/Project_Folder/fma/data/fma_small/069/069785.mp3', '/Users/aprilcastaneda/Dropbox/_Classes/21_Winter/CS_467/Project_Folder/fma/data/fma_small/069/069746.mp3', '/Users/aprilcastaneda/Dropbox/_Classes/21_Winter/CS_467/Project_Folder/fma/data/fma_small/069/069744.mp3', '/Users/aprilcastaneda/Dropbox/_Classes/21_Winter/CS_467/Project_Folder/fma/data/fma_small/069/069793.mp3', '/Users/aprilcastaneda/Dropbox/_Classes/21_Winter/CS_467/Project_Folder/fma/data/fma_small/069/069787.mp3', '/Users/aprilcastaneda/Dropbox/_Classes/21_Winter/CS_467/Project_Folder/fma/data/fma_small/069/069208.mp3', '/Users/aprilcastaneda/Dropbox/_Classes/21_Winter/CS_467/Project_Folder/fma/data/fma_small/069/069181.mp3', '/Users/aprilcastaneda/Dropbox/_Classes/21_Winter/CS_467/Project_Folder/fma/data/fma_small/069/069195.mp3', '/Users/aprilcastaneda/Dropbox/_Classes/21_Winter/CS_467/Project_Folder/fma/data/fma_small/069/069194.mp3', '/Users/aprilcastaneda/Dropbox/_Classes/21_Winter/CS_467/Project_Folder/fma/data/fma_small/069/069221.mp3', '/Users/aprilcastaneda/Dropbox/_Classes/21_Winter/CS_467/Project_Folder/fma/data/fma_small/069/069209.mp3', '/Users/aprilcastaneda/Dropbox/_Classes/21_Winter/CS_467/Project_Folder/fma/data/fma_small/069/069792.mp3', '/Users/aprilcastaneda/Dropbox/_Classes/21_Winter/CS_467/Project_Folder/fma/data/fma_small/069/069745.mp3', '/Users/aprilcastaneda/Dropbox/_Classes/21_Winter/CS_467/Project_Folder/fma/data/fma_small/069/069904.mp3', '/Users/aprilcastaneda/Dropbox/_Classes/21_Winter/CS_467/Project_Folder/fma/data/fma_small/069/069723.mp3', '/Users/aprilcastaneda/Dropbox/_Classes/21_Winter/CS_467/Project_Folder/fma/data/fma_small/069/069682.mp3', '/Users/aprilcastaneda/Dropbox/_Classes/21_Winter/CS_467/Project_Folder/fma/data/fma_small/069/069727.mp3', '/Users/aprilcastaneda/Dropbox/_Classes/21_Winter/CS_467/Project_Folder/fma/data/fma_small/069/069726.mp3', '/Users/aprilcastaneda/Dropbox/_Classes/21_Winter/CS_467/Project_Folder/fma/data/fma_small/069/069732.mp3', '/Users/aprilcastaneda/Dropbox/_Classes/21_Winter/CS_467/Project_Folder/fma/data/fma_small/051/051263.mp3', '/Users/aprilcastaneda/Dropbox/_Classes/21_Winter/CS_467/Project_Folder/fma/data/fma_small/051/051115.mp3', '/Users/aprilcastaneda/Dropbox/_Classes/21_Winter/CS_467/Project_Folder/fma/data/fma_small/051/051114.mp3', '/Users/aprilcastaneda/Dropbox/_Classes/21_Winter/CS_467/Project_Folder/fma/data/fma_small/051/051262.mp3', '/Users/aprilcastaneda/Dropbox/_Classes/21_Winter/CS_467/Project_Folder/fma/data/fma_small/051/051276.mp3', '/Users/aprilcastaneda/Dropbox/_Classes/21_Winter/CS_467/Project_Folder/fma/data/fma_small/051/051260.mp3', '/Users/aprilcastaneda/Dropbox/_Classes/21_Winter/CS_467/Project_Folder/fma/data/fma_small/051/051274.mp3', '/Users/aprilcastaneda/Dropbox/_Classes/21_Winter/CS_467/Project_Folder/fma/data/fma_small/051/051923.mp3', '/Users/aprilcastaneda/Dropbox/_Classes/21_Winter/CS_467/Project_Folder/fma/data/fma_small/051/051301.mp3', '/Users/aprilcastaneda/Dropbox/_Classes/21_Winter/CS_467/Project_Folder/fma/data/fma_small/051/051117.mp3', '/Users/aprilcastaneda/Dropbox/_Classes/21_Winter/CS_467/Project_Folder/fma/data/fma_small/051/051659.mp3', '/Users/aprilcastaneda/Dropbox/_Classes/21_Winter/CS_467/Project_Folder/fma/data/fma_small/051/051275.mp3', '/Users/aprilcastaneda/Dropbox/_Classes/21_Winter/CS_467/Project_Folder/fma/data/fma_small/051/051261.mp3', '/Users/aprilcastaneda/Dropbox/_Classes/21_Winter/CS_467/Project_Folder/fma/data/fma_small/051/051265.mp3', '/Users/aprilcastaneda/Dropbox/_Classes/21_Winter/CS_467/Project_Folder/fma/data/fma_small/051/051271.mp3', '/Users/aprilcastaneda/Dropbox/_Classes/21_Winter/CS_467/Project_Folder/fma/data/fma_small/051/051113.mp3', '/Users/aprilcastaneda/Dropbox/_Classes/21_Winter/CS_467/Project_Folder/fma/data/fma_small/051/051661.mp3', '/Users/aprilcastaneda/Dropbox/_Classes/21_Winter/CS_467/Project_Folder/fma/data/fma_small/051/051305.mp3', '/Users/aprilcastaneda/Dropbox/_Classes/21_Winter/CS_467/Project_Folder/fma/data/fma_small/051/051112.mp3', '/Users/aprilcastaneda/Dropbox/_Classes/21_Winter/CS_467/Project_Folder/fma/data/fma_small/051/051272.mp3', '/Users/aprilcastaneda/Dropbox/_Classes/21_Winter/CS_467/Project_Folder/fma/data/fma_small/051/051919.mp3', '/Users/aprilcastaneda/Dropbox/_Classes/21_Winter/CS_467/Project_Folder/fma/data/fma_small/051/051111.mp3', '/Users/aprilcastaneda/Dropbox/_Classes/21_Winter/CS_467/Project_Folder/fma/data/fma_small/051/051918.mp3', '/Users/aprilcastaneda/Dropbox/_Classes/21_Winter/CS_467/Project_Folder/fma/data/fma_small/051/051267.mp3', '/Users/aprilcastaneda/Dropbox/_Classes/21_Winter/CS_467/Project_Folder/fma/data/fma_small/051/051273.mp3', '/Users/aprilcastaneda/Dropbox/_Classes/21_Winter/CS_467/Project_Folder/fma/data/fma_small/051/051203.mp3', '/Users/aprilcastaneda/Dropbox/_Classes/21_Winter/CS_467/Project_Folder/fma/data/fma_small/051/051954.mp3', '/Users/aprilcastaneda/Dropbox/_Classes/21_Winter/CS_467/Project_Folder/fma/data/fma_small/051/051004.mp3', '/Users/aprilcastaneda/Dropbox/_Classes/21_Winter/CS_467/Project_Folder/fma/data/fma_small/051/051776.mp3', '/Users/aprilcastaneda/Dropbox/_Classes/21_Winter/CS_467/Project_Folder/fma/data/fma_small/051/051992.mp3', '/Users/aprilcastaneda/Dropbox/_Classes/21_Winter/CS_467/Project_Folder/fma/data/fma_small/051/051158.mp3', '/Users/aprilcastaneda/Dropbox/_Classes/21_Winter/CS_467/Project_Folder/fma/data/fma_small/051/051005.mp3', '/Users/aprilcastaneda/Dropbox/_Classes/21_Winter/CS_467/Project_Folder/fma/data/fma_small/051/051991.mp3', '/Users/aprilcastaneda/Dropbox/_Classes/21_Winter/CS_467/Project_Folder/fma/data/fma_small/051/051006.mp3', '/Users/aprilcastaneda/Dropbox/_Classes/21_Winter/CS_467/Project_Folder/fma/data/fma_small/051/051157.mp3', '/Users/aprilcastaneda/Dropbox/_Classes/21_Winter/CS_467/Project_Folder/fma/data/fma_small/051/051785.mp3', '/Users/aprilcastaneda/Dropbox/_Classes/21_Winter/CS_467/Project_Folder/fma/data/fma_small/051/051784.mp3', '/Users/aprilcastaneda/Dropbox/_Classes/21_Winter/CS_467/Project_Folder/fma/data/fma_small/051/051998.mp3', '/Users/aprilcastaneda/Dropbox/_Classes/21_Winter/CS_467/Project_Folder/fma/data/fma_small/051/051999.mp3', '/Users/aprilcastaneda/Dropbox/_Classes/21_Winter/CS_467/Project_Folder/fma/data/fma_small/051/051120.mp3', '/Users/aprilcastaneda/Dropbox/_Classes/21_Winter/CS_467/Project_Folder/fma/data/fma_small/051/051479.mp3', '/Users/aprilcastaneda/Dropbox/_Classes/21_Winter/CS_467/Project_Folder/fma/data/fma_small/051/051269.mp3', '/Users/aprilcastaneda/Dropbox/_Classes/21_Winter/CS_467/Project_Folder/fma/data/fma_small/051/051268.mp3', '/Users/aprilcastaneda/Dropbox/_Classes/21_Winter/CS_467/Project_Folder/fma/data/fma_small/051/051278.mp3', '/Users/aprilcastaneda/Dropbox/_Classes/21_Winter/CS_467/Project_Folder/fma/data/fma_small/051/051655.mp3', '/Users/aprilcastaneda/Dropbox/_Classes/21_Winter/CS_467/Project_Folder/fma/data/fma_small/051/051292.mp3', '/Users/aprilcastaneda/Dropbox/_Classes/21_Winter/CS_467/Project_Folder/fma/data/fma_small/051/051333.mp3', '/Users/aprilcastaneda/Dropbox/_Classes/21_Winter/CS_467/Project_Folder/fma/data/fma_small/051/051118.mp3', '/Users/aprilcastaneda/Dropbox/_Classes/21_Winter/CS_467/Project_Folder/fma/data/fma_small/051/051291.mp3', '/Users/aprilcastaneda/Dropbox/_Classes/21_Winter/CS_467/Project_Folder/fma/data/fma_small/067/067470.mp3', '/Users/aprilcastaneda/Dropbox/_Classes/21_Winter/CS_467/Project_Folder/fma/data/fma_small/067/067673.mp3', '/Users/aprilcastaneda/Dropbox/_Classes/21_Winter/CS_467/Project_Folder/fma/data/fma_small/067/067707.mp3', '/Users/aprilcastaneda/Dropbox/_Classes/21_Winter/CS_467/Project_Folder/fma/data/fma_small/067/067660.mp3', '/Users/aprilcastaneda/Dropbox/_Classes/21_Winter/CS_467/Project_Folder/fma/data/fma_small/067/067661.mp3', '/Users/aprilcastaneda/Dropbox/_Classes/21_Winter/CS_467/Project_Folder/fma/data/fma_small/067/067500.mp3', '/Users/aprilcastaneda/Dropbox/_Classes/21_Winter/CS_467/Project_Folder/fma/data/fma_small/067/067765.mp3', '/Users/aprilcastaneda/Dropbox/_Classes/21_Winter/CS_467/Project_Folder/fma/data/fma_small/067/067017.mp3', '/Users/aprilcastaneda/Dropbox/_Classes/21_Winter/CS_467/Project_Folder/fma/data/fma_small/067/067598.mp3', '/Users/aprilcastaneda/Dropbox/_Classes/21_Winter/CS_467/Project_Folder/fma/data/fma_small/067/067361.mp3', '/Users/aprilcastaneda/Dropbox/_Classes/21_Winter/CS_467/Project_Folder/fma/data/fma_small/067/067639.mp3', '/Users/aprilcastaneda/Dropbox/_Classes/21_Winter/CS_467/Project_Folder/fma/data/fma_small/067/067163.mp3', '/Users/aprilcastaneda/Dropbox/_Classes/21_Winter/CS_467/Project_Folder/fma/data/fma_small/067/067638.mp3', '/Users/aprilcastaneda/Dropbox/_Classes/21_Winter/CS_467/Project_Folder/fma/data/fma_small/067/067360.mp3', '/Users/aprilcastaneda/Dropbox/_Classes/21_Winter/CS_467/Project_Folder/fma/data/fma_small/067/067412.mp3', '/Users/aprilcastaneda/Dropbox/_Classes/21_Winter/CS_467/Project_Folder/fma/data/fma_small/067/067016.mp3', '/Users/aprilcastaneda/Dropbox/_Classes/21_Winter/CS_467/Project_Folder/fma/data/fma_small/067/067764.mp3', '/Users/aprilcastaneda/Dropbox/_Classes/21_Winter/CS_467/Project_Folder/fma/data/fma_small/067/067766.mp3', '/Users/aprilcastaneda/Dropbox/_Classes/21_Winter/CS_467/Project_Folder/fma/data/fma_small/067/067558.mp3', '/Users/aprilcastaneda/Dropbox/_Classes/21_Winter/CS_467/Project_Folder/fma/data/fma_small/067/067362.mp3', '/Users/aprilcastaneda/Dropbox/_Classes/21_Winter/CS_467/Project_Folder/fma/data/fma_small/067/067363.mp3', '/Users/aprilcastaneda/Dropbox/_Classes/21_Winter/CS_467/Project_Folder/fma/data/fma_small/067/067011.mp3', '/Users/aprilcastaneda/Dropbox/_Classes/21_Winter/CS_467/Project_Folder/fma/data/fma_small/067/067763.mp3', '/Users/aprilcastaneda/Dropbox/_Classes/21_Winter/CS_467/Project_Folder/fma/data/fma_small/067/067367.mp3', '/Users/aprilcastaneda/Dropbox/_Classes/21_Winter/CS_467/Project_Folder/fma/data/fma_small/067/067366.mp3', '/Users/aprilcastaneda/Dropbox/_Classes/21_Winter/CS_467/Project_Folder/fma/data/fma_small/067/067010.mp3', '/Users/aprilcastaneda/Dropbox/_Classes/21_Winter/CS_467/Project_Folder/fma/data/fma_small/067/067760.mp3', '/Users/aprilcastaneda/Dropbox/_Classes/21_Winter/CS_467/Project_Folder/fma/data/fma_small/067/067364.mp3', '/Users/aprilcastaneda/Dropbox/_Classes/21_Winter/CS_467/Project_Folder/fma/data/fma_small/067/067358.mp3', '/Users/aprilcastaneda/Dropbox/_Classes/21_Winter/CS_467/Project_Folder/fma/data/fma_small/067/067600.mp3', '/Users/aprilcastaneda/Dropbox/_Classes/21_Winter/CS_467/Project_Folder/fma/data/fma_small/067/067359.mp3', '/Users/aprilcastaneda/Dropbox/_Classes/21_Winter/CS_467/Project_Folder/fma/data/fma_small/067/067365.mp3', '/Users/aprilcastaneda/Dropbox/_Classes/21_Winter/CS_467/Project_Folder/fma/data/fma_small/067/067007.mp3', '/Users/aprilcastaneda/Dropbox/_Classes/21_Winter/CS_467/Project_Folder/fma/data/fma_small/067/067793.mp3', '/Users/aprilcastaneda/Dropbox/_Classes/21_Winter/CS_467/Project_Folder/fma/data/fma_small/067/067368.mp3', '/Users/aprilcastaneda/Dropbox/_Classes/21_Winter/CS_467/Project_Folder/fma/data/fma_small/067/067553.mp3', '/Users/aprilcastaneda/Dropbox/_Classes/21_Winter/CS_467/Project_Folder/fma/data/fma_small/067/067235.mp3', '/Users/aprilcastaneda/Dropbox/_Classes/21_Winter/CS_467/Project_Folder/fma/data/fma_small/067/067784.mp3', '/Users/aprilcastaneda/Dropbox/_Classes/21_Winter/CS_467/Project_Folder/fma/data/fma_small/067/067237.mp3', '/Users/aprilcastaneda/Dropbox/_Classes/21_Winter/CS_467/Project_Folder/fma/data/fma_small/067/067357.mp3', '/Users/aprilcastaneda/Dropbox/_Classes/21_Winter/CS_467/Project_Folder/fma/data/fma_small/067/067829.mp3', '/Users/aprilcastaneda/Dropbox/_Classes/21_Winter/CS_467/Project_Folder/fma/data/fma_small/067/067232.mp3', '/Users/aprilcastaneda/Dropbox/_Classes/21_Winter/CS_467/Project_Folder/fma/data/fma_small/067/067597.mp3', '/Users/aprilcastaneda/Dropbox/_Classes/21_Winter/CS_467/Project_Folder/fma/data/fma_small/067/067637.mp3', '/Users/aprilcastaneda/Dropbox/_Classes/21_Winter/CS_467/Project_Folder/fma/data/fma_small/067/067233.mp3', '/Users/aprilcastaneda/Dropbox/_Classes/21_Winter/CS_467/Project_Folder/fma/data/fma_small/067/067557.mp3', '/Users/aprilcastaneda/Dropbox/_Classes/21_Winter/CS_467/Project_Folder/fma/data/fma_small/067/067556.mp3', '/Users/aprilcastaneda/Dropbox/_Classes/21_Winter/CS_467/Project_Folder/fma/data/fma_small/067/067121.mp3', '/Users/aprilcastaneda/Dropbox/_Classes/21_Winter/CS_467/Project_Folder/fma/data/fma_small/067/067336.mp3', '/Users/aprilcastaneda/Dropbox/_Classes/21_Winter/CS_467/Project_Folder/fma/data/fma_small/067/067308.mp3', '/Users/aprilcastaneda/Dropbox/_Classes/21_Winter/CS_467/Project_Folder/fma/data/fma_small/067/067334.mp3', '/Users/aprilcastaneda/Dropbox/_Classes/21_Winter/CS_467/Project_Folder/fma/data/fma_small/067/067457.mp3', '/Users/aprilcastaneda/Dropbox/_Classes/21_Winter/CS_467/Project_Folder/fma/data/fma_small/067/067331.mp3', '/Users/aprilcastaneda/Dropbox/_Classes/21_Winter/CS_467/Project_Folder/fma/data/fma_small/067/067640.mp3', '/Users/aprilcastaneda/Dropbox/_Classes/21_Winter/CS_467/Project_Folder/fma/data/fma_small/067/067330.mp3', '/Users/aprilcastaneda/Dropbox/_Classes/21_Winter/CS_467/Project_Folder/fma/data/fma_small/067/067332.mp3', '/Users/aprilcastaneda/Dropbox/_Classes/21_Winter/CS_467/Project_Folder/fma/data/fma_small/067/067333.mp3', '/Users/aprilcastaneda/Dropbox/_Classes/21_Winter/CS_467/Project_Folder/fma/data/fma_small/058/058333.mp3', '/Users/aprilcastaneda/Dropbox/_Classes/21_Winter/CS_467/Project_Folder/fma/data/fma_small/058/058052.mp3', '/Users/aprilcastaneda/Dropbox/_Classes/21_Winter/CS_467/Project_Folder/fma/data/fma_small/058/058053.mp3', '/Users/aprilcastaneda/Dropbox/_Classes/21_Winter/CS_467/Project_Folder/fma/data/fma_small/058/058334.mp3', '/Users/aprilcastaneda/Dropbox/_Classes/21_Winter/CS_467/Project_Folder/fma/data/fma_small/058/058054.mp3', '/Users/aprilcastaneda/Dropbox/_Classes/21_Winter/CS_467/Project_Folder/fma/data/fma_small/058/058068.mp3', '/Users/aprilcastaneda/Dropbox/_Classes/21_Winter/CS_467/Project_Folder/fma/data/fma_small/058/058135.mp3', '/Users/aprilcastaneda/Dropbox/_Classes/21_Winter/CS_467/Project_Folder/fma/data/fma_small/058/058542.mp3', '/Users/aprilcastaneda/Dropbox/_Classes/21_Winter/CS_467/Project_Folder/fma/data/fma_small/058/058225.mp3', '/Users/aprilcastaneda/Dropbox/_Classes/21_Winter/CS_467/Project_Folder/fma/data/fma_small/058/058543.mp3', '/Users/aprilcastaneda/Dropbox/_Classes/21_Winter/CS_467/Project_Folder/fma/data/fma_small/058/058541.mp3', '/Users/aprilcastaneda/Dropbox/_Classes/21_Winter/CS_467/Project_Folder/fma/data/fma_small/058/058540.mp3', '/Users/aprilcastaneda/Dropbox/_Classes/21_Winter/CS_467/Project_Folder/fma/data/fma_small/058/058140.mp3', '/Users/aprilcastaneda/Dropbox/_Classes/21_Winter/CS_467/Project_Folder/fma/data/fma_small/058/058169.mp3', '/Users/aprilcastaneda/Dropbox/_Classes/21_Winter/CS_467/Project_Folder/fma/data/fma_small/058/058221.mp3', '/Users/aprilcastaneda/Dropbox/_Classes/21_Winter/CS_467/Project_Folder/fma/data/fma_small/058/058341.mp3', '/Users/aprilcastaneda/Dropbox/_Classes/21_Winter/CS_467/Project_Folder/fma/data/fma_small/058/058173.mp3', '/Users/aprilcastaneda/Dropbox/_Classes/21_Winter/CS_467/Project_Folder/fma/data/fma_small/058/058166.mp3', '/Users/aprilcastaneda/Dropbox/_Classes/21_Winter/CS_467/Project_Folder/fma/data/fma_small/058/058212.mp3', '/Users/aprilcastaneda/Dropbox/_Classes/21_Winter/CS_467/Project_Folder/fma/data/fma_small/058/058170.mp3', '/Users/aprilcastaneda/Dropbox/_Classes/21_Winter/CS_467/Project_Folder/fma/data/fma_small/058/058164.mp3', '/Users/aprilcastaneda/Dropbox/_Classes/21_Winter/CS_467/Project_Folder/fma/data/fma_small/058/058213.mp3', '/Users/aprilcastaneda/Dropbox/_Classes/21_Winter/CS_467/Project_Folder/fma/data/fma_small/058/058207.mp3', '/Users/aprilcastaneda/Dropbox/_Classes/21_Winter/CS_467/Project_Folder/fma/data/fma_small/058/058161.mp3', '/Users/aprilcastaneda/Dropbox/_Classes/21_Winter/CS_467/Project_Folder/fma/data/fma_small/058/058174.mp3', '/Users/aprilcastaneda/Dropbox/_Classes/21_Winter/CS_467/Project_Folder/fma/data/fma_small/058/058162.mp3', '/Users/aprilcastaneda/Dropbox/_Classes/21_Winter/CS_467/Project_Folder/fma/data/fma_small/058/058215.mp3', '/Users/aprilcastaneda/Dropbox/_Classes/21_Winter/CS_467/Project_Folder/fma/data/fma_small/058/058070.mp3', '/Users/aprilcastaneda/Dropbox/_Classes/21_Winter/CS_467/Project_Folder/fma/data/fma_small/058/058474.mp3', '/Users/aprilcastaneda/Dropbox/_Classes/21_Winter/CS_467/Project_Folder/fma/data/fma_small/058/058116.mp3', '/Users/aprilcastaneda/Dropbox/_Classes/21_Winter/CS_467/Project_Folder/fma/data/fma_small/058/058117.mp3', '/Users/aprilcastaneda/Dropbox/_Classes/21_Winter/CS_467/Project_Folder/fma/data/fma_small/058/058063.mp3', '/Users/aprilcastaneda/Dropbox/_Classes/21_Winter/CS_467/Project_Folder/fma/data/fma_small/058/058539.mp3', '/Users/aprilcastaneda/Dropbox/_Classes/21_Winter/CS_467/Project_Folder/fma/data/fma_small/058/058061.mp3', '/Users/aprilcastaneda/Dropbox/_Classes/21_Winter/CS_467/Project_Folder/fma/data/fma_small/058/058115.mp3', '/Users/aprilcastaneda/Dropbox/_Classes/21_Winter/CS_467/Project_Folder/fma/data/fma_small/058/058060.mp3']\n"
     ]
    }
   ],
   "source": [
    "print(root_dir)\n",
    "print(song_paths)"
   ]
  },
  {
   "cell_type": "code",
   "execution_count": null,
   "metadata": {},
   "outputs": [],
   "source": []
  },
  {
   "source": [
    "### create directories to sort music files into"
   ],
   "cell_type": "markdown",
   "metadata": {}
  },
  {
   "cell_type": "code",
   "execution_count": 40,
   "metadata": {},
   "outputs": [
    {
     "output_type": "stream",
     "name": "stdout",
     "text": [
      "/Users/aprilcastaneda/Dropbox/_Classes/21_Winter/CS_467/Project_Folder/fma/data/genres\n"
     ]
    }
   ],
   "source": [
    "# genre parent directory\n",
    "gp_dir = a_path + \"/genres\"\n",
    "print(gp_dir)"
   ]
  },
  {
   "cell_type": "code",
   "execution_count": 41,
   "metadata": {},
   "outputs": [],
   "source": [
    "try:\n",
    "    Path(gp_dir).mkdir(mode=0o777, parents=False, exist_ok=True)\n",
    "except ValueError:\n",
    "    print('did not make genre dir')"
   ]
  },
  {
   "cell_type": "code",
   "execution_count": 43,
   "metadata": {},
   "outputs": [],
   "source": [
    "# create directories\n",
    "for genre in top_genres:\n",
    "    if \"/\" in genre:\n",
    "        genre = genre.replace('/', '&')\n",
    "    genre_dir = gp_dir + \"/\" + genre\n",
    "    # print(genre_dir)\n",
    "    Path(genre_dir).mkdir(mode=0o777, parents=False, exist_ok=True)"
   ]
  },
  {
   "cell_type": "code",
   "execution_count": 44,
   "metadata": {
    "tags": [
     "outputPrepend"
    ]
   },
   "outputs": [
    {
     "output_type": "stream",
     "name": "stdout",
     "text": [
      "box/_Classes/21_Winter/CS_467/Project_Folder/fma/data/genres/Folk/051333.mp3\n",
      "/Users/aprilcastaneda/Dropbox/_Classes/21_Winter/CS_467/Project_Folder/fma/data/fma_small/051/051118.mp3 /Users/aprilcastaneda/Dropbox/_Classes/21_Winter/CS_467/Project_Folder/fma/data/genres/Experimental/051118.mp3\n",
      "/Users/aprilcastaneda/Dropbox/_Classes/21_Winter/CS_467/Project_Folder/fma/data/fma_small/051/051291.mp3 /Users/aprilcastaneda/Dropbox/_Classes/21_Winter/CS_467/Project_Folder/fma/data/genres/Pop/051291.mp3\n",
      "/Users/aprilcastaneda/Dropbox/_Classes/21_Winter/CS_467/Project_Folder/fma/data/fma_small/067/067470.mp3 /Users/aprilcastaneda/Dropbox/_Classes/21_Winter/CS_467/Project_Folder/fma/data/genres/Electronic/067470.mp3\n",
      "/Users/aprilcastaneda/Dropbox/_Classes/21_Winter/CS_467/Project_Folder/fma/data/fma_small/067/067673.mp3 /Users/aprilcastaneda/Dropbox/_Classes/21_Winter/CS_467/Project_Folder/fma/data/genres/Rock/067673.mp3\n",
      "/Users/aprilcastaneda/Dropbox/_Classes/21_Winter/CS_467/Project_Folder/fma/data/fma_small/067/067707.mp3 /Users/aprilcastaneda/Dropbox/_Classes/21_Winter/CS_467/Project_Folder/fma/data/genres/Experimental/067707.mp3\n",
      "/Users/aprilcastaneda/Dropbox/_Classes/21_Winter/CS_467/Project_Folder/fma/data/fma_small/067/067660.mp3 /Users/aprilcastaneda/Dropbox/_Classes/21_Winter/CS_467/Project_Folder/fma/data/genres/Rock/067660.mp3\n",
      "/Users/aprilcastaneda/Dropbox/_Classes/21_Winter/CS_467/Project_Folder/fma/data/fma_small/067/067661.mp3 /Users/aprilcastaneda/Dropbox/_Classes/21_Winter/CS_467/Project_Folder/fma/data/genres/Rock/067661.mp3\n",
      "/Users/aprilcastaneda/Dropbox/_Classes/21_Winter/CS_467/Project_Folder/fma/data/fma_small/067/067500.mp3 /Users/aprilcastaneda/Dropbox/_Classes/21_Winter/CS_467/Project_Folder/fma/data/genres/Experimental/067500.mp3\n",
      "/Users/aprilcastaneda/Dropbox/_Classes/21_Winter/CS_467/Project_Folder/fma/data/fma_small/067/067765.mp3 /Users/aprilcastaneda/Dropbox/_Classes/21_Winter/CS_467/Project_Folder/fma/data/genres/Folk/067765.mp3\n",
      "/Users/aprilcastaneda/Dropbox/_Classes/21_Winter/CS_467/Project_Folder/fma/data/fma_small/067/067017.mp3 /Users/aprilcastaneda/Dropbox/_Classes/21_Winter/CS_467/Project_Folder/fma/data/genres/Folk/067017.mp3\n",
      "/Users/aprilcastaneda/Dropbox/_Classes/21_Winter/CS_467/Project_Folder/fma/data/fma_small/067/067598.mp3 /Users/aprilcastaneda/Dropbox/_Classes/21_Winter/CS_467/Project_Folder/fma/data/genres/Folk/067598.mp3\n",
      "/Users/aprilcastaneda/Dropbox/_Classes/21_Winter/CS_467/Project_Folder/fma/data/fma_small/067/067361.mp3 /Users/aprilcastaneda/Dropbox/_Classes/21_Winter/CS_467/Project_Folder/fma/data/genres/Pop/067361.mp3\n",
      "/Users/aprilcastaneda/Dropbox/_Classes/21_Winter/CS_467/Project_Folder/fma/data/fma_small/067/067639.mp3 /Users/aprilcastaneda/Dropbox/_Classes/21_Winter/CS_467/Project_Folder/fma/data/genres/Electronic/067639.mp3\n",
      "/Users/aprilcastaneda/Dropbox/_Classes/21_Winter/CS_467/Project_Folder/fma/data/fma_small/067/067163.mp3 /Users/aprilcastaneda/Dropbox/_Classes/21_Winter/CS_467/Project_Folder/fma/data/genres/Rock/067163.mp3\n",
      "/Users/aprilcastaneda/Dropbox/_Classes/21_Winter/CS_467/Project_Folder/fma/data/fma_small/067/067638.mp3 /Users/aprilcastaneda/Dropbox/_Classes/21_Winter/CS_467/Project_Folder/fma/data/genres/Electronic/067638.mp3\n",
      "/Users/aprilcastaneda/Dropbox/_Classes/21_Winter/CS_467/Project_Folder/fma/data/fma_small/067/067360.mp3 /Users/aprilcastaneda/Dropbox/_Classes/21_Winter/CS_467/Project_Folder/fma/data/genres/Pop/067360.mp3\n",
      "/Users/aprilcastaneda/Dropbox/_Classes/21_Winter/CS_467/Project_Folder/fma/data/fma_small/067/067412.mp3 /Users/aprilcastaneda/Dropbox/_Classes/21_Winter/CS_467/Project_Folder/fma/data/genres/Rock/067412.mp3\n",
      "/Users/aprilcastaneda/Dropbox/_Classes/21_Winter/CS_467/Project_Folder/fma/data/fma_small/067/067016.mp3 /Users/aprilcastaneda/Dropbox/_Classes/21_Winter/CS_467/Project_Folder/fma/data/genres/Folk/067016.mp3\n",
      "/Users/aprilcastaneda/Dropbox/_Classes/21_Winter/CS_467/Project_Folder/fma/data/fma_small/067/067764.mp3 /Users/aprilcastaneda/Dropbox/_Classes/21_Winter/CS_467/Project_Folder/fma/data/genres/Folk/067764.mp3\n",
      "/Users/aprilcastaneda/Dropbox/_Classes/21_Winter/CS_467/Project_Folder/fma/data/fma_small/067/067766.mp3 /Users/aprilcastaneda/Dropbox/_Classes/21_Winter/CS_467/Project_Folder/fma/data/genres/Folk/067766.mp3\n",
      "/Users/aprilcastaneda/Dropbox/_Classes/21_Winter/CS_467/Project_Folder/fma/data/fma_small/067/067558.mp3 /Users/aprilcastaneda/Dropbox/_Classes/21_Winter/CS_467/Project_Folder/fma/data/genres/Rock/067558.mp3\n",
      "/Users/aprilcastaneda/Dropbox/_Classes/21_Winter/CS_467/Project_Folder/fma/data/fma_small/067/067362.mp3 /Users/aprilcastaneda/Dropbox/_Classes/21_Winter/CS_467/Project_Folder/fma/data/genres/Pop/067362.mp3\n",
      "/Users/aprilcastaneda/Dropbox/_Classes/21_Winter/CS_467/Project_Folder/fma/data/fma_small/067/067363.mp3 /Users/aprilcastaneda/Dropbox/_Classes/21_Winter/CS_467/Project_Folder/fma/data/genres/Pop/067363.mp3\n",
      "/Users/aprilcastaneda/Dropbox/_Classes/21_Winter/CS_467/Project_Folder/fma/data/fma_small/067/067011.mp3 /Users/aprilcastaneda/Dropbox/_Classes/21_Winter/CS_467/Project_Folder/fma/data/genres/Folk/067011.mp3\n",
      "/Users/aprilcastaneda/Dropbox/_Classes/21_Winter/CS_467/Project_Folder/fma/data/fma_small/067/067763.mp3 /Users/aprilcastaneda/Dropbox/_Classes/21_Winter/CS_467/Project_Folder/fma/data/genres/Folk/067763.mp3\n",
      "/Users/aprilcastaneda/Dropbox/_Classes/21_Winter/CS_467/Project_Folder/fma/data/fma_small/067/067367.mp3 /Users/aprilcastaneda/Dropbox/_Classes/21_Winter/CS_467/Project_Folder/fma/data/genres/Pop/067367.mp3\n",
      "/Users/aprilcastaneda/Dropbox/_Classes/21_Winter/CS_467/Project_Folder/fma/data/fma_small/067/067366.mp3 /Users/aprilcastaneda/Dropbox/_Classes/21_Winter/CS_467/Project_Folder/fma/data/genres/Pop/067366.mp3\n",
      "/Users/aprilcastaneda/Dropbox/_Classes/21_Winter/CS_467/Project_Folder/fma/data/fma_small/067/067010.mp3 /Users/aprilcastaneda/Dropbox/_Classes/21_Winter/CS_467/Project_Folder/fma/data/genres/Pop/067010.mp3\n",
      "/Users/aprilcastaneda/Dropbox/_Classes/21_Winter/CS_467/Project_Folder/fma/data/fma_small/067/067760.mp3 /Users/aprilcastaneda/Dropbox/_Classes/21_Winter/CS_467/Project_Folder/fma/data/genres/Pop/067760.mp3\n",
      "/Users/aprilcastaneda/Dropbox/_Classes/21_Winter/CS_467/Project_Folder/fma/data/fma_small/067/067364.mp3 /Users/aprilcastaneda/Dropbox/_Classes/21_Winter/CS_467/Project_Folder/fma/data/genres/Pop/067364.mp3\n",
      "/Users/aprilcastaneda/Dropbox/_Classes/21_Winter/CS_467/Project_Folder/fma/data/fma_small/067/067358.mp3 /Users/aprilcastaneda/Dropbox/_Classes/21_Winter/CS_467/Project_Folder/fma/data/genres/Pop/067358.mp3\n",
      "/Users/aprilcastaneda/Dropbox/_Classes/21_Winter/CS_467/Project_Folder/fma/data/fma_small/067/067600.mp3 /Users/aprilcastaneda/Dropbox/_Classes/21_Winter/CS_467/Project_Folder/fma/data/genres/Folk/067600.mp3\n",
      "/Users/aprilcastaneda/Dropbox/_Classes/21_Winter/CS_467/Project_Folder/fma/data/fma_small/067/067359.mp3 /Users/aprilcastaneda/Dropbox/_Classes/21_Winter/CS_467/Project_Folder/fma/data/genres/Pop/067359.mp3\n",
      "/Users/aprilcastaneda/Dropbox/_Classes/21_Winter/CS_467/Project_Folder/fma/data/fma_small/067/067365.mp3 /Users/aprilcastaneda/Dropbox/_Classes/21_Winter/CS_467/Project_Folder/fma/data/genres/Pop/067365.mp3\n",
      "/Users/aprilcastaneda/Dropbox/_Classes/21_Winter/CS_467/Project_Folder/fma/data/fma_small/067/067007.mp3 /Users/aprilcastaneda/Dropbox/_Classes/21_Winter/CS_467/Project_Folder/fma/data/genres/Pop/067007.mp3\n",
      "/Users/aprilcastaneda/Dropbox/_Classes/21_Winter/CS_467/Project_Folder/fma/data/fma_small/067/067793.mp3 /Users/aprilcastaneda/Dropbox/_Classes/21_Winter/CS_467/Project_Folder/fma/data/genres/Hip-Hop/067793.mp3\n",
      "/Users/aprilcastaneda/Dropbox/_Classes/21_Winter/CS_467/Project_Folder/fma/data/fma_small/067/067368.mp3 /Users/aprilcastaneda/Dropbox/_Classes/21_Winter/CS_467/Project_Folder/fma/data/genres/Pop/067368.mp3\n",
      "/Users/aprilcastaneda/Dropbox/_Classes/21_Winter/CS_467/Project_Folder/fma/data/fma_small/067/067553.mp3 /Users/aprilcastaneda/Dropbox/_Classes/21_Winter/CS_467/Project_Folder/fma/data/genres/Electronic/067553.mp3\n",
      "/Users/aprilcastaneda/Dropbox/_Classes/21_Winter/CS_467/Project_Folder/fma/data/fma_small/067/067235.mp3 /Users/aprilcastaneda/Dropbox/_Classes/21_Winter/CS_467/Project_Folder/fma/data/genres/Hip-Hop/067235.mp3\n",
      "/Users/aprilcastaneda/Dropbox/_Classes/21_Winter/CS_467/Project_Folder/fma/data/fma_small/067/067784.mp3 /Users/aprilcastaneda/Dropbox/_Classes/21_Winter/CS_467/Project_Folder/fma/data/genres/Hip-Hop/067784.mp3\n",
      "/Users/aprilcastaneda/Dropbox/_Classes/21_Winter/CS_467/Project_Folder/fma/data/fma_small/067/067237.mp3 /Users/aprilcastaneda/Dropbox/_Classes/21_Winter/CS_467/Project_Folder/fma/data/genres/Rock/067237.mp3\n",
      "/Users/aprilcastaneda/Dropbox/_Classes/21_Winter/CS_467/Project_Folder/fma/data/fma_small/067/067357.mp3 /Users/aprilcastaneda/Dropbox/_Classes/21_Winter/CS_467/Project_Folder/fma/data/genres/Pop/067357.mp3\n",
      "/Users/aprilcastaneda/Dropbox/_Classes/21_Winter/CS_467/Project_Folder/fma/data/fma_small/067/067829.mp3 /Users/aprilcastaneda/Dropbox/_Classes/21_Winter/CS_467/Project_Folder/fma/data/genres/Experimental/067829.mp3\n",
      "/Users/aprilcastaneda/Dropbox/_Classes/21_Winter/CS_467/Project_Folder/fma/data/fma_small/067/067232.mp3 /Users/aprilcastaneda/Dropbox/_Classes/21_Winter/CS_467/Project_Folder/fma/data/genres/Hip-Hop/067232.mp3\n",
      "/Users/aprilcastaneda/Dropbox/_Classes/21_Winter/CS_467/Project_Folder/fma/data/fma_small/067/067597.mp3 /Users/aprilcastaneda/Dropbox/_Classes/21_Winter/CS_467/Project_Folder/fma/data/genres/Folk/067597.mp3\n",
      "/Users/aprilcastaneda/Dropbox/_Classes/21_Winter/CS_467/Project_Folder/fma/data/fma_small/067/067637.mp3 /Users/aprilcastaneda/Dropbox/_Classes/21_Winter/CS_467/Project_Folder/fma/data/genres/Electronic/067637.mp3\n",
      "/Users/aprilcastaneda/Dropbox/_Classes/21_Winter/CS_467/Project_Folder/fma/data/fma_small/067/067233.mp3 /Users/aprilcastaneda/Dropbox/_Classes/21_Winter/CS_467/Project_Folder/fma/data/genres/Hip-Hop/067233.mp3\n",
      "/Users/aprilcastaneda/Dropbox/_Classes/21_Winter/CS_467/Project_Folder/fma/data/fma_small/067/067557.mp3 /Users/aprilcastaneda/Dropbox/_Classes/21_Winter/CS_467/Project_Folder/fma/data/genres/Rock/067557.mp3\n",
      "/Users/aprilcastaneda/Dropbox/_Classes/21_Winter/CS_467/Project_Folder/fma/data/fma_small/067/067556.mp3 /Users/aprilcastaneda/Dropbox/_Classes/21_Winter/CS_467/Project_Folder/fma/data/genres/Rock/067556.mp3\n",
      "/Users/aprilcastaneda/Dropbox/_Classes/21_Winter/CS_467/Project_Folder/fma/data/fma_small/067/067121.mp3 /Users/aprilcastaneda/Dropbox/_Classes/21_Winter/CS_467/Project_Folder/fma/data/genres/Rock/067121.mp3\n",
      "/Users/aprilcastaneda/Dropbox/_Classes/21_Winter/CS_467/Project_Folder/fma/data/fma_small/067/067336.mp3 /Users/aprilcastaneda/Dropbox/_Classes/21_Winter/CS_467/Project_Folder/fma/data/genres/Pop/067336.mp3\n",
      "/Users/aprilcastaneda/Dropbox/_Classes/21_Winter/CS_467/Project_Folder/fma/data/fma_small/067/067308.mp3 /Users/aprilcastaneda/Dropbox/_Classes/21_Winter/CS_467/Project_Folder/fma/data/genres/Electronic/067308.mp3\n",
      "/Users/aprilcastaneda/Dropbox/_Classes/21_Winter/CS_467/Project_Folder/fma/data/fma_small/067/067334.mp3 /Users/aprilcastaneda/Dropbox/_Classes/21_Winter/CS_467/Project_Folder/fma/data/genres/Pop/067334.mp3\n",
      "/Users/aprilcastaneda/Dropbox/_Classes/21_Winter/CS_467/Project_Folder/fma/data/fma_small/067/067457.mp3 /Users/aprilcastaneda/Dropbox/_Classes/21_Winter/CS_467/Project_Folder/fma/data/genres/Experimental/067457.mp3\n",
      "/Users/aprilcastaneda/Dropbox/_Classes/21_Winter/CS_467/Project_Folder/fma/data/fma_small/067/067331.mp3 /Users/aprilcastaneda/Dropbox/_Classes/21_Winter/CS_467/Project_Folder/fma/data/genres/Pop/067331.mp3\n",
      "/Users/aprilcastaneda/Dropbox/_Classes/21_Winter/CS_467/Project_Folder/fma/data/fma_small/067/067640.mp3 /Users/aprilcastaneda/Dropbox/_Classes/21_Winter/CS_467/Project_Folder/fma/data/genres/Electronic/067640.mp3\n",
      "/Users/aprilcastaneda/Dropbox/_Classes/21_Winter/CS_467/Project_Folder/fma/data/fma_small/067/067330.mp3 /Users/aprilcastaneda/Dropbox/_Classes/21_Winter/CS_467/Project_Folder/fma/data/genres/Pop/067330.mp3\n",
      "/Users/aprilcastaneda/Dropbox/_Classes/21_Winter/CS_467/Project_Folder/fma/data/fma_small/067/067332.mp3 /Users/aprilcastaneda/Dropbox/_Classes/21_Winter/CS_467/Project_Folder/fma/data/genres/Pop/067332.mp3\n",
      "/Users/aprilcastaneda/Dropbox/_Classes/21_Winter/CS_467/Project_Folder/fma/data/fma_small/067/067333.mp3 /Users/aprilcastaneda/Dropbox/_Classes/21_Winter/CS_467/Project_Folder/fma/data/genres/Pop/067333.mp3\n",
      "/Users/aprilcastaneda/Dropbox/_Classes/21_Winter/CS_467/Project_Folder/fma/data/fma_small/058/058333.mp3 /Users/aprilcastaneda/Dropbox/_Classes/21_Winter/CS_467/Project_Folder/fma/data/genres/Rock/058333.mp3\n",
      "/Users/aprilcastaneda/Dropbox/_Classes/21_Winter/CS_467/Project_Folder/fma/data/fma_small/058/058052.mp3 /Users/aprilcastaneda/Dropbox/_Classes/21_Winter/CS_467/Project_Folder/fma/data/genres/Experimental/058052.mp3\n",
      "/Users/aprilcastaneda/Dropbox/_Classes/21_Winter/CS_467/Project_Folder/fma/data/fma_small/058/058053.mp3 /Users/aprilcastaneda/Dropbox/_Classes/21_Winter/CS_467/Project_Folder/fma/data/genres/Experimental/058053.mp3\n",
      "/Users/aprilcastaneda/Dropbox/_Classes/21_Winter/CS_467/Project_Folder/fma/data/fma_small/058/058334.mp3 /Users/aprilcastaneda/Dropbox/_Classes/21_Winter/CS_467/Project_Folder/fma/data/genres/Rock/058334.mp3\n",
      "/Users/aprilcastaneda/Dropbox/_Classes/21_Winter/CS_467/Project_Folder/fma/data/fma_small/058/058054.mp3 /Users/aprilcastaneda/Dropbox/_Classes/21_Winter/CS_467/Project_Folder/fma/data/genres/Experimental/058054.mp3\n",
      "/Users/aprilcastaneda/Dropbox/_Classes/21_Winter/CS_467/Project_Folder/fma/data/fma_small/058/058068.mp3 /Users/aprilcastaneda/Dropbox/_Classes/21_Winter/CS_467/Project_Folder/fma/data/genres/Experimental/058068.mp3\n",
      "/Users/aprilcastaneda/Dropbox/_Classes/21_Winter/CS_467/Project_Folder/fma/data/fma_small/058/058135.mp3 /Users/aprilcastaneda/Dropbox/_Classes/21_Winter/CS_467/Project_Folder/fma/data/genres/Folk/058135.mp3\n",
      "/Users/aprilcastaneda/Dropbox/_Classes/21_Winter/CS_467/Project_Folder/fma/data/fma_small/058/058542.mp3 /Users/aprilcastaneda/Dropbox/_Classes/21_Winter/CS_467/Project_Folder/fma/data/genres/Rock/058542.mp3\n",
      "/Users/aprilcastaneda/Dropbox/_Classes/21_Winter/CS_467/Project_Folder/fma/data/fma_small/058/058225.mp3 /Users/aprilcastaneda/Dropbox/_Classes/21_Winter/CS_467/Project_Folder/fma/data/genres/Rock/058225.mp3\n",
      "/Users/aprilcastaneda/Dropbox/_Classes/21_Winter/CS_467/Project_Folder/fma/data/fma_small/058/058543.mp3 /Users/aprilcastaneda/Dropbox/_Classes/21_Winter/CS_467/Project_Folder/fma/data/genres/Rock/058543.mp3\n",
      "/Users/aprilcastaneda/Dropbox/_Classes/21_Winter/CS_467/Project_Folder/fma/data/fma_small/058/058541.mp3 /Users/aprilcastaneda/Dropbox/_Classes/21_Winter/CS_467/Project_Folder/fma/data/genres/Rock/058541.mp3\n",
      "/Users/aprilcastaneda/Dropbox/_Classes/21_Winter/CS_467/Project_Folder/fma/data/fma_small/058/058540.mp3 /Users/aprilcastaneda/Dropbox/_Classes/21_Winter/CS_467/Project_Folder/fma/data/genres/Rock/058540.mp3\n",
      "/Users/aprilcastaneda/Dropbox/_Classes/21_Winter/CS_467/Project_Folder/fma/data/fma_small/058/058140.mp3 /Users/aprilcastaneda/Dropbox/_Classes/21_Winter/CS_467/Project_Folder/fma/data/genres/Folk/058140.mp3\n",
      "/Users/aprilcastaneda/Dropbox/_Classes/21_Winter/CS_467/Project_Folder/fma/data/fma_small/058/058169.mp3 /Users/aprilcastaneda/Dropbox/_Classes/21_Winter/CS_467/Project_Folder/fma/data/genres/Pop/058169.mp3\n",
      "/Users/aprilcastaneda/Dropbox/_Classes/21_Winter/CS_467/Project_Folder/fma/data/fma_small/058/058221.mp3 /Users/aprilcastaneda/Dropbox/_Classes/21_Winter/CS_467/Project_Folder/fma/data/genres/Rock/058221.mp3\n",
      "/Users/aprilcastaneda/Dropbox/_Classes/21_Winter/CS_467/Project_Folder/fma/data/fma_small/058/058341.mp3 /Users/aprilcastaneda/Dropbox/_Classes/21_Winter/CS_467/Project_Folder/fma/data/genres/Electronic/058341.mp3\n",
      "/Users/aprilcastaneda/Dropbox/_Classes/21_Winter/CS_467/Project_Folder/fma/data/fma_small/058/058173.mp3 /Users/aprilcastaneda/Dropbox/_Classes/21_Winter/CS_467/Project_Folder/fma/data/genres/Pop/058173.mp3\n",
      "/Users/aprilcastaneda/Dropbox/_Classes/21_Winter/CS_467/Project_Folder/fma/data/fma_small/058/058166.mp3 /Users/aprilcastaneda/Dropbox/_Classes/21_Winter/CS_467/Project_Folder/fma/data/genres/Pop/058166.mp3\n",
      "/Users/aprilcastaneda/Dropbox/_Classes/21_Winter/CS_467/Project_Folder/fma/data/fma_small/058/058212.mp3 /Users/aprilcastaneda/Dropbox/_Classes/21_Winter/CS_467/Project_Folder/fma/data/genres/Hip-Hop/058212.mp3\n",
      "/Users/aprilcastaneda/Dropbox/_Classes/21_Winter/CS_467/Project_Folder/fma/data/fma_small/058/058170.mp3 /Users/aprilcastaneda/Dropbox/_Classes/21_Winter/CS_467/Project_Folder/fma/data/genres/Pop/058170.mp3\n",
      "/Users/aprilcastaneda/Dropbox/_Classes/21_Winter/CS_467/Project_Folder/fma/data/fma_small/058/058164.mp3 /Users/aprilcastaneda/Dropbox/_Classes/21_Winter/CS_467/Project_Folder/fma/data/genres/Pop/058164.mp3\n",
      "/Users/aprilcastaneda/Dropbox/_Classes/21_Winter/CS_467/Project_Folder/fma/data/fma_small/058/058213.mp3 /Users/aprilcastaneda/Dropbox/_Classes/21_Winter/CS_467/Project_Folder/fma/data/genres/Hip-Hop/058213.mp3\n",
      "/Users/aprilcastaneda/Dropbox/_Classes/21_Winter/CS_467/Project_Folder/fma/data/fma_small/058/058207.mp3 /Users/aprilcastaneda/Dropbox/_Classes/21_Winter/CS_467/Project_Folder/fma/data/genres/Hip-Hop/058207.mp3\n",
      "/Users/aprilcastaneda/Dropbox/_Classes/21_Winter/CS_467/Project_Folder/fma/data/fma_small/058/058161.mp3 /Users/aprilcastaneda/Dropbox/_Classes/21_Winter/CS_467/Project_Folder/fma/data/genres/Pop/058161.mp3\n",
      "/Users/aprilcastaneda/Dropbox/_Classes/21_Winter/CS_467/Project_Folder/fma/data/fma_small/058/058174.mp3 /Users/aprilcastaneda/Dropbox/_Classes/21_Winter/CS_467/Project_Folder/fma/data/genres/Pop/058174.mp3\n",
      "/Users/aprilcastaneda/Dropbox/_Classes/21_Winter/CS_467/Project_Folder/fma/data/fma_small/058/058162.mp3 /Users/aprilcastaneda/Dropbox/_Classes/21_Winter/CS_467/Project_Folder/fma/data/genres/Pop/058162.mp3\n",
      "/Users/aprilcastaneda/Dropbox/_Classes/21_Winter/CS_467/Project_Folder/fma/data/fma_small/058/058215.mp3 /Users/aprilcastaneda/Dropbox/_Classes/21_Winter/CS_467/Project_Folder/fma/data/genres/Hip-Hop/058215.mp3\n",
      "/Users/aprilcastaneda/Dropbox/_Classes/21_Winter/CS_467/Project_Folder/fma/data/fma_small/058/058070.mp3 /Users/aprilcastaneda/Dropbox/_Classes/21_Winter/CS_467/Project_Folder/fma/data/genres/Experimental/058070.mp3\n",
      "/Users/aprilcastaneda/Dropbox/_Classes/21_Winter/CS_467/Project_Folder/fma/data/fma_small/058/058474.mp3 /Users/aprilcastaneda/Dropbox/_Classes/21_Winter/CS_467/Project_Folder/fma/data/genres/Pop/058474.mp3\n",
      "/Users/aprilcastaneda/Dropbox/_Classes/21_Winter/CS_467/Project_Folder/fma/data/fma_small/058/058116.mp3 /Users/aprilcastaneda/Dropbox/_Classes/21_Winter/CS_467/Project_Folder/fma/data/genres/Pop/058116.mp3\n",
      "/Users/aprilcastaneda/Dropbox/_Classes/21_Winter/CS_467/Project_Folder/fma/data/fma_small/058/058117.mp3 /Users/aprilcastaneda/Dropbox/_Classes/21_Winter/CS_467/Project_Folder/fma/data/genres/Pop/058117.mp3\n",
      "/Users/aprilcastaneda/Dropbox/_Classes/21_Winter/CS_467/Project_Folder/fma/data/fma_small/058/058063.mp3 /Users/aprilcastaneda/Dropbox/_Classes/21_Winter/CS_467/Project_Folder/fma/data/genres/Experimental/058063.mp3\n",
      "/Users/aprilcastaneda/Dropbox/_Classes/21_Winter/CS_467/Project_Folder/fma/data/fma_small/058/058539.mp3 /Users/aprilcastaneda/Dropbox/_Classes/21_Winter/CS_467/Project_Folder/fma/data/genres/Rock/058539.mp3\n",
      "/Users/aprilcastaneda/Dropbox/_Classes/21_Winter/CS_467/Project_Folder/fma/data/fma_small/058/058061.mp3 /Users/aprilcastaneda/Dropbox/_Classes/21_Winter/CS_467/Project_Folder/fma/data/genres/Experimental/058061.mp3\n",
      "/Users/aprilcastaneda/Dropbox/_Classes/21_Winter/CS_467/Project_Folder/fma/data/fma_small/058/058115.mp3 /Users/aprilcastaneda/Dropbox/_Classes/21_Winter/CS_467/Project_Folder/fma/data/genres/Pop/058115.mp3\n",
      "/Users/aprilcastaneda/Dropbox/_Classes/21_Winter/CS_467/Project_Folder/fma/data/fma_small/058/058060.mp3 /Users/aprilcastaneda/Dropbox/_Classes/21_Winter/CS_467/Project_Folder/fma/data/genres/Experimental/058060.mp3\n",
      "moved 3355 songs.\n"
     ]
    }
   ],
   "source": [
    "moved = 0\n",
    "# start counting genres\n",
    "print(song_paths)\n",
    "for i in range(len(song_paths)):\n",
    "    # load audio file\n",
    "    audiofile = eyed3.load(song_paths[i])\n",
    "    filename = song_paths[i][-10:]\n",
    "\n",
    "    # get genre and strip genre ID\n",
    "    song_genre = str(audiofile.tag.genre)\n",
    "    # will either be 0 or idx after (id)\n",
    "    end = song_genre.find(')') + 1\n",
    "    # for Romany(gypsy) genre\n",
    "    if end == len(song_genre):\n",
    "        end = 0\n",
    "    song_genre = song_genre[end:]\n",
    "\n",
    "    # change to top-level genre\n",
    "    song_genre = genre_lookup[parent_lookup[id_lookup[song_genre]]]\n",
    "\n",
    "    # fix for directory moving\n",
    "    if \"/\" in song_genre:\n",
    "        song_genre = song_genre.replace('/', '&')\n",
    "    \n",
    "    # rename and move files\n",
    "    new_path = a_path + \"/genres/\" + song_genre + \"/\" + filename\n",
    "    print(song_paths[i], new_path)\n",
    "    os.replace(song_paths[i], new_path)\n",
    "    moved += 1\n",
    "print('moved ' + str(moved) + ' songs.')"
   ]
  },
  {
   "cell_type": "code",
   "execution_count": null,
   "metadata": {},
   "outputs": [],
   "source": []
  }
 ]
}