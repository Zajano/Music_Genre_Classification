{
 "metadata": {
  "language_info": {
   "codemirror_mode": {
    "name": "ipython",
    "version": 3
   },
   "file_extension": ".py",
   "mimetype": "text/x-python",
   "name": "python",
   "nbconvert_exporter": "python",
   "pygments_lexer": "ipython3",
   "version": "3.8.7-final"
  },
  "orig_nbformat": 2,
  "kernelspec": {
   "name": "python3",
   "display_name": "Python 3.8.7 64-bit",
   "metadata": {
    "interpreter": {
     "hash": "7e85ec9bf098c5427e45e2f632dcd4eeff803b007e1abd287d600879388709c1"
    }
   }
  }
 },
 "nbformat": 4,
 "nbformat_minor": 2,
 "cells": [
  {
   "cell_type": "code",
   "execution_count": 22,
   "metadata": {},
   "outputs": [],
   "source": [
    "import ffmpeg\n",
    "import os\n",
    "from config import ape_path, wav_path\n",
    "from pydub import AudioSegment"
   ]
  },
  {
   "cell_type": "code",
   "execution_count": 39,
   "metadata": {},
   "outputs": [],
   "source": [
    "# Create genre subdirs in wav_path\n",
    "def create_genre_subdirs(root_dir, genre_dir):\n",
    "    genre_dirs = []\n",
    "    for file in os.scandir(root_dir):\n",
    "        if file.is_dir():\n",
    "            genre_dirs.append(file.name)\n",
    "    print(genre_dirs)\n",
    "    for genre in genre_dirs:\n",
    "        genre_path = os.path.join(genre_dir, genre)\n",
    "        if not os.path.exists(genre_path):\n",
    "            os.makedirs(genre_path)"
   ]
  },
  {
   "cell_type": "code",
   "execution_count": 24,
   "metadata": {},
   "outputs": [],
   "source": [
    "# Convert all .mp3 into .wav\n",
    "def convert_to_wav(genre_dir, genre_name):\n",
    "    for file in os.scandir(genre_dir):\n",
    "        # files\n",
    "        if not file.name.endswith('.mp3'):\n",
    "            continue\n",
    "        src = file\n",
    "        wav_name = file.name.split('.')[0] + '.wav'\n",
    "        dst = os.path.join(wav_path, genre_name, wav_name)\n",
    "\n",
    "        # convert wav to mp3                                                            \n",
    "        sound = AudioSegment.from_mp3(src)\n",
    "        sound.export(dst, format=\"wav\")"
   ]
  },
  {
   "cell_type": "code",
   "execution_count": 28,
   "metadata": {},
   "outputs": [],
   "source": [
    "def convert_to_wav_root(root_dir):\n",
    "    for file in os.scandir(root_dir):\n",
    "        if file.is_dir():\n",
    "            # Convert to wav\n",
    "            convert_to_wav(file, file.name)"
   ]
  },
  {
   "cell_type": "code",
   "execution_count": 40,
   "metadata": {},
   "outputs": [
    {
     "output_type": "stream",
     "name": "stdout",
     "text": [
      "['Hip-Hop', 'Trip-Hop', 'Ambient Electronic', 'Pop', 'Metal', 'Reggae', 'Electronic', 'Classical', 'Indie-Rock', 'Rock', 'Chiptune', 'Folk', 'Punk', 'Post-Rock', 'Country', 'Techno', 'Jazz', 'Psych-Rock']\n"
     ]
    }
   ],
   "source": [
    "create_genre_subdirs(ape_path, wav_path)"
   ]
  },
  {
   "cell_type": "code",
   "execution_count": 41,
   "metadata": {},
   "outputs": [],
   "source": [
    "convert_to_wav_root(ape_path)"
   ]
  },
  {
   "cell_type": "code",
   "execution_count": null,
   "metadata": {},
   "outputs": [],
   "source": []
  }
 ]
}